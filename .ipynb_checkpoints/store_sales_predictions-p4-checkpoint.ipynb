{
 "cells": [
  {
   "cell_type": "markdown",
   "id": "1ed59cb4",
   "metadata": {
    "hide_input": true
   },
   "source": [
    "# 0.0. Imports"
   ]
  },
  {
   "cell_type": "code",
   "execution_count": 1,
   "id": "ea57551d",
   "metadata": {
    "ExecuteTime": {
     "end_time": "2021-08-10T12:46:01.930713Z",
     "start_time": "2021-08-10T12:46:00.686222Z"
    }
   },
   "outputs": [
    {
     "ename": "ModuleNotFoundError",
     "evalue": "No module named 'sklearn'",
     "output_type": "error",
     "traceback": [
      "\u001b[0;31m---------------------------------------------------------------------------\u001b[0m",
      "\u001b[0;31mModuleNotFoundError\u001b[0m                       Traceback (most recent call last)",
      "\u001b[0;32m/tmp/ipykernel_8436/3054196017.py\u001b[0m in \u001b[0;36m<module>\u001b[0;34m\u001b[0m\n\u001b[1;32m     12\u001b[0m \u001b[0;34m\u001b[0m\u001b[0m\n\u001b[1;32m     13\u001b[0m \u001b[0;32mfrom\u001b[0m \u001b[0mscipy\u001b[0m \u001b[0;32mimport\u001b[0m \u001b[0mstats\u001b[0m\u001b[0;34m\u001b[0m\u001b[0;34m\u001b[0m\u001b[0m\n\u001b[0;32m---> 14\u001b[0;31m \u001b[0;32mimport\u001b[0m \u001b[0msklearn\u001b[0m\u001b[0;34m\u001b[0m\u001b[0;34m\u001b[0m\u001b[0m\n\u001b[0m",
      "\u001b[0;31mModuleNotFoundError\u001b[0m: No module named 'sklearn'"
     ]
    }
   ],
   "source": [
    "import pandas as pd\n",
    "import numpy as np\n",
    "import datetime\n",
    "import inflection\n",
    "import math\n",
    "\n",
    "import seaborn as sns\n",
    "\n",
    "from matplotlib import pyplot as plt\n",
    "import matplotlib.gridspec as gridspec\n",
    "from IPython.display import Image\n",
    "\n",
    "from scipy import stats\n",
    "import sklearn"
   ]
  },
  {
   "cell_type": "code",
   "execution_count": null,
   "id": "72667288",
   "metadata": {
    "ExecuteTime": {
     "end_time": "2021-08-10T12:31:05.021078Z",
     "start_time": "2021-08-10T12:31:05.021060Z"
    }
   },
   "outputs": [],
   "source": [
    "# setting seaborn figure sizes to occupy the whole screen\n",
    "sns.set(rc={'figure.figsize':(20, 12)})"
   ]
  },
  {
   "cell_type": "markdown",
   "id": "a8053018",
   "metadata": {},
   "source": [
    "## 0.1. Helper functions"
   ]
  },
  {
   "cell_type": "code",
   "execution_count": null,
   "id": "3151a74e",
   "metadata": {
    "ExecuteTime": {
     "end_time": "2021-08-10T12:31:05.023819Z",
     "start_time": "2021-08-10T12:31:05.023778Z"
    }
   },
   "outputs": [],
   "source": [
    "# cramer's v test on wikipedia in case of any refreshment, same name of variables as there\n",
    "# cramer's v goes from 0, as no relation, to 1, maximum relation\n",
    "\n",
    "def cramer_v( x, y ):\n",
    "    contigency = pd.crosstab( x, y ).values\n",
    "    n = contigency.sum()\n",
    "    r, k = contigency.shape\n",
    "    \n",
    "    # take only the first result\n",
    "    chi2 = stats.chi2_contingency( contigency )[0]\n",
    "    chi2corr = max( 0, chi2 - ((k-1)*(r-1)/(n-1)) )\n",
    "    \n",
    "    kcorr = k - (k-1)**2/(n-1)\n",
    "    rcorr = r - (r-1)**2/(n-1)\n",
    "    \n",
    "    return np.sqrt( (chi2corr/n) / (min( kcorr-1, rcorr-1)))    "
   ]
  },
  {
   "cell_type": "markdown",
   "id": "10eac07d",
   "metadata": {
    "heading_collapsed": true
   },
   "source": [
    "## 0.2. Loading data"
   ]
  },
  {
   "cell_type": "code",
   "execution_count": null,
   "id": "2f0fcdfd",
   "metadata": {
    "ExecuteTime": {
     "end_time": "2021-08-10T12:31:05.026486Z",
     "start_time": "2021-08-10T12:31:05.026442Z"
    },
    "hidden": true
   },
   "outputs": [],
   "source": [
    "df_sales_raw = pd.read_csv(\"data/train.csv\", low_memory=False)\n",
    "df_store_raw = pd.read_csv(\"data/store.csv\", low_memory=False)\n",
    "\n",
    "# merge df's\n",
    "df_raw = df_sales_raw.merge(df_store_raw, how=\"left\", on=\"Store\")"
   ]
  },
  {
   "cell_type": "code",
   "execution_count": null,
   "id": "ba77b130",
   "metadata": {
    "ExecuteTime": {
     "end_time": "2021-08-10T12:31:05.028300Z",
     "start_time": "2021-08-10T12:31:05.028268Z"
    },
    "hidden": true
   },
   "outputs": [],
   "source": [
    "df_raw.head()"
   ]
  },
  {
   "cell_type": "code",
   "execution_count": null,
   "id": "e6180abe",
   "metadata": {
    "ExecuteTime": {
     "end_time": "2021-08-10T12:31:05.031254Z",
     "start_time": "2021-08-10T12:31:05.031221Z"
    },
    "hidden": true
   },
   "outputs": [],
   "source": [
    "df_raw.sample(5)"
   ]
  },
  {
   "cell_type": "code",
   "execution_count": null,
   "id": "c87b13c4",
   "metadata": {
    "hidden": true
   },
   "outputs": [],
   "source": []
  },
  {
   "cell_type": "code",
   "execution_count": null,
   "id": "12d22396",
   "metadata": {
    "hidden": true
   },
   "outputs": [],
   "source": []
  },
  {
   "cell_type": "code",
   "execution_count": null,
   "id": "079344e7",
   "metadata": {
    "hidden": true
   },
   "outputs": [],
   "source": []
  },
  {
   "cell_type": "markdown",
   "id": "82ec06f9",
   "metadata": {
    "heading_collapsed": true
   },
   "source": [
    "# 1.0. Data description"
   ]
  },
  {
   "cell_type": "markdown",
   "id": "ba27e14a",
   "metadata": {
    "heading_collapsed": true,
    "hidden": true
   },
   "source": [
    "## 1.1. Rename Columns"
   ]
  },
  {
   "cell_type": "code",
   "execution_count": null,
   "id": "2ccccafb",
   "metadata": {
    "ExecuteTime": {
     "end_time": "2021-08-10T12:31:05.033517Z",
     "start_time": "2021-08-10T12:31:05.033478Z"
    },
    "hidden": true
   },
   "outputs": [],
   "source": [
    "df1 = df_raw.copy()"
   ]
  },
  {
   "cell_type": "code",
   "execution_count": null,
   "id": "3e8518a9",
   "metadata": {
    "ExecuteTime": {
     "end_time": "2021-08-10T12:31:05.036257Z",
     "start_time": "2021-08-10T12:31:05.036203Z"
    },
    "hidden": true
   },
   "outputs": [],
   "source": [
    "df1.columns"
   ]
  },
  {
   "cell_type": "code",
   "execution_count": null,
   "id": "0736a405",
   "metadata": {
    "ExecuteTime": {
     "end_time": "2021-08-10T12:31:05.039235Z",
     "start_time": "2021-08-10T12:31:05.039188Z"
    },
    "hidden": true
   },
   "outputs": [],
   "source": [
    "cols_old = ['Store', 'DayOfWeek', 'Date', 'Sales', 'Customers', 'Open', 'Promo',\n",
    "       'StateHoliday', 'SchoolHoliday', 'StoreType', 'Assortment',\n",
    "       'CompetitionDistance', 'CompetitionOpenSinceMonth',\n",
    "       'CompetitionOpenSinceYear', 'Promo2', 'Promo2SinceWeek',\n",
    "       'Promo2SinceYear', 'PromoInterval']\n",
    "snakecase = lambda x: inflection.underscore(x)\n",
    "\n",
    "# map returns an iterable, so it must be transformed into a list\n",
    "cols_new = list( map( snakecase, cols_old ) )\n",
    "\n",
    "# rename\n",
    "df1.columns = cols_new\n",
    "df1.columns"
   ]
  },
  {
   "cell_type": "markdown",
   "id": "8fa0313a",
   "metadata": {
    "heading_collapsed": true,
    "hidden": true
   },
   "source": [
    "## 1.2. Data Dimensions"
   ]
  },
  {
   "cell_type": "code",
   "execution_count": null,
   "id": "702ffe10",
   "metadata": {
    "ExecuteTime": {
     "end_time": "2021-08-10T12:31:05.041956Z",
     "start_time": "2021-08-10T12:31:05.041913Z"
    },
    "hidden": true
   },
   "outputs": [],
   "source": [
    "# shape gives the number of rows and columns, [] are selection wich element\n",
    "print( f\"number of Rows {df1.shape[0]}\" )\n",
    "print( f\"number of Cols {df1.shape[1]}\" )"
   ]
  },
  {
   "cell_type": "markdown",
   "id": "62390d65",
   "metadata": {
    "heading_collapsed": true,
    "hidden": true
   },
   "source": [
    "## 1.3. Data Types"
   ]
  },
  {
   "cell_type": "code",
   "execution_count": null,
   "id": "26db5196",
   "metadata": {
    "ExecuteTime": {
     "end_time": "2021-08-10T12:31:05.045004Z",
     "start_time": "2021-08-10T12:31:05.044955Z"
    },
    "hidden": true
   },
   "outputs": [],
   "source": [
    "df1.dtypes"
   ]
  },
  {
   "cell_type": "code",
   "execution_count": null,
   "id": "ab803765",
   "metadata": {
    "ExecuteTime": {
     "end_time": "2021-08-10T12:31:05.047517Z",
     "start_time": "2021-08-10T12:31:05.047469Z"
    },
    "hidden": true
   },
   "outputs": [],
   "source": [
    "# change date col type from object to datetime64\n",
    "df1[\"date\"] = pd.to_datetime( df1[\"date\"] )\n",
    "\n",
    "df1.dtypes"
   ]
  },
  {
   "cell_type": "markdown",
   "id": "9e787c6a",
   "metadata": {
    "heading_collapsed": true,
    "hidden": true
   },
   "source": [
    "## 1.4. Check NA"
   ]
  },
  {
   "cell_type": "code",
   "execution_count": null,
   "id": "4fe0825b",
   "metadata": {
    "ExecuteTime": {
     "end_time": "2021-08-10T12:31:05.051868Z",
     "start_time": "2021-08-10T12:31:05.051764Z"
    },
    "hidden": true
   },
   "outputs": [],
   "source": [
    "# .isna substitutes every value according to: value = na -> true, value != na -> false\n",
    "# .sum in this case adds all the trues\n",
    "df1.isna().sum()"
   ]
  },
  {
   "cell_type": "markdown",
   "id": "1438b576",
   "metadata": {
    "heading_collapsed": true,
    "hidden": true
   },
   "source": [
    "## 1.5. Fill NA"
   ]
  },
  {
   "cell_type": "markdown",
   "id": "51e32c65",
   "metadata": {
    "hidden": true
   },
   "source": [
    "There are 3 different ways to handle NA's  \n",
    "    1 - Delete every row that has one  \n",
    "        Downside: it loses a lot of valuable data alongside  \n",
    "    2 - Use Machine Learning algorithms to predict wich values wold be in NA places  \n",
    "    3 - Understand the business"
   ]
  },
  {
   "cell_type": "markdown",
   "id": "faef667b",
   "metadata": {
    "ExecuteTime": {
     "end_time": "2021-07-23T22:58:53.662447Z",
     "start_time": "2021-07-23T22:58:53.657692Z"
    },
    "heading_collapsed": true,
    "hidden": true
   },
   "source": [
    "### 1.5.1 competition_distance"
   ]
  },
  {
   "cell_type": "markdown",
   "id": "255effd8",
   "metadata": {
    "hidden": true
   },
   "source": [
    "in this case I am using the third approach writen abbove:  \n",
    "if there is an NA it is because there's no competition nearby  \n",
    "therefore I will substitute every NA by a very large value, much greater than the max natural value"
   ]
  },
  {
   "cell_type": "code",
   "execution_count": null,
   "id": "7693b712",
   "metadata": {
    "ExecuteTime": {
     "end_time": "2021-08-10T12:31:05.056008Z",
     "start_time": "2021-08-10T12:31:05.055963Z"
    },
    "hidden": true
   },
   "outputs": [],
   "source": [
    "\n",
    "df1[\"competition_distance\"].max()\n"
   ]
  },
  {
   "cell_type": "code",
   "execution_count": null,
   "id": "7dc8b28a",
   "metadata": {
    "ExecuteTime": {
     "end_time": "2021-08-10T12:31:05.061684Z",
     "start_time": "2021-08-10T12:31:05.061641Z"
    },
    "hidden": true
   },
   "outputs": [],
   "source": [
    "df1[\"competition_distance\"] = df1[\"competition_distance\"].apply( lambda x: 200000.0 if math.isnan(x) else x )\n",
    "\n",
    "df1[\"competition_distance\"].max()"
   ]
  },
  {
   "cell_type": "markdown",
   "id": "a36e981f",
   "metadata": {
    "heading_collapsed": true,
    "hidden": true
   },
   "source": [
    "### 1.5.2 competition_open_since_month"
   ]
  },
  {
   "cell_type": "markdown",
   "id": "3381b802",
   "metadata": {
    "hidden": true
   },
   "source": [
    "In this particular case, with the engeneering future process in mind, I will take into account that this date is going to show how the stores were impacted by the opening of competidors.  \n",
    "This NA might exist because there is no competition around the store or that there is competition but there is really no data regarding it's opening.  \n",
    "I am going to substitute the NA by the month that the store itself opened, not the competidor. It is an artifitial substitution, but is a try. I am going to know if this works in the end, looking at the model created by the machine learnig algorithm. If it does not wields a good result, it is OK, I am going to try to make something different, that's just a beginning"
   ]
  },
  {
   "cell_type": "code",
   "execution_count": null,
   "id": "f1b460af",
   "metadata": {
    "ExecuteTime": {
     "end_time": "2021-08-10T12:31:05.065264Z",
     "start_time": "2021-08-10T12:31:05.065133Z"
    },
    "hidden": true
   },
   "outputs": [],
   "source": [
    "\n",
    "df1[\"competition_open_since_month\"] = df1.apply( lambda x: x[\"date\"].month if math.isnan(x[\"competition_open_since_month\"]) else x[\"competition_open_since_month\"], axis=1 )\n"
   ]
  },
  {
   "cell_type": "markdown",
   "id": "0a7e6e15",
   "metadata": {
    "heading_collapsed": true,
    "hidden": true
   },
   "source": [
    "### 1.5.3 competition_open_since_year"
   ]
  },
  {
   "cell_type": "markdown",
   "id": "0f8fe7df",
   "metadata": {
    "hidden": true
   },
   "source": [
    "Same principle as in the previous section"
   ]
  },
  {
   "cell_type": "code",
   "execution_count": null,
   "id": "637ce951",
   "metadata": {
    "ExecuteTime": {
     "end_time": "2021-08-10T12:31:05.068572Z",
     "start_time": "2021-08-10T12:31:05.068535Z"
    },
    "hidden": true
   },
   "outputs": [],
   "source": [
    "\n",
    "df1[\"competition_open_since_year\"] = df1.apply( lambda x: x[\"date\"].year if math.isnan(x[\"competition_open_since_year\"]) else x[\"competition_open_since_year\"], axis=1 )\n"
   ]
  },
  {
   "cell_type": "markdown",
   "id": "622dfe13",
   "metadata": {
    "heading_collapsed": true,
    "hidden": true
   },
   "source": [
    "### 1.5.4 promo2_since_week"
   ]
  },
  {
   "cell_type": "markdown",
   "id": "15a74bf8",
   "metadata": {
    "hidden": true
   },
   "source": [
    "Same as previous sections"
   ]
  },
  {
   "cell_type": "code",
   "execution_count": null,
   "id": "c866e261",
   "metadata": {
    "ExecuteTime": {
     "end_time": "2021-08-10T12:31:05.071089Z",
     "start_time": "2021-08-10T12:31:05.071050Z"
    },
    "hidden": true
   },
   "outputs": [],
   "source": [
    "\n",
    "df1[\"promo2_since_week\"] = df1.apply( lambda x: x[\"date\"].week if math.isnan(x[\"promo2_since_week\"]) else x[\"promo2_since_week\"], axis=1 )\n"
   ]
  },
  {
   "cell_type": "markdown",
   "id": "b591486b",
   "metadata": {
    "heading_collapsed": true,
    "hidden": true
   },
   "source": [
    "### 1.5.5 promo2_since_year"
   ]
  },
  {
   "cell_type": "markdown",
   "id": "1abcd5cf",
   "metadata": {
    "hidden": true
   },
   "source": [
    "Same as previous sections"
   ]
  },
  {
   "cell_type": "code",
   "execution_count": null,
   "id": "254ec814",
   "metadata": {
    "ExecuteTime": {
     "end_time": "2021-08-10T12:31:05.073913Z",
     "start_time": "2021-08-10T12:31:05.073878Z"
    },
    "hidden": true
   },
   "outputs": [],
   "source": [
    "\n",
    "df1[\"promo2_since_year\"] = df1.apply( lambda x: x[\"date\"].year if math.isnan(x[\"promo2_since_year\"]) else x[\"promo2_since_year\"], axis=1 )\n"
   ]
  },
  {
   "cell_type": "markdown",
   "id": "a934967b",
   "metadata": {
    "ExecuteTime": {
     "end_time": "2021-07-28T14:18:50.276128Z",
     "start_time": "2021-07-28T14:18:50.276086Z"
    },
    "heading_collapsed": true,
    "hidden": true
   },
   "source": [
    "### 1.5.6 promo_interval"
   ]
  },
  {
   "cell_type": "markdown",
   "id": "92fc87ed",
   "metadata": {
    "hidden": true
   },
   "source": [
    "Is a string containing months that have fixed promotions.  \n",
    "To use this information better I am going to create a helper column, curr_month, and a new column is_promo2 that tells me if any promo2 is active in the current month. To remove the NA's in promo_interval I am simply going to substitute them for 0"
   ]
  },
  {
   "cell_type": "code",
   "execution_count": null,
   "id": "0c86ad11",
   "metadata": {
    "ExecuteTime": {
     "end_time": "2021-08-10T12:31:05.076186Z",
     "start_time": "2021-08-10T12:31:05.076154Z"
    },
    "hidden": true
   },
   "outputs": [],
   "source": [
    "# substitute all na's by 0 not returning anything (inplace=True) to make the subsequent comparison easier\n",
    "df1[\"promo_interval\"].fillna(0, inplace=True)\n",
    "\n",
    "# create a map that will help trace each month to it's correspondent name abreviation\n",
    "month_map = {1: \"Jan\", 2: \"Feb\", 3: \"Mar\", 4: \"Apr\", 5: \"May\", 6: \"Jun\", 7: \"Jul\", 8: \"Aug\", 9: \"Sep\", 8: \"Oct\", 9: \"Nov\", 10: \"Dec\", 11: \"Nov\", 12: \"Dec\"}\n",
    "\n",
    "# make a column that shows the current mont name, not number\n",
    "df1[\"curr_month\"] = df1[\"date\"].dt.month.map( month_map )\n",
    "\n",
    "# helper function that will be given to apply\n",
    "def in_promo_interval(x):\n",
    "    if x[\"promo_interval\"] == 0:\n",
    "        return 0\n",
    "    elif x[\"curr_month\"] in x[\"promo_interval\"].split(\",\"):\n",
    "        return 1\n",
    "    else:\n",
    "        return 0\n",
    "\n",
    "# is_curr_in_promo2 will tell if there is a promo2 going on the current date, axis=1 to apply by row in all columns\n",
    "df1[\"is_curr_in_promo2\"] = df1[[\"promo_interval\", \"curr_month\"]].apply(in_promo_interval, axis=1)\n"
   ]
  },
  {
   "cell_type": "code",
   "execution_count": null,
   "id": "aab05362",
   "metadata": {
    "ExecuteTime": {
     "end_time": "2021-08-10T12:31:05.079390Z",
     "start_time": "2021-08-10T12:31:05.079340Z"
    },
    "hidden": true
   },
   "outputs": [],
   "source": [
    "df1.isna().sum()"
   ]
  },
  {
   "cell_type": "markdown",
   "id": "e94b9dc7",
   "metadata": {
    "heading_collapsed": true,
    "hidden": true
   },
   "source": [
    "## 1.6. Change types"
   ]
  },
  {
   "cell_type": "code",
   "execution_count": null,
   "id": "e5fac0ae",
   "metadata": {
    "ExecuteTime": {
     "end_time": "2021-08-10T12:31:05.081749Z",
     "start_time": "2021-08-10T12:31:05.081700Z"
    },
    "hidden": true
   },
   "outputs": [],
   "source": [
    "# every time you perform actions that change the data on the dataframe it is worthy to take another look at the\n",
    "# types\n",
    "df1.dtypes"
   ]
  },
  {
   "cell_type": "code",
   "execution_count": null,
   "id": "6f1e8512",
   "metadata": {
    "ExecuteTime": {
     "end_time": "2021-08-10T12:31:05.086354Z",
     "start_time": "2021-08-10T12:31:05.086318Z"
    },
    "hidden": true
   },
   "outputs": [],
   "source": [
    "# change float64 to int\n",
    "df1[\"competition_open_since_month\"] = df1[\"competition_open_since_month\"].astype( int )\n",
    "df1[\"competition_open_since_year\"] = df1[\"competition_open_since_year\"].astype( int )\n",
    "df1[\"promo2_since_week\"] = df1[\"promo2_since_week\"].astype( int )\n",
    "df1[\"promo2_since_year\"] = df1[\"promo2_since_year\"].astype( int )"
   ]
  },
  {
   "cell_type": "code",
   "execution_count": null,
   "id": "fdd6106d",
   "metadata": {
    "ExecuteTime": {
     "end_time": "2021-08-10T12:31:05.088705Z",
     "start_time": "2021-08-10T12:31:05.088658Z"
    },
    "hidden": true
   },
   "outputs": [],
   "source": [
    "df1.dtypes"
   ]
  },
  {
   "cell_type": "markdown",
   "id": "793c530b",
   "metadata": {
    "heading_collapsed": true,
    "hidden": true
   },
   "source": [
    "## 1.7. Descriptive Statistics"
   ]
  },
  {
   "cell_type": "code",
   "execution_count": null,
   "id": "42df4512",
   "metadata": {
    "ExecuteTime": {
     "end_time": "2021-08-10T12:31:05.091342Z",
     "start_time": "2021-08-10T12:31:05.091300Z"
    },
    "hidden": true
   },
   "outputs": [],
   "source": [
    "# divide numerical variables from categorical\n",
    "num_attributes = df1.select_dtypes( include=[\"int64\", \"float64\"] )\n",
    "cat_attributes = df1.select_dtypes( exclude=[\"int64\", \"float64\", \"datetime64[ns]\"] )"
   ]
  },
  {
   "cell_type": "markdown",
   "id": "2c3801fd",
   "metadata": {
    "heading_collapsed": true,
    "hidden": true
   },
   "source": [
    "### 1.7.1. Numerical attributes"
   ]
  },
  {
   "cell_type": "code",
   "execution_count": null,
   "id": "e1fe4745",
   "metadata": {
    "ExecuteTime": {
     "end_time": "2021-08-10T12:31:05.095197Z",
     "start_time": "2021-08-10T12:31:05.095163Z"
    },
    "hidden": true
   },
   "outputs": [],
   "source": [
    "# Central Tendency - mean, median\n",
    "ct1 = pd.DataFrame( num_attributes.apply( np.mean ) ).T\n",
    "ct2 = pd.DataFrame( num_attributes.apply( np.median ) ).T\n",
    "\n",
    "# Dispersiom - std, min, max, range, skew, kurtosis\n",
    "# skew is how much skewed is a graph in relation to a normal distribution\n",
    "# kurtosis is how concentrated or not are the values - high values => more concentrated => sharper peak\n",
    "d1 = pd.DataFrame( num_attributes.apply( np.std ) ).T\n",
    "d2 = pd.DataFrame( num_attributes.apply( min ) ).T\n",
    "d3 = pd.DataFrame( num_attributes.apply( max ) ).T\n",
    "d4 = pd.DataFrame( num_attributes.apply(lambda x: x.max() - x.min() ) ).T\n",
    "d5 = pd.DataFrame( num_attributes.apply(lambda x: x.skew() ) ).T\n",
    "d6 = pd.DataFrame( num_attributes.apply(lambda x: x.kurtosis() ) ).T\n",
    "\n",
    "m = pd.concat([d2, d3, d4, ct1, ct2, d1, d5, d6]).T.reset_index()\n",
    "m.columns = [\"attributes\", \"min\", \"max\", \"range\", \"mean\", \"median\", \"std\", \"skew\", \"kurtosis\"]\n",
    "\n",
    "m"
   ]
  },
  {
   "cell_type": "code",
   "execution_count": null,
   "id": "3a8a0a78",
   "metadata": {
    "ExecuteTime": {
     "end_time": "2021-08-10T12:31:05.098680Z",
     "start_time": "2021-08-10T12:31:05.098552Z"
    },
    "hidden": true
   },
   "outputs": [],
   "source": [
    "# notice that the huge kurtosis indicates that there is a big peak in the graph\n",
    "# and that the great positive skew indicates that there is a deformation to the right\n",
    "\n",
    "cd_plot = sns.histplot( df1[\"competition_distance\"], kde=True )\n"
   ]
  },
  {
   "cell_type": "markdown",
   "id": "a7218f4d",
   "metadata": {
    "heading_collapsed": true,
    "hidden": true
   },
   "source": [
    "### 1.7.2 Categorical attributes"
   ]
  },
  {
   "cell_type": "code",
   "execution_count": null,
   "id": "60addd3b",
   "metadata": {
    "ExecuteTime": {
     "end_time": "2021-08-10T12:31:05.101115Z",
     "start_time": "2021-08-10T12:31:05.101081Z"
    },
    "hidden": true
   },
   "outputs": [],
   "source": [
    "# how many unique attributes\n",
    "cat_attributes.apply(lambda x: x.unique().shape[0])"
   ]
  },
  {
   "cell_type": "code",
   "execution_count": null,
   "id": "9b09b2b2",
   "metadata": {
    "ExecuteTime": {
     "end_time": "2021-08-10T12:31:05.103395Z",
     "start_time": "2021-08-10T12:31:05.103357Z"
    },
    "hidden": true
   },
   "outputs": [],
   "source": [
    "# filtering out the days that had not have holidays (0) and the sales that were 0, the data that happend in days\n",
    "# that the stores were closed, possibly that closed during the holiday\n",
    "aux1 = df1[(df1[\"state_holiday\"] != \"0\") & (df1[\"sales\"] > 0)]\n",
    "\n",
    "# plt.subplot to separete the screen and 1, 3, 1 => 1 line, 3 columns, this one in the first position\n",
    "plt.subplot(1, 3, 1)\n",
    "sns.boxplot( x=\"state_holiday\", y=\"sales\", data=aux1)\n",
    "\n",
    "plt.subplot(1, 3, 2)\n",
    "sns.boxplot( x=\"store_type\", y=\"sales\", data=aux1)\n",
    "\n",
    "plt.subplot(1, 3, 3)\n",
    "sns.boxplot( x=\"assortment\", y=\"sales\", data=aux1)"
   ]
  },
  {
   "cell_type": "markdown",
   "id": "0d12e9e2",
   "metadata": {
    "heading_collapsed": true
   },
   "source": [
    "# 2.0. Feature Engineering"
   ]
  },
  {
   "cell_type": "markdown",
   "id": "32fe37ef",
   "metadata": {
    "heading_collapsed": true,
    "hidden": true
   },
   "source": [
    "## 2.1.1 Hypothesis mind map"
   ]
  },
  {
   "cell_type": "code",
   "execution_count": null,
   "id": "4a610020",
   "metadata": {
    "ExecuteTime": {
     "end_time": "2021-08-10T12:31:05.105672Z",
     "start_time": "2021-08-10T12:31:05.105631Z"
    },
    "hidden": true
   },
   "outputs": [],
   "source": [
    "Image( \"imgs/mindmap_store_sales.png\" )"
   ]
  },
  {
   "cell_type": "markdown",
   "id": "790911bc",
   "metadata": {
    "hidden": true
   },
   "source": [
    "Having the mind map, the next step is formulating hypothesis  \n",
    "Hypothesis are bets, that may or may not be validated through data"
   ]
  },
  {
   "cell_type": "markdown",
   "id": "79e19508",
   "metadata": {
    "ExecuteTime": {
     "end_time": "2021-08-02T13:44:59.265404Z",
     "start_time": "2021-08-02T13:44:59.261726Z"
    },
    "heading_collapsed": true,
    "hidden": true
   },
   "source": [
    "## 2.2. Hypothesis creation"
   ]
  },
  {
   "cell_type": "markdown",
   "id": "59ebd41d",
   "metadata": {
    "hidden": true
   },
   "source": [
    "These hypothesis are not implying in cause and effect, it is a correlation.\n",
    "\n",
    "If you increase the size of a store, not necessarily you will increase sales, beacause there are many factors, including store size that are influencing in the sales level\n",
    "\n",
    "And that is why we are trying to map all the attributes thare are influencing here"
   ]
  },
  {
   "cell_type": "markdown",
   "id": "ded5bcb1",
   "metadata": {
    "heading_collapsed": true,
    "hidden": true
   },
   "source": [
    "### 2.2.1 Hypothesis related to stores"
   ]
  },
  {
   "cell_type": "markdown",
   "id": "4aa37106",
   "metadata": {
    "hidden": true
   },
   "source": [
    "**1.** Stores with larger staff should sell more\n",
    "\n",
    "**2.** Stores with larger stock should sell more (stock is not only the part that is kept in storage, away from the public, but what is exposed as well)\n",
    "\n",
    "**3.** Larger stores should sell more\n",
    "\n",
    "**4.** Stores with larger assorment should sell more (greater variety in products, a client can come to buy something and ending up buying something else as well)\n",
    "\n",
    "**5.** Stores with close competitors should sell less\n",
    "\n",
    "**6.** Stores with longer-term competitors should sell more"
   ]
  },
  {
   "cell_type": "markdown",
   "id": "a4a2848d",
   "metadata": {
    "heading_collapsed": true,
    "hidden": true
   },
   "source": [
    "### 2.2.2 Hypothesis related to product"
   ]
  },
  {
   "cell_type": "markdown",
   "id": "2909749f",
   "metadata": {
    "hidden": true
   },
   "source": [
    "**1.** Stores investing more in marketing should sell more\n",
    "\n",
    "**2.** Stores displaying more products in the showcase should sell more\n",
    "\n",
    "**3.** Stores with lower prices for the same product should sell more\n",
    "\n",
    "**4.** Stores with more aggresive promotions should sell more (cheaper product)\n",
    "\n",
    "**5.** Stores with longer sales (promotions) periods should sell more\n",
    "\n",
    "**6.** Stores with longer sales consecutive days should sell more\n",
    "\n",
    "**7.** Stores with more consecutive sales periods should sell more"
   ]
  },
  {
   "cell_type": "markdown",
   "id": "68845919",
   "metadata": {
    "heading_collapsed": true,
    "hidden": true
   },
   "source": [
    "### 2.2.3 Hypothesis related to time (seasonality)"
   ]
  },
  {
   "cell_type": "markdown",
   "id": "f0272f10",
   "metadata": {
    "hidden": true
   },
   "source": [
    "**1.** Stores that open during the christmas holiday should sell more\n",
    "\n",
    "**2.** Stores should sell more along the years \n",
    "\n",
    "**3.** Stores should sell more during the last half of the year\n",
    "\n",
    "**4.** Stores should sell more after the tenth day of the month \n",
    "\n",
    "**5.** Stores should sell less on weekends\n",
    "\n",
    "**6.** Stores should sell less on school holidays"
   ]
  },
  {
   "cell_type": "markdown",
   "id": "210bb0ac",
   "metadata": {
    "heading_collapsed": true,
    "hidden": true
   },
   "source": [
    "## 2.4. Final hypothesis list - priorities"
   ]
  },
  {
   "cell_type": "markdown",
   "id": "547b7ec3",
   "metadata": {
    "hidden": true
   },
   "source": [
    "The priority is given by the availability of the data.\n",
    "\n",
    "If you already have the data in the table, test the hypothesis.\n",
    "\n",
    "If the machine learning algorithm is not perfoming well or the hypothesis is very relevant you can comeback in the next cicle and look for the missing data for these hypothesis"
   ]
  },
  {
   "cell_type": "markdown",
   "id": "bf051a83",
   "metadata": {
    "heading_collapsed": true,
    "hidden": true
   },
   "source": [
    "### 2.4.1 Store hypothesis "
   ]
  },
  {
   "cell_type": "markdown",
   "id": "3799b782",
   "metadata": {
    "hidden": true
   },
   "source": [
    "**1.** Stores with larger assorment should sell more (greater variety in products, a client can come to buy something and ending up buying something else as well)\n",
    "\n",
    "**2.** Stores with close competitors should sell less\n",
    "\n",
    "**3.** Stores with longer-term competitors should sell more"
   ]
  },
  {
   "cell_type": "markdown",
   "id": "8470df91",
   "metadata": {
    "heading_collapsed": true,
    "hidden": true
   },
   "source": [
    "### 2.4.1 Product hypothesis "
   ]
  },
  {
   "cell_type": "markdown",
   "id": "28a92675",
   "metadata": {
    "hidden": true
   },
   "source": [
    "**1.** Stores with longer sales (promotions) periods should sell more\n",
    "\n",
    "**2.** Stores with longer sales consecutive days should sell more\n",
    "\n",
    "**3.** Stores with more consecutive sales periods should sell more"
   ]
  },
  {
   "cell_type": "markdown",
   "id": "57090fab",
   "metadata": {
    "heading_collapsed": true,
    "hidden": true
   },
   "source": [
    "### 2.4.1 Time hypothesis "
   ]
  },
  {
   "cell_type": "markdown",
   "id": "ff7be1a1",
   "metadata": {
    "hidden": true
   },
   "source": [
    "**1.** Stores that open during the christmas holiday should sell more\n",
    "\n",
    "**2.** Stores should sell more along the years \n",
    "\n",
    "**3.** Stores should sell more during the last half of the year\n",
    "\n",
    "**4.** Stores should sell more after the tenth day of the month \n",
    "\n",
    "**5.** Stores should sell less on weekends\n",
    "\n",
    "**6.** Stores should sell less on school holidays"
   ]
  },
  {
   "cell_type": "markdown",
   "id": "d7c78bed",
   "metadata": {
    "heading_collapsed": true,
    "hidden": true
   },
   "source": [
    "## 2.5. Feature Engineering"
   ]
  },
  {
   "cell_type": "markdown",
   "id": "88233bb8",
   "metadata": {
    "hidden": true
   },
   "source": [
    "Creating variables/columns for future processing, foreseeing future variables needs"
   ]
  },
  {
   "cell_type": "code",
   "execution_count": null,
   "id": "3c74a7db",
   "metadata": {
    "ExecuteTime": {
     "end_time": "2021-08-10T12:31:05.107889Z",
     "start_time": "2021-08-10T12:31:05.107850Z"
    },
    "hidden": true
   },
   "outputs": [],
   "source": [
    "df2 = df1.copy()"
   ]
  },
  {
   "cell_type": "code",
   "execution_count": null,
   "id": "17863d51",
   "metadata": {
    "ExecuteTime": {
     "end_time": "2021-08-10T12:31:05.110113Z",
     "start_time": "2021-08-10T12:31:05.110076Z"
    },
    "hidden": true
   },
   "outputs": [],
   "source": [
    "df2.sample(5).T"
   ]
  },
  {
   "cell_type": "code",
   "execution_count": null,
   "id": "1b86de07",
   "metadata": {
    "ExecuteTime": {
     "end_time": "2021-08-10T12:31:05.115778Z",
     "start_time": "2021-08-10T12:31:05.115741Z"
    },
    "hidden": true
   },
   "outputs": [],
   "source": [
    "# YEAR\n",
    "df2[\"year\"] = df2[\"date\"].dt.year\n",
    "\n",
    "# MONTH\n",
    "df2[\"month\"] = df2[\"date\"].dt.month\n",
    "\n",
    "# DAY\n",
    "df2[\"day\"] = df2[\"date\"].dt.day\n",
    "\n",
    "# WEEK OF YEAR\n",
    "df2[\"week_of_year\"] = df2[\"date\"].dt.isocalendar().week\n",
    "\n",
    "# YEAR WEEK - just a date format (2015-30)\n",
    "df2[\"year_week\"] = df2[\"date\"].dt.strftime(\"%Y-%W\")\n",
    "\n",
    "\n",
    "# COMPETITION SINCE\n",
    "\n",
    "# forming a datetime from columns ...since_year and ...since_month\n",
    "df2[\"competition_since\"] = df2.apply( lambda x: datetime.datetime( year=x[\"competition_open_since_year\"], month=x[\"competition_open_since_month\"], day=1 ), axis=1 )\n",
    "\n",
    "# the result of the subtraction of df2[\"date\"] and df2[\"competition_since\"] is a number of days, so we divide\n",
    "# by 30 to get the number of months\n",
    "# the problem is that now we have a datetime obj that has a number of weeks in it's days property\n",
    "# so we use apply to extract days and transform the resulting str in integer \n",
    "df2[\"competition_time_in_months\"] = ( ( df2[\"date\"] - df2[\"competition_since\"] ) / 30 ).apply( lambda x: x.days ).astype(int)\n",
    "\n",
    "\n",
    "# PROMO2 SINCE\n",
    "# first join the str values of promo2_since_year and promo2_since_week\n",
    "df2[\"promo2_since\"] = df2[\"promo2_since_year\"].astype(str) + \"-\" + df2[\"promo2_since_week\"].astype(str)\n",
    "\n",
    "# then loop through all values a transformation to datetime obj from a str using strptime\n",
    "# the x is the str, the \"-1\" is a concatenation of strs, transforming \"2012-31\" to \"2012-31-1\", symbolizing the\n",
    "# assumption that the week day in wich the promo2 began was sunday, and the \"%Y-%W-%w\" is\n",
    "# the format that the given str is\n",
    "# the subtraction of datetime.timedelta( days=7 ) means that we are taking off a week from the number\n",
    "# aproximately transforming the value from ISO to a count that has the first week of the year in other day\n",
    "# probably to maintain the same date format throughout the project\n",
    "df2[\"promo2_since\"] = df2[\"promo2_since\"].apply( lambda x: datetime.datetime.strptime( x + \"-1\", \"%Y-%W-%w\" ) - datetime.timedelta( days=7 ) )\n",
    "\n",
    "# then subtract and divide by seven to get the number of weeks, as in COMPETITION SINCE\n",
    "df2[\"promo2_time_in_weeks\"] = ( ( df2[\"date\"] - df2[\"promo2_since\"] ) / 7 ).apply( lambda x: x.days ).astype(int)\n",
    "\n",
    "\n",
    "# ASSORTMENT\n",
    "# a = basic, b = extra, c = extended\n",
    "df2[\"assortment\"] = df2[\"assortment\"].apply(lambda x: \"basic\" if x == \"a\" else \"extra\" if x == \"b\" else \"extended\")\n",
    "\n",
    "# STATE HOLIDAY\n",
    "# a = public holiday, b = Easter holiday, c = Christmas, 0 = None\n",
    "df2[\"state_holiday\"] = df2[\"state_holiday\"].apply(lambda x: \"public_holiday\" if x == \"a\" else \"easter_holiday\" if x == \"b\" else \"christmas\" if x == \"c\" else \"regular_day\")"
   ]
  },
  {
   "cell_type": "code",
   "execution_count": null,
   "id": "515400df",
   "metadata": {
    "ExecuteTime": {
     "end_time": "2021-08-10T12:31:05.118104Z",
     "start_time": "2021-08-10T12:31:05.118065Z"
    },
    "hidden": true,
    "scrolled": false
   },
   "outputs": [],
   "source": [
    "df2.head().T"
   ]
  },
  {
   "cell_type": "markdown",
   "id": "8baa4785",
   "metadata": {
    "heading_collapsed": true
   },
   "source": [
    "# 3.0. Variable filtering"
   ]
  },
  {
   "cell_type": "markdown",
   "id": "d0a8a796",
   "metadata": {
    "hidden": true
   },
   "source": [
    "Variable filtering is a proccess that takes into consideration a business analysis.\n",
    "\n",
    "You will take out from the analysis data that although relevant is not available in the business side.\n",
    "And also take into account the higher priority of the demand. Perhaps the boss wants attention in a given store type only. You can filter out the other types.\n",
    "\n",
    "i.e. An analysis that discovered that higher discounts yelds higher sales. However the business team does not know discounts before the product is lauch, therefore it is a information that has no impact in any planing of product launching.\n",
    "\n",
    "Filtering helps preventing this scenario. If you know that discounts can not be use, you can choose another variable for the analysis."
   ]
  },
  {
   "cell_type": "code",
   "execution_count": null,
   "id": "3aa891c0",
   "metadata": {
    "ExecuteTime": {
     "end_time": "2021-08-10T12:31:05.121615Z",
     "start_time": "2021-08-10T12:31:05.121576Z"
    },
    "hidden": true
   },
   "outputs": [],
   "source": [
    "df3 = df2.copy()"
   ]
  },
  {
   "cell_type": "markdown",
   "id": "95ca512d",
   "metadata": {
    "heading_collapsed": true,
    "hidden": true
   },
   "source": [
    "## 3.1. Row filtering"
   ]
  },
  {
   "cell_type": "markdown",
   "id": "49086608",
   "metadata": {
    "hidden": true
   },
   "source": [
    "Rows where **\"open\"** == 0. These are days in wich no sales were made, so there is no valuable information here.\n",
    "\n",
    "Rows where **\"sales\"** > 0. Same reason as above."
   ]
  },
  {
   "cell_type": "code",
   "execution_count": null,
   "id": "18819b42",
   "metadata": {
    "ExecuteTime": {
     "end_time": "2021-08-10T12:31:05.125097Z",
     "start_time": "2021-08-10T12:31:05.125056Z"
    },
    "hidden": true
   },
   "outputs": [],
   "source": [
    "df3 = df3[(df3[\"open\"] != 0) & (df3[\"sales\"] > 0)]"
   ]
  },
  {
   "cell_type": "markdown",
   "id": "d796aaa1",
   "metadata": {
    "heading_collapsed": true,
    "hidden": true
   },
   "source": [
    "## 3.2. Column filtering"
   ]
  },
  {
   "cell_type": "markdown",
   "id": "6d4374fe",
   "metadata": {
    "hidden": true
   },
   "source": [
    "Col **\"customers\"**: There is no prediction of the amount of custumers that will visit the store in the future, just the amount in the date of the recording. No comparison available, business restriction\n",
    "\n",
    "Droping \"open\" column as well, because once the 0 were filtered out there remains only 1 in every cell no relevant info remains there\n",
    "\n",
    "Cols promo_interval and curr_month used just to derive is_curr_in_promo2 col "
   ]
  },
  {
   "cell_type": "code",
   "execution_count": null,
   "id": "1109e2e6",
   "metadata": {
    "ExecuteTime": {
     "end_time": "2021-08-10T12:31:05.127673Z",
     "start_time": "2021-08-10T12:31:05.127632Z"
    },
    "hidden": true
   },
   "outputs": [],
   "source": [
    "# droping \"open\" column as well, because once the 0 were filtered out there remains only 1 in every cell\n",
    "# no relevant info remains there\n",
    "\n",
    "cols_drop = [\"customers\", \"open\", \"promo_interval\", \"curr_month\"]\n",
    "df3 = df3.drop( cols_drop, axis=1 )"
   ]
  },
  {
   "cell_type": "markdown",
   "id": "3827cd0c",
   "metadata": {
    "heading_collapsed": true
   },
   "source": [
    "# 4.0. Exploratory Data Analysis"
   ]
  },
  {
   "cell_type": "code",
   "execution_count": null,
   "id": "da9a4c0a",
   "metadata": {
    "ExecuteTime": {
     "end_time": "2021-08-10T12:31:05.130818Z",
     "start_time": "2021-08-10T12:31:05.130773Z"
    },
    "hidden": true
   },
   "outputs": [],
   "source": [
    "df4 = df3.copy()"
   ]
  },
  {
   "cell_type": "markdown",
   "id": "ec17ef46",
   "metadata": {
    "hidden": true
   },
   "source": [
    "## 4.1. Univariate Analysis"
   ]
  },
  {
   "cell_type": "markdown",
   "id": "582e3b99",
   "metadata": {
    "heading_collapsed": true,
    "hidden": true
   },
   "source": [
    "### 4.1.1 Response variable"
   ]
  },
  {
   "cell_type": "code",
   "execution_count": null,
   "id": "ab4a1118",
   "metadata": {
    "ExecuteTime": {
     "end_time": "2021-08-10T12:31:05.133575Z",
     "start_time": "2021-08-10T12:31:05.133540Z"
    },
    "hidden": true
   },
   "outputs": [],
   "source": [
    "sns.histplot(df4[\"sales\"], kde=True)"
   ]
  },
  {
   "cell_type": "code",
   "execution_count": null,
   "id": "74fc30d0",
   "metadata": {
    "ExecuteTime": {
     "end_time": "2021-08-10T12:31:05.136344Z",
     "start_time": "2021-08-10T12:31:05.136309Z"
    },
    "hidden": true
   },
   "outputs": [],
   "source": [
    "# if we wanted to normalize more:\n",
    "sns.histplot( np.log1p( df4[\"sales\"] ), kde=True )\n",
    "# there is no need in this case"
   ]
  },
  {
   "cell_type": "markdown",
   "id": "705583cb",
   "metadata": {
    "hidden": true
   },
   "source": [
    "### 4.1.2 Numerical variable"
   ]
  },
  {
   "cell_type": "code",
   "execution_count": null,
   "id": "fa5412bc",
   "metadata": {
    "ExecuteTime": {
     "end_time": "2021-08-10T12:31:05.138662Z",
     "start_time": "2021-08-10T12:31:05.138606Z"
    },
    "hidden": true
   },
   "outputs": [],
   "source": [
    "num_attributes = df4.select_dtypes( include=[\"int64\", \"float64\"] )\n",
    "num_attributes.hist( bins=25, figsize=(25,16) );"
   ]
  },
  {
   "cell_type": "markdown",
   "id": "b5dee5c8",
   "metadata": {
    "heading_collapsed": true,
    "hidden": true
   },
   "source": [
    "### 4.1.3 Categorical variable"
   ]
  },
  {
   "cell_type": "code",
   "execution_count": null,
   "id": "23018c9a",
   "metadata": {
    "ExecuteTime": {
     "end_time": "2021-08-10T12:31:05.141339Z",
     "start_time": "2021-08-10T12:31:05.141294Z"
    },
    "hidden": true
   },
   "outputs": [],
   "source": [
    "cat_attributes = df4.select_dtypes( exclude=[\"int64\", \"float64\", \"datetime64[ns]\"] )"
   ]
  },
  {
   "cell_type": "code",
   "execution_count": null,
   "id": "024e504d",
   "metadata": {
    "ExecuteTime": {
     "end_time": "2021-08-10T12:31:05.145012Z",
     "start_time": "2021-08-10T12:31:05.144965Z"
    },
    "hidden": true
   },
   "outputs": [],
   "source": [
    "# to know what are the possible options for each column\n",
    "sh_unique = df4[\"state_holiday\"].drop_duplicates().reset_index()[\"state_holiday\"]\n",
    "st_unique = df4[\"store_type\"].drop_duplicates().reset_index()[\"store_type\"]\n",
    "as_unique = df4[\"assortment\"].drop_duplicates().reset_index()[\"assortment\"]\n",
    "pd.concat([sh_unique, st_unique, as_unique], axis=1)"
   ]
  },
  {
   "cell_type": "code",
   "execution_count": null,
   "id": "ad596ab6",
   "metadata": {
    "ExecuteTime": {
     "end_time": "2021-08-10T12:31:05.148689Z",
     "start_time": "2021-08-10T12:31:05.148645Z"
    },
    "hidden": true,
    "hide_input": false,
    "scrolled": false
   },
   "outputs": [],
   "source": [
    "# STATE HOLIDAY\n",
    "\n",
    "# since most colected days are regular days, it's bar gets out of proportion, not allowing the visualization\n",
    "# of the other variables, better filter it out for visualization\n",
    "# fig, axs = plt.subplots(nrows=2, ncols=2)\n",
    "plt.subplot(2, 1, 1).set_title(\"Number of Stores by Holiday\")\n",
    "not_a_regular_day = df4[df4[\"state_holiday\"] != \"regular_day\"]\n",
    "sns.countplot( x=not_a_regular_day[\"state_holiday\"] )\n",
    "\n",
    "# ====== Important ======\n",
    "# in the kdeplot the option common_norm=False produces a plot that is out of proportion\n",
    "# it makes easter and christmas larger than they really are because they are not comparing with each other\n",
    "# when common_norm=True, the default setting, density of values is distributed between the graphs,\n",
    "# so that their shared area sum (integral) is 1\n",
    "# when false, their individual area integral is equal to 1\n",
    "plt.subplot(2, 2, 3).set_title(\"Proportional Densities of Sales by Holiday\")\n",
    "sns.kdeplot( data=not_a_regular_day, x=\"sales\", hue=\"state_holiday\", shade=True )\n",
    "\n",
    "# ploted this out of proportion graph for the visual comparison of skew and kurtosis\n",
    "# and to take into account that naturaly if there were more stores opened in public holidays\n",
    "# there were a higher profit for those days\n",
    "# the out of proportion gives an idea of the perfect world in wich there were the same amount of stores opened \n",
    "# in each holiday\n",
    "plt.subplot(2, 2, 4).set_title(\"Out of Proportion Densities of Sales by Holiday\")\n",
    "sns.kdeplot( data=not_a_regular_day, x=\"sales\", hue=\"state_holiday\", shade=True, common_norm=False )"
   ]
  },
  {
   "cell_type": "code",
   "execution_count": null,
   "id": "501b7c84",
   "metadata": {
    "ExecuteTime": {
     "end_time": "2021-08-10T12:31:05.151701Z",
     "start_time": "2021-08-10T12:31:05.151653Z"
    },
    "hidden": true,
    "hide_input": false
   },
   "outputs": [],
   "source": [
    "# STORE TYPE\n",
    "plt.subplot(2, 1, 1).set_title(\"Number of Stores by Store Type\")\n",
    "sns.countplot(x=df4[\"store_type\"])\n",
    "\n",
    "plt.subplot(2, 2, 3).set_title(\"Proportional Densities of Sales by Store Type\")\n",
    "sns.kdeplot( data=df4, x=\"sales\", hue=\"store_type\", shade=True)\n",
    "\n",
    "plt.subplot(2, 2, 4).set_title(\"Out of Proportion Densities of Sales by Store Type\")\n",
    "sns.kdeplot( data=df4, x=\"sales\", hue=\"store_type\", shade=True, common_norm=False)"
   ]
  },
  {
   "cell_type": "code",
   "execution_count": null,
   "id": "bfa7582e",
   "metadata": {
    "ExecuteTime": {
     "end_time": "2021-08-10T12:31:05.154390Z",
     "start_time": "2021-08-10T12:31:05.154342Z"
    },
    "hidden": true,
    "hide_input": false
   },
   "outputs": [],
   "source": [
    "# ASSORTMENT\n",
    "plt.subplot(2, 1, 1).set_title(\"Number of Stores by Store Assortment\")\n",
    "sns.countplot(x=df4[\"assortment\"])\n",
    "\n",
    "plt.subplot(2, 2, 3).set_title(\"Proportional Densities of Sales by Store Assortment\")\n",
    "sns.kdeplot( data=df4, x=\"sales\", hue=\"assortment\", shade=True)\n",
    "\n",
    "plt.subplot(2, 2, 4).set_title(\"Out of Proportion Densities of Sales by Store Assortment\")\n",
    "sns.kdeplot( data=df4, x=\"sales\", hue=\"assortment\", shade=True, common_norm=False)"
   ]
  },
  {
   "cell_type": "markdown",
   "id": "704c406b",
   "metadata": {
    "heading_collapsed": true,
    "hidden": true
   },
   "source": [
    "## 4.2. Bivariate Analysis"
   ]
  },
  {
   "cell_type": "markdown",
   "id": "516ce473",
   "metadata": {
    "hidden": true
   },
   "source": [
    "Here are the analysis made with the hypothesis formulated in the Feature Engineering section.\n",
    "\n",
    "There are two sub analysis groups, in both subsections the same hypothesis were scrutinized. \n",
    "The biggest technical difference between both is that in the first subsection the analysis were made using the mean sales values, whence in the second subsection the analysis were made using the sum of the sales values.\n",
    "\n",
    "Personally, I believe there are **more useful insights in 4.2.1**, but the other subsection is useful for generating insights for the whole company.\n",
    "\n",
    "**In 4.2.1** there are the analysis made using the **mean**. Which means that the results are evaluations made about the average store.  \n",
    "**In 4.2.2** there are the analysis made using the **sum**. Which means that the results are evaluations made about the whole business sales.\n",
    "\n",
    "i.e. For the hypothesis that the stores are selling more over the years. The average store sells more over the years, sales increasing over years. But the added value for the whole business will tell otherwise, that stores are selling less. That is happening because there was more data collected, more stores measured in the first years, and the last recorded year, 2015, was not over. Therefore, with more stores measured in the first years naturally the added value is higher, not that the stores were individually selling more in the beginning, but that there were more stores sending data."
   ]
  },
  {
   "cell_type": "markdown",
   "id": "4546bb79",
   "metadata": {
    "ExecuteTime": {
     "end_time": "2021-08-05T14:50:18.098806Z",
     "start_time": "2021-08-05T14:50:18.095353Z"
    },
    "heading_collapsed": true,
    "hidden": true
   },
   "source": [
    "### 4.2.1 Analysis made for the average store"
   ]
  },
  {
   "cell_type": "markdown",
   "id": "fbf7d334",
   "metadata": {
    "heading_collapsed": true,
    "hidden": true
   },
   "source": [
    "#### 4.2.1.1 Hypothesis: Stores with larger assortment should sell more\n",
    "\n",
    "**TRUE** - Individually, stores with higher assortment sell more, and sell more over time, but in the added value of all stores of each type the higher assortment sold way less "
   ]
  },
  {
   "cell_type": "code",
   "execution_count": null,
   "id": "e51e43cc",
   "metadata": {
    "ExecuteTime": {
     "end_time": "2021-08-10T12:31:05.157749Z",
     "start_time": "2021-08-10T12:31:05.157703Z"
    },
    "hidden": true,
    "hide_input": false
   },
   "outputs": [],
   "source": [
    "aux1 = df4[[\"assortment\", \"sales\"]].groupby(\"assortment\").mean().reset_index()\n",
    "aux1"
   ]
  },
  {
   "cell_type": "code",
   "execution_count": null,
   "id": "dd07a943",
   "metadata": {
    "ExecuteTime": {
     "end_time": "2021-08-10T12:31:05.159994Z",
     "start_time": "2021-08-10T12:31:05.159961Z"
    },
    "hidden": true,
    "hide_input": false
   },
   "outputs": [],
   "source": [
    "sns.boxplot( x=\"assortment\", y=\"sales\", data=df4);"
   ]
  },
  {
   "cell_type": "markdown",
   "id": "da9fb96a",
   "metadata": {
    "hidden": true
   },
   "source": [
    "In an individual analysis level, a single extra type store sells more than either extended or basic type stores"
   ]
  },
  {
   "cell_type": "markdown",
   "id": "50ac5ec3",
   "metadata": {
    "hidden": true
   },
   "source": [
    "If the profit of the average extra store type is higher in comparison with the other types, one question might be raised: were the profits of the \"extras\" changing over time? In other words, was there any interesting variation in the profit over the registered time?"
   ]
  },
  {
   "cell_type": "code",
   "execution_count": null,
   "id": "8d6091ab",
   "metadata": {
    "ExecuteTime": {
     "end_time": "2021-08-10T12:31:05.161900Z",
     "start_time": "2021-08-10T12:31:05.161861Z"
    },
    "hidden": true
   },
   "outputs": [],
   "source": [
    "aux3 = df4[[\"year_week\", \"assortment\", \"sales\"]].groupby([\"year_week\", \"assortment\"]).mean().reset_index()\n",
    "aux3.head()"
   ]
  },
  {
   "cell_type": "code",
   "execution_count": null,
   "id": "66aebebd",
   "metadata": {
    "ExecuteTime": {
     "end_time": "2021-08-10T12:31:05.163934Z",
     "start_time": "2021-08-10T12:31:05.163889Z"
    },
    "hidden": true
   },
   "outputs": [],
   "source": [
    "# reorganizing the graph\n",
    "pivot_aux3 = aux3.pivot(index=\"year_week\", columns=\"assortment\", values=\"sales\")\n",
    "pivot_aux3.head()"
   ]
  },
  {
   "cell_type": "code",
   "execution_count": null,
   "id": "ef1a9540",
   "metadata": {
    "ExecuteTime": {
     "end_time": "2021-08-10T12:31:05.166248Z",
     "start_time": "2021-08-10T12:31:05.166162Z"
    },
    "hidden": true
   },
   "outputs": [],
   "source": [
    "pivot_aux3.plot(title=\"Sales by Year Week in each Assortment Store Type\");"
   ]
  },
  {
   "cell_type": "markdown",
   "id": "ed6f2545",
   "metadata": {
    "heading_collapsed": true,
    "hidden": true
   },
   "source": [
    "#### 4.2.1.2 Hypothesis: Stores with close competitors should sell less\n",
    "**FALSE** - Stores with close competitors do not sell less. They generally sell the same, the competitor's distance not influencing, but have a slightly decrease in sales when the competitor is farther. Even so, it seems that this slightly decrease might be inside the confidence interval"
   ]
  },
  {
   "cell_type": "code",
   "execution_count": null,
   "id": "c02f97da",
   "metadata": {
    "ExecuteTime": {
     "end_time": "2021-08-10T12:31:05.172640Z",
     "start_time": "2021-08-10T12:31:05.172594Z"
    },
    "hidden": true,
    "scrolled": true
   },
   "outputs": [],
   "source": [
    "# grouping and taking the mean instead of the sum\n",
    "aux1 = df4[[\"competition_distance\", \"sales\"]].groupby(\"competition_distance\").mean().reset_index()\n",
    "\n",
    "plt.figure(figsize=(22, 5))\n",
    "\n",
    "# ==== REGRESSION ====\n",
    "# regression instead of a pure scatterplot to make it easyer to notice that the trend line is almost horizontal\n",
    "# meaning no correlation\n",
    "plt.subplot(131)\n",
    "sns.regplot(data=aux1[aux1[\"competition_distance\"] < 40000], x=\"competition_distance\", y=\"sales\")\n",
    "\n",
    "# ==== BARPLOT ====\n",
    "plt.subplot(132)\n",
    "bins = list( range( 0, 80000, 4000 ) )\n",
    "\n",
    "# pd.cut is made exactaly for assigning values to bins, numerical values to categorical\n",
    "aux1[\"competition_distance_binned\"] = pd.cut( x=aux1[\"competition_distance\"], bins=bins )\n",
    "aux2 = aux1[[\"competition_distance_binned\", \"sales\"]].groupby(\"competition_distance_binned\").mean().reset_index()\n",
    "sns.barplot( data=aux2, x=\"competition_distance_binned\", y=\"sales\")\n",
    "plt.xticks(rotation=90)\n",
    "\n",
    "# ==== CORRELATION HEATMAP ====\n",
    "plt.subplot(133)\n",
    "sns.heatmap(aux1.corr(method=\"pearson\"), annot=True);\n"
   ]
  },
  {
   "cell_type": "markdown",
   "id": "7c6f37f8",
   "metadata": {
    "hidden": true
   },
   "source": [
    "A good approach is instead o evaluate the sum of all stores at a given distance, take their mean, in order to not inflate the result by the huge amount of stores with near competitors"
   ]
  },
  {
   "cell_type": "markdown",
   "id": "40404602",
   "metadata": {
    "hidden": true
   },
   "source": [
    "We can see above that the sales do not vary, or very very little, with the distance."
   ]
  },
  {
   "cell_type": "markdown",
   "id": "080b09be",
   "metadata": {
    "heading_collapsed": true,
    "hidden": true
   },
   "source": [
    "#### 4.2.1.3. Stores with longer-term competitors should sell more\n",
    "**TRUE** - However, this result only exists when we balance the sales by the amount of stores in the data. If we do not take this into consideration the relation between variables is inverse (the hypothesis would be **false**)"
   ]
  },
  {
   "cell_type": "markdown",
   "id": "b78469ba",
   "metadata": {
    "ExecuteTime": {
     "end_time": "2021-08-03T23:30:08.087713Z",
     "start_time": "2021-08-03T23:30:08.070595Z"
    },
    "hidden": true
   },
   "source": [
    "By the analysis bellow the relation between long-term competitors and sales is negative, the longer the competition, smaller the sales"
   ]
  },
  {
   "cell_type": "code",
   "execution_count": null,
   "id": "e20792bb",
   "metadata": {
    "ExecuteTime": {
     "end_time": "2021-08-10T12:31:05.177936Z",
     "start_time": "2021-08-10T12:31:05.177886Z"
    },
    "hidden": true
   },
   "outputs": [],
   "source": [
    "aux1 = df4[[\"competition_time_in_months\", \"sales\"]].groupby(\"competition_time_in_months\").sum().reset_index()\n",
    "aux1 = aux1[(aux1[\"competition_time_in_months\"] != 0) & (aux1[\"competition_time_in_months\"] < 300)]\n",
    "\n",
    "plt.figure(figsize=(22, 5))\n",
    "\n",
    "plt.subplot(131)\n",
    "sns.barplot(data=aux1, x=\"competition_time_in_months\", y=\"sales\")\n",
    "plt.xticks(rotation=90);\n",
    "\n",
    "plt.subplot(132)\n",
    "sns.regplot(data=aux1, x=\"competition_time_in_months\", y=\"sales\");\n",
    "plt.title(\"Sales by Competition Time in Months (not balancing by how many stores in each time)\");\n",
    "\n",
    "plt.subplot(133)\n",
    "sns.heatmap(aux1.corr(method=\"pearson\"), annot=True);"
   ]
  },
  {
   "cell_type": "markdown",
   "id": "44baa42d",
   "metadata": {
    "hidden": true
   },
   "source": [
    "Yet, one must take into account that this value have a strong influence comming from the ammount of stores that were measured that were concentrated around the 0. This naturaly make a peak in sales in this months, meaning that since we have more stores around the 0, when we sum up them, we have a higher cumulative sale.\n",
    "\n",
    "Bellow is shown the higher concentration of measures around 0"
   ]
  },
  {
   "cell_type": "code",
   "execution_count": null,
   "id": "9fe6050e",
   "metadata": {
    "ExecuteTime": {
     "end_time": "2021-08-10T12:31:05.184082Z",
     "start_time": "2021-08-10T12:31:05.184039Z"
    },
    "hidden": true
   },
   "outputs": [],
   "source": [
    "aux1 = df4.loc[(df4[\"competition_time_in_months\"] != 0) & (df4[\"competition_time_in_months\"] < 300), [\"competition_time_in_months\", \"sales\"]]\n",
    "sns.kdeplot(data=aux1, x=\"competition_time_in_months\");\n",
    "plt.title(\"Number of Values/Measures by Competition Distance in months\");"
   ]
  },
  {
   "cell_type": "markdown",
   "id": "1c97c072",
   "metadata": {
    "hidden": true
   },
   "source": [
    "Bellow is the exact actions made above (except the bar chart that was too difficult to visualize), just that now we are taking the mean of values in any given month, effectively removing the additional effect of the greater amount of data around the 0 months\n",
    "\n",
    "Therefore discovering a positive high correlation between the variables, meaning that yes, the sales go up the longer the competition time span"
   ]
  },
  {
   "cell_type": "code",
   "execution_count": null,
   "id": "b38cd785",
   "metadata": {
    "ExecuteTime": {
     "end_time": "2021-08-10T12:31:05.187236Z",
     "start_time": "2021-08-10T12:31:05.187195Z"
    },
    "hidden": true
   },
   "outputs": [],
   "source": [
    "aux1 = df4[[\"competition_time_in_months\", \"sales\"]].groupby(\"competition_time_in_months\").mean().reset_index()\n",
    "aux1 = aux1[(aux1[\"competition_time_in_months\"] != 0) & (aux1[\"competition_time_in_months\"] < 300)]\n",
    "\n",
    "plt.figure(figsize=(22, 8))\n",
    "\n",
    "plt.subplot(121)\n",
    "sns.regplot(data=aux1, x=\"competition_time_in_months\", y=\"sales\");\n",
    "plt.title(\"Sales by Competition Time in Months (not balancing by how many stores in each time)\");\n",
    "\n",
    "plt.subplot(122)\n",
    "sns.heatmap(aux1.corr(method=\"pearson\"), annot=True);"
   ]
  },
  {
   "cell_type": "markdown",
   "id": "e6cff39d",
   "metadata": {
    "ExecuteTime": {
     "end_time": "2021-08-04T14:26:12.546984Z",
     "start_time": "2021-08-04T14:26:12.543464Z"
    },
    "heading_collapsed": true,
    "hidden": true
   },
   "source": [
    "#### 4.2.1.4  Stores with longer sales (promotions) periods should sell more - Is sales growing inside Promo2?\n",
    "**TRUE** - Balancing the data to consider the higher amount of data available for promo2 between 0 and 200 weeks, we can see that the sales are going up\n",
    "\n",
    "**However** We can not say that the growth of sales is directly related to the longer Promo2, that it is the cause. There are many factors influencing the growth of the stores, this might be even a natural growth related to the natural growth of a store after it opens. It is only a correlation! "
   ]
  },
  {
   "cell_type": "code",
   "execution_count": null,
   "id": "20c513d4",
   "metadata": {
    "ExecuteTime": {
     "end_time": "2021-08-10T12:31:05.189755Z",
     "start_time": "2021-08-10T12:31:05.189715Z"
    },
    "hidden": true
   },
   "outputs": [],
   "source": [
    "aux1 = df4[[\"promo2_time_in_weeks\", \"sales\"]].groupby(\"promo2_time_in_weeks\").sum().reset_index()\n",
    "\n",
    "plt.figure(figsize=(20, 9))\n",
    "grid = gridspec.GridSpec(2, 3)\n",
    "\n",
    "plt.subplot(grid[0, 0])\n",
    "aux2 = aux1[aux1[\"promo2_time_in_weeks\"] < 0]\n",
    "sns.barplot(data=aux2, x=\"promo2_time_in_weeks\", y=\"sales\");\n",
    "\n",
    "plt.subplot(grid[0, 1])\n",
    "aux3 = aux1[aux1[\"promo2_time_in_weeks\"] > 0]\n",
    "sns.barplot(data=aux3, x=\"promo2_time_in_weeks\", y=\"sales\");\n",
    "\n",
    "plt.subplot(grid[1, 0])\n",
    "sns.regplot(data=aux2, x=\"promo2_time_in_weeks\", y=\"sales\");\n",
    "\n",
    "plt.subplot(grid[1, 1])\n",
    "sns.regplot(data=aux3, x=\"promo2_time_in_weeks\", y=\"sales\");\n",
    "\n",
    "# the correlation is made using the whole dataset (aux1 here), not the parts\n",
    "plt.subplot(grid[:, 2])\n",
    "sns.heatmap(aux1.corr(method=\"pearson\"), annot=True)"
   ]
  },
  {
   "cell_type": "markdown",
   "id": "f32f773a",
   "metadata": {
    "hidden": true
   },
   "source": [
    "The plots above were analysing the data without considering the higher amount of data registered for stores that were in promo2 between 0 and 200 weeks, as shown in the graph bellow. Because of that, when adding all the values, the result is inflated, more values are added for these days, resulting in more cumulative sales."
   ]
  },
  {
   "cell_type": "code",
   "execution_count": null,
   "id": "b9a7de03",
   "metadata": {
    "ExecuteTime": {
     "end_time": "2021-08-10T12:31:05.192655Z",
     "start_time": "2021-08-10T12:31:05.192618Z"
    },
    "hidden": true
   },
   "outputs": [],
   "source": [
    "aux1 = df4.loc[df4[\"promo2_time_in_weeks\"] != 0, [\"promo2_time_in_weeks\"]]\n",
    "sns.histplot(data=aux1, kde=True)"
   ]
  },
  {
   "cell_type": "markdown",
   "id": "cf04df90",
   "metadata": {
    "hidden": true
   },
   "source": [
    "Taking that into consideration we may take the mean, not the sum, in order to balance the data. This way the higher amount of registered measures of stores between 0 and 200 will make less of a impact in the result"
   ]
  },
  {
   "cell_type": "code",
   "execution_count": null,
   "id": "e9b98bc8",
   "metadata": {
    "ExecuteTime": {
     "end_time": "2021-08-10T12:31:05.195893Z",
     "start_time": "2021-08-10T12:31:05.195844Z"
    },
    "hidden": true
   },
   "outputs": [],
   "source": [
    "aux1 = df4[[\"promo2_time_in_weeks\", \"sales\"]].groupby(\"promo2_time_in_weeks\").mean().reset_index()\n",
    "\n",
    "plt.figure(figsize=(20, 9))\n",
    "grid = gridspec.GridSpec(2, 3)\n",
    "\n",
    "plt.subplot(grid[0, 0])\n",
    "aux2 = aux1[aux1[\"promo2_time_in_weeks\"] < 0]\n",
    "sns.barplot(data=aux2, x=\"promo2_time_in_weeks\", y=\"sales\");\n",
    "\n",
    "plt.subplot(grid[0, 1])\n",
    "aux3 = aux1[aux1[\"promo2_time_in_weeks\"] > 0]\n",
    "sns.barplot(data=aux3, x=\"promo2_time_in_weeks\", y=\"sales\");\n",
    "\n",
    "plt.subplot(grid[1, 0])\n",
    "sns.regplot(data=aux2, x=\"promo2_time_in_weeks\", y=\"sales\");\n",
    "\n",
    "plt.subplot(grid[1, 1])\n",
    "sns.regplot(data=aux3, x=\"promo2_time_in_weeks\", y=\"sales\");\n",
    "\n",
    "# the correlation is made using the whole dataset (aux1 here), not the parts\n",
    "plt.subplot(grid[:, 2])\n",
    "sns.heatmap(aux1.corr(method=\"pearson\"), annot=True)"
   ]
  },
  {
   "cell_type": "markdown",
   "id": "808b0218",
   "metadata": {
    "heading_collapsed": true,
    "hidden": true
   },
   "source": [
    "#### <s>4.2.1.5. Stores with longer sales consecutive days should sell more</s>"
   ]
  },
  {
   "cell_type": "markdown",
   "id": "47009564",
   "metadata": {
    "hidden": true
   },
   "source": [
    "I do not believe that there is data to test the hypothesis"
   ]
  },
  {
   "cell_type": "markdown",
   "id": "d0e256ed",
   "metadata": {
    "heading_collapsed": true,
    "hidden": true
   },
   "source": [
    "#### 4.2.1.6 Stores with more consecutive promotions should sell more\n",
    "**FALSE** - Stores with \"promo2\" sell less than without, the higher sellers are the ones with only \"promo\"\n",
    "\n",
    "One cause of this behavior might be that a lot of the stores that are now in a \"promo2\" were stores that were already underperforming in sales and entered promo2 to help raise their sales "
   ]
  },
  {
   "cell_type": "code",
   "execution_count": null,
   "id": "3d012a89",
   "metadata": {
    "ExecuteTime": {
     "end_time": "2021-08-10T12:31:05.199073Z",
     "start_time": "2021-08-10T12:31:05.199026Z"
    },
    "hidden": true
   },
   "outputs": [],
   "source": [
    "df4[[\"promo\", \"promo2\", \"sales\"]].groupby([\"promo\", \"promo2\"]).mean().reset_index().sort_values(by=\"sales\")"
   ]
  },
  {
   "cell_type": "code",
   "execution_count": null,
   "id": "039d6938",
   "metadata": {
    "ExecuteTime": {
     "end_time": "2021-08-10T12:31:05.201638Z",
     "start_time": "2021-08-10T12:31:05.201599Z"
    },
    "hidden": true
   },
   "outputs": [],
   "source": [
    "aux1 = df4.loc[(df4[\"promo\"] == 1) & (df4[\"promo2\"] == 1), [\"year_week\", \"sales\"]].groupby(\"year_week\").mean().reset_index()\n",
    "ax = aux1.plot()\n",
    "\n",
    "aux2 = df4.loc[(df4[\"promo\"] == 1) & (df4[\"promo2\"] == 0), [\"year_week\", \"sales\"]].groupby(\"year_week\").mean().reset_index()\n",
    "aux2.plot(ax=ax)\n",
    "\n",
    "ax.legend(labels=[\"With Promo, Whith Promo2\", \"With Promo, No Promo2\"])"
   ]
  },
  {
   "cell_type": "markdown",
   "id": "b6e6cc3b",
   "metadata": {
    "ExecuteTime": {
     "end_time": "2021-08-04T19:26:00.657422Z",
     "start_time": "2021-08-04T19:26:00.651179Z"
    },
    "heading_collapsed": true,
    "hidden": true
   },
   "source": [
    "#### 4.2.1.7. Stores that open during the christmas holiday should sell more\n",
    "**FALSE** - There is not enough data to say this. In 2013 it was false, but it was true in 2014, 2015 is not closed in the data"
   ]
  },
  {
   "cell_type": "code",
   "execution_count": null,
   "id": "c6e50fcb",
   "metadata": {
    "ExecuteTime": {
     "end_time": "2021-08-10T12:31:05.204985Z",
     "start_time": "2021-08-10T12:31:05.204948Z"
    },
    "hidden": true
   },
   "outputs": [],
   "source": [
    "plt.figure(figsize=(20, 8))\n",
    "\n",
    "plt.subplot(121)\n",
    "aux = df4\n",
    "aux1 = aux[[\"state_holiday\", \"sales\"]].groupby(\"state_holiday\").mean().reset_index()\n",
    "sns.barplot(data=aux1, y=\"sales\", x=\"state_holiday\");\n",
    "\n",
    "plt.subplot(122)\n",
    "aux2 = aux[[\"year\", \"state_holiday\", \"sales\"]].groupby([\"year\", \"state_holiday\"]).mean().reset_index()\n",
    "sns.barplot(data=aux2, y=\"sales\", x=\"year\", hue=\"state_holiday\");"
   ]
  },
  {
   "cell_type": "markdown",
   "id": "3df798ed",
   "metadata": {
    "ExecuteTime": {
     "end_time": "2021-08-04T19:26:34.999068Z",
     "start_time": "2021-08-04T19:26:34.993946Z"
    },
    "heading_collapsed": true,
    "hidden": true
   },
   "source": [
    "#### 4.2.1.8. Stores should sell more over the years\n",
    "**TRUE** - stores are selling more through the years, the mean store sale value is growing"
   ]
  },
  {
   "cell_type": "code",
   "execution_count": null,
   "id": "1c6f9296",
   "metadata": {
    "ExecuteTime": {
     "end_time": "2021-08-10T12:31:05.208295Z",
     "start_time": "2021-08-10T12:31:05.208249Z"
    },
    "hidden": true
   },
   "outputs": [],
   "source": [
    "plt.figure(figsize=(20, 6))\n",
    "\n",
    "plt.subplot(131)\n",
    "aux1 = df4[[\"year\", \"sales\"]].groupby(\"year\").mean().reset_index()\n",
    "sns.barplot(data=aux1, x=\"year\", y=\"sales\")\n",
    "\n",
    "plt.subplot(132)\n",
    "sns.regplot(data=aux1, x=\"year\", y=\"sales\")\n",
    "\n",
    "plt.subplot(133)\n",
    "sns.heatmap(aux1.corr(method=\"pearson\"), annot=True)"
   ]
  },
  {
   "cell_type": "markdown",
   "id": "74082562",
   "metadata": {
    "ExecuteTime": {
     "end_time": "2021-08-04T19:27:02.846636Z",
     "start_time": "2021-08-04T19:27:02.843635Z"
    },
    "heading_collapsed": true,
    "hidden": true
   },
   "source": [
    "#### 4.2.1.9. Stores should sell more during the last half of the year\n",
    "**TRUE** - They sell more on the last half"
   ]
  },
  {
   "cell_type": "code",
   "execution_count": null,
   "id": "ec81b7bd",
   "metadata": {
    "ExecuteTime": {
     "end_time": "2021-08-10T12:31:05.210822Z",
     "start_time": "2021-08-10T12:31:05.210781Z"
    },
    "hidden": true
   },
   "outputs": [],
   "source": [
    "plt.figure(figsize=(20, 12))\n",
    "\n",
    "plt.subplot(221)\n",
    "aux1 = df4[[\"month\", \"sales\"]].groupby(\"month\").mean().reset_index()\n",
    "sns.barplot(data=aux1, x=\"month\", y=\"sales\")\n",
    "\n",
    "plt.subplot(222)\n",
    "aux2 = aux1.copy()\n",
    "aux2[\"semester\"] = pd.cut(x=aux1[\"month\"], bins=list(range(0, 13, 6)))\n",
    "aux2 = aux2[[\"semester\", \"sales\"]].groupby(\"semester\").mean().reset_index()\n",
    "sns.barplot(data=aux2, x=\"semester\", y=\"sales\");\n",
    "\n",
    "plt.subplot(223)\n",
    "sns.regplot(data=aux1, x=\"month\", y=\"sales\")\n",
    "\n",
    "plt.subplot(224)\n",
    "sns.heatmap(aux1.corr(method=\"pearson\"), annot=True)"
   ]
  },
  {
   "cell_type": "markdown",
   "id": "abbc18e6",
   "metadata": {
    "ExecuteTime": {
     "end_time": "2021-08-04T19:27:34.814685Z",
     "start_time": "2021-08-04T19:27:34.811353Z"
    },
    "heading_collapsed": true,
    "hidden": true
   },
   "source": [
    "#### 4.2.1.10. Stores should sell more after the tenth day of the month\n",
    "**FALSE** - Stores sell more in the begining of the month"
   ]
  },
  {
   "cell_type": "code",
   "execution_count": null,
   "id": "2eae0330",
   "metadata": {
    "ExecuteTime": {
     "end_time": "2021-08-10T12:31:05.214529Z",
     "start_time": "2021-08-10T12:31:05.214490Z"
    },
    "hidden": true
   },
   "outputs": [],
   "source": [
    "plt.figure(figsize=(20, 12))\n",
    "\n",
    "plt.subplot(221)\n",
    "aux1 = df4[[\"day\", \"sales\"]].groupby(\"day\").mean().reset_index()\n",
    "sns.barplot(data=aux1, x=\"day\", y=\"sales\")\n",
    "\n",
    "plt.subplot(223)\n",
    "sns.regplot(data=aux1, x=\"day\", y=\"sales\")\n",
    "\n",
    "plt.subplot(224)\n",
    "sns.heatmap(aux1.corr(method=\"pearson\"), annot=True)\n",
    "\n",
    "plt.subplot(222)\n",
    "aux1[\"before_after\"] = aux1[\"day\"].apply(lambda x: \"before_10th_day\" if x <= 10 else \"after_10th_day\")\n",
    "aux2 = aux1.groupby(\"before_after\").mean().reset_index()\n",
    "sns.barplot(data=aux2, x=\"before_after\", y=\"sales\")"
   ]
  },
  {
   "cell_type": "markdown",
   "id": "2ae34c61",
   "metadata": {
    "heading_collapsed": true,
    "hidden": true
   },
   "source": [
    "#### 4.2.1.11. Stores should sell less on weekends\n",
    "**TRUE** - the stores sales slightly decreases along the week"
   ]
  },
  {
   "cell_type": "code",
   "execution_count": null,
   "id": "276e21a1",
   "metadata": {
    "ExecuteTime": {
     "end_time": "2021-08-10T12:31:05.218046Z",
     "start_time": "2021-08-10T12:31:05.217999Z"
    },
    "hidden": true
   },
   "outputs": [],
   "source": [
    "plt.figure(figsize=(20, 6))\n",
    "\n",
    "plt.subplot(131)\n",
    "aux1 = df4[[\"day_of_week\", \"sales\"]].groupby(\"day_of_week\").sum().reset_index()\n",
    "sns.barplot(data=aux1, x=\"day_of_week\", y=\"sales\")\n",
    "\n",
    "plt.subplot(132)\n",
    "sns.regplot(data=aux1, x=\"day_of_week\", y=\"sales\")\n",
    "\n",
    "plt.subplot(133)\n",
    "sns.heatmap(aux1.corr(method=\"pearson\"), annot=True)"
   ]
  },
  {
   "cell_type": "markdown",
   "id": "086b0585",
   "metadata": {
    "hidden": true
   },
   "source": [
    "Sales on sunday are very low. This is caused by the greater number of stores closed on Sundays:"
   ]
  },
  {
   "cell_type": "code",
   "execution_count": null,
   "id": "ab99168c",
   "metadata": {
    "ExecuteTime": {
     "end_time": "2021-08-10T12:31:05.220592Z",
     "start_time": "2021-08-10T12:31:05.220548Z"
    },
    "hidden": true
   },
   "outputs": [],
   "source": [
    "sns.histplot(data=df4[\"day_of_week\"])"
   ]
  },
  {
   "cell_type": "markdown",
   "id": "af40da95",
   "metadata": {
    "hidden": true
   },
   "source": [
    "But for the stores that open on Sundays, their sales are quite high in comparison to the other week days"
   ]
  },
  {
   "cell_type": "code",
   "execution_count": null,
   "id": "4e526998",
   "metadata": {
    "ExecuteTime": {
     "end_time": "2021-08-10T12:31:05.223345Z",
     "start_time": "2021-08-10T12:31:05.223307Z"
    },
    "hidden": true
   },
   "outputs": [],
   "source": [
    "plt.figure(figsize=(20, 6))\n",
    "\n",
    "plt.subplot(131)\n",
    "aux1 = df4[[\"day_of_week\", \"sales\"]].groupby(\"day_of_week\").mean().reset_index()\n",
    "sns.barplot(data=aux1, x=\"day_of_week\", y=\"sales\")\n",
    "\n",
    "plt.subplot(132)\n",
    "sns.regplot(data=aux1, x=\"day_of_week\", y=\"sales\")\n",
    "\n",
    "plt.subplot(133)\n",
    "sns.heatmap(aux1.corr(method=\"pearson\"), annot=True)"
   ]
  },
  {
   "cell_type": "markdown",
   "id": "fd8d75c8",
   "metadata": {
    "heading_collapsed": true,
    "hidden": true
   },
   "source": [
    "#### 4.2.1.12. Stores should sell less on school holidays\n",
    "**FALSE** - Stores genarally sell more on school holidays"
   ]
  },
  {
   "cell_type": "code",
   "execution_count": null,
   "id": "cab7b4fd",
   "metadata": {
    "ExecuteTime": {
     "end_time": "2021-08-10T12:31:05.227270Z",
     "start_time": "2021-08-10T12:31:05.227223Z"
    },
    "hidden": true
   },
   "outputs": [],
   "source": [
    "plt.subplot(211)\n",
    "aux1 = df4[[\"school_holiday\", \"sales\"]].groupby(\"school_holiday\").mean().reset_index()\n",
    "sns.barplot(data=aux1, x=\"school_holiday\", y=\"sales\")\n",
    "\n",
    "plt.subplot(212)\n",
    "aux1 = df4[[\"month\", \"school_holiday\", \"sales\"]].groupby([\"school_holiday\", \"month\"]).mean().reset_index()\n",
    "sns.barplot(data=aux1, x=\"month\", y=\"sales\", hue=\"school_holiday\")"
   ]
  },
  {
   "cell_type": "markdown",
   "id": "4c577698",
   "metadata": {
    "hidden": true
   },
   "source": [
    "Another way to visualize"
   ]
  },
  {
   "cell_type": "code",
   "execution_count": null,
   "id": "9fc78de4",
   "metadata": {
    "ExecuteTime": {
     "end_time": "2021-08-10T12:31:05.230096Z",
     "start_time": "2021-08-10T12:31:05.230049Z"
    },
    "hidden": true
   },
   "outputs": [],
   "source": [
    "aux1 = df4[[\"school_holiday\", \"month\", \"sales\"]]\n",
    "aux1 = aux1.groupby([\"month\", \"school_holiday\"]).mean().reset_index()\n",
    "aux1 = aux1.pivot(index=\"month\", columns=\"school_holiday\", values=\"sales\")\n",
    "aux1.plot()\n",
    "\n"
   ]
  },
  {
   "cell_type": "markdown",
   "id": "8bb29adb",
   "metadata": {
    "heading_collapsed": true,
    "hidden": true
   },
   "source": [
    "### 4.2.2. Analisys predicated on the added sales values, for the whole business"
   ]
  },
  {
   "cell_type": "markdown",
   "id": "f6963cdc",
   "metadata": {
    "heading_collapsed": true,
    "hidden": true
   },
   "source": [
    "#### 4.2.1.1 Hypothsis: Stores with larger assorment should sell more\n",
    "\n",
    "**FALSE** - Individualy, stores with higher assortment sell more (it would be **true**), but in the added value of all stores of each type the higher assortment sold way less "
   ]
  },
  {
   "cell_type": "markdown",
   "id": "a2e692bf",
   "metadata": {
    "hidden": true
   },
   "source": [
    "In an individual analysis level, a single extra type store sells more than either extended or basic type stores\n",
    "\n",
    "However, since there are way more stores of the the basic and extended assortment type, as was discovered in the univariate analysis, the cumulative profit of this two far exceeds the profit of all the stores of the extra assortment type, as shown bellow"
   ]
  },
  {
   "cell_type": "code",
   "execution_count": null,
   "id": "02498dd3",
   "metadata": {
    "ExecuteTime": {
     "end_time": "2021-08-10T12:31:05.232805Z",
     "start_time": "2021-08-10T12:31:05.232756Z"
    },
    "hidden": true
   },
   "outputs": [],
   "source": [
    "aux2 = df4[[\"assortment\", \"sales\"]].groupby(\"assortment\").sum().reset_index()\n",
    "sns.barplot(data=aux2, x=\"assortment\", y=\"sales\")"
   ]
  },
  {
   "cell_type": "markdown",
   "id": "f729bab7",
   "metadata": {
    "hidden": true
   },
   "source": [
    "If the profit of the all extra assortment types is so small in comparison with the other types, one question might be raised: were the profits of the \"extras\" higher in the begining of the recording day and plumed with time? In other words, was there any interesting variation in the profit along the registered time?"
   ]
  },
  {
   "cell_type": "code",
   "execution_count": null,
   "id": "4c2048ad",
   "metadata": {
    "ExecuteTime": {
     "end_time": "2021-08-10T12:31:05.235753Z",
     "start_time": "2021-08-10T12:31:05.235706Z"
    },
    "hidden": true
   },
   "outputs": [],
   "source": [
    "aux3 = df4[[\"year_week\", \"assortment\", \"sales\"]].groupby([\"year_week\", \"assortment\"]).sum().reset_index()\n",
    "aux3.head()"
   ]
  },
  {
   "cell_type": "code",
   "execution_count": null,
   "id": "45314637",
   "metadata": {
    "ExecuteTime": {
     "end_time": "2021-08-10T12:31:05.244941Z",
     "start_time": "2021-08-10T12:31:05.244887Z"
    },
    "hidden": true
   },
   "outputs": [],
   "source": [
    "# reorganizing the graph\n",
    "pivot_aux3 = aux3.pivot(index=\"year_week\", columns=\"assortment\", values=\"sales\")\n",
    "pivot_aux3.head()"
   ]
  },
  {
   "cell_type": "code",
   "execution_count": null,
   "id": "4a625417",
   "metadata": {
    "ExecuteTime": {
     "end_time": "2021-08-10T12:31:05.248428Z",
     "start_time": "2021-08-10T12:31:05.248381Z"
    },
    "hidden": true
   },
   "outputs": [],
   "source": [
    "pivot_aux3.plot(title=\"Sales by Year Week in each Assortment Store Type\");"
   ]
  },
  {
   "cell_type": "code",
   "execution_count": null,
   "id": "0333d439",
   "metadata": {
    "ExecuteTime": {
     "end_time": "2021-08-10T12:31:05.251270Z",
     "start_time": "2021-08-10T12:31:05.251223Z"
    },
    "hidden": true,
    "hide_input": false
   },
   "outputs": [],
   "source": [
    "# only of the assortment extra type, zooming in\n",
    "pivot_aux3[\"extra\"].plot(title=\"Sales by Year Week of only 'Extra' Assortment Store Type\");"
   ]
  },
  {
   "cell_type": "markdown",
   "id": "854c0e14",
   "metadata": {
    "heading_collapsed": true,
    "hidden": true
   },
   "source": [
    "#### 4.2.1.2 Hypothesis: Stores with close competitors should sell less\n",
    "**FALSE** - Since there are way more stores with close competitors, the added sales of those are much higher"
   ]
  },
  {
   "cell_type": "code",
   "execution_count": null,
   "id": "513a2bab",
   "metadata": {
    "ExecuteTime": {
     "end_time": "2021-08-10T12:31:05.254028Z",
     "start_time": "2021-08-10T12:31:05.253989Z"
    },
    "hidden": true
   },
   "outputs": [],
   "source": [
    "# grouping by exact competition distance made the number of rows 1289 times lower\n",
    "aux1 = df4[[\"competition_distance\", \"sales\"]].groupby(\"competition_distance\").sum().reset_index()\n",
    "\n",
    "plt.figure(figsize=(22, 5))\n",
    "\n",
    "# ==== SCATTERPLOT =====\n",
    "plt.subplot(131)\n",
    "sns.scatterplot(data=aux1, x=\"competition_distance\", y=\"sales\");\n",
    "\n",
    "# ==== BARPLOT ====\n",
    "plt.subplot(132)\n",
    "# however the barplot made with this dataframe is still very dificult to visualize, too many entries (655 to be exact)\n",
    "# so I will group the distances by distances of 1000, group the distances by bins\n",
    "# creating bins only until 20000 not 200000, possibly because the higher values are just too small and\n",
    "# do not influence in the confirmation or not of the hypothesis, the trend as is with 20000 is clear enough\n",
    "bins = list( range( 0, 20000, 1000 ) )\n",
    "\n",
    "# pd.cut is made exactaly for assigning values to bins, numerical values to categorical\n",
    "aux1[\"competition_distance_binned\"] = pd.cut( x=aux1[\"competition_distance\"], bins=bins )\n",
    "aux2 = aux1[[\"competition_distance_binned\", \"sales\"]].groupby(\"competition_distance_binned\").sum().reset_index()\n",
    "sns.barplot(data=aux2, x=\"competition_distance_binned\", y=\"sales\");\n",
    "plt.xticks( rotation=90 )\n",
    "\n",
    "# ==== CORRELATION HEATMAP ====\n",
    "# the value can go from 1 to -1, where 0 means no correlation\n",
    "# -0.23 means that there is a small negative correlation, meaning that the greater the distance smaller the sales\n",
    "plt.subplot(133)\n",
    "sns.heatmap(aux1.corr(method=\"pearson\"), annot=True);"
   ]
  },
  {
   "cell_type": "markdown",
   "id": "7f67bee9",
   "metadata": {
    "hidden": true
   },
   "source": [
    "By the previous analysis the stores that have nearer competitors have a higher sale.\n",
    "\n",
    "Howerver, this phenomenon only occurs because there are much more stores with close competitors in the data:"
   ]
  },
  {
   "cell_type": "code",
   "execution_count": null,
   "id": "61d5ca01",
   "metadata": {
    "ExecuteTime": {
     "end_time": "2021-08-10T12:31:05.256741Z",
     "start_time": "2021-08-10T12:31:05.256707Z"
    },
    "hidden": true
   },
   "outputs": [],
   "source": [
    "plt.title(\"Desity of Number of Stores by Competition Distance\")\n",
    "sns.kdeplot(data=df4[\"competition_distance\"]);"
   ]
  },
  {
   "cell_type": "markdown",
   "id": "2a2ac919",
   "metadata": {
    "heading_collapsed": true,
    "hidden": true
   },
   "source": [
    "#### 4.2.1.3. Stores with longer-term competitors should sell more\n",
    "**FALSE** - There are much less recordings for stores with long term competitors, so the sales seems to decrease"
   ]
  },
  {
   "cell_type": "markdown",
   "id": "fbf0d79f",
   "metadata": {
    "ExecuteTime": {
     "end_time": "2021-08-03T23:30:08.087713Z",
     "start_time": "2021-08-03T23:30:08.070595Z"
    },
    "hidden": true
   },
   "source": [
    "By the analysis bellow the relation between long-term competitors and sales is negative, the longer the competition, smaller the sales"
   ]
  },
  {
   "cell_type": "code",
   "execution_count": null,
   "id": "e7e5341b",
   "metadata": {
    "ExecuteTime": {
     "end_time": "2021-08-10T12:31:05.260150Z",
     "start_time": "2021-08-10T12:31:05.260108Z"
    },
    "hidden": true
   },
   "outputs": [],
   "source": [
    "aux1 = df4[[\"competition_time_in_months\", \"sales\"]].groupby(\"competition_time_in_months\").sum().reset_index()\n",
    "aux1 = aux1[(aux1[\"competition_time_in_months\"] != 0) & (aux1[\"competition_time_in_months\"] < 300)]\n",
    "\n",
    "plt.figure(figsize=(22, 5))\n",
    "\n",
    "plt.subplot(131)\n",
    "sns.barplot(data=aux1, x=\"competition_time_in_months\", y=\"sales\")\n",
    "plt.xticks(rotation=90);\n",
    "\n",
    "plt.subplot(132)\n",
    "sns.regplot(data=aux1, x=\"competition_time_in_months\", y=\"sales\");\n",
    "plt.title(\"Sales by Competition Time in Months (not balancing by how many stores in each time)\");\n",
    "\n",
    "plt.subplot(133)\n",
    "sns.heatmap(aux1.corr(method=\"pearson\"), annot=True);"
   ]
  },
  {
   "cell_type": "markdown",
   "id": "b8a5a3c8",
   "metadata": {
    "hidden": true
   },
   "source": [
    "Yet, one must take into account that this value have a strong influence comming from the ammount of stores that were measured that were concentrated around the 0. This naturaly make a peak in sales in this months, meaning that since we have more stores around the 0, when we sum up them, we have a higher cumulative sale.\n",
    "\n",
    "Bellow is shown the higher concentration of measures around 0"
   ]
  },
  {
   "cell_type": "code",
   "execution_count": null,
   "id": "5f6cdb5f",
   "metadata": {
    "ExecuteTime": {
     "end_time": "2021-08-10T12:31:05.263146Z",
     "start_time": "2021-08-10T12:31:05.263099Z"
    },
    "hidden": true
   },
   "outputs": [],
   "source": [
    "aux1 = df4.loc[(df4[\"competition_time_in_months\"] != 0) & (df4[\"competition_time_in_months\"] < 300), [\"competition_time_in_months\", \"sales\"]]\n",
    "sns.kdeplot(data=aux1, x=\"competition_time_in_months\");\n",
    "plt.title(\"Number of Values/Measures by Competition Distance in months\");"
   ]
  },
  {
   "cell_type": "markdown",
   "id": "dfb24f58",
   "metadata": {
    "hidden": true
   },
   "source": [
    "Bellow is the exact actions made above (except the bar chart that was too difficult to visualize), just that now we are taking the mean of values in any given month, effectively removing the additional effect of the greater amount of data around the 0 months\n",
    "\n",
    "Therefore discovering a positive high correlation between the variables, meaning that yes, the sales go up the longer the competition time span"
   ]
  },
  {
   "cell_type": "code",
   "execution_count": null,
   "id": "43abe131",
   "metadata": {
    "ExecuteTime": {
     "end_time": "2021-08-10T12:31:05.264883Z",
     "start_time": "2021-08-10T12:31:05.264844Z"
    },
    "hidden": true
   },
   "outputs": [],
   "source": [
    "aux1 = df4[[\"competition_time_in_months\", \"sales\"]].groupby(\"competition_time_in_months\").mean().reset_index()\n",
    "aux1 = aux1[(aux1[\"competition_time_in_months\"] != 0) & (aux1[\"competition_time_in_months\"] < 300)]\n",
    "\n",
    "plt.figure(figsize=(22, 8))\n",
    "\n",
    "plt.subplot(121)\n",
    "sns.regplot(data=aux1, x=\"competition_time_in_months\", y=\"sales\");\n",
    "plt.title(\"Sales by Competition Time in Months (not balancing by how many stores in each time)\");\n",
    "\n",
    "plt.subplot(122)\n",
    "sns.heatmap(aux1.corr(method=\"pearson\"), annot=True);"
   ]
  },
  {
   "cell_type": "markdown",
   "id": "f2801b18",
   "metadata": {
    "ExecuteTime": {
     "end_time": "2021-08-04T14:26:12.546984Z",
     "start_time": "2021-08-04T14:26:12.543464Z"
    },
    "heading_collapsed": true,
    "hidden": true
   },
   "source": [
    "#### 4.2.1.4  Stores with longer sales (promotions) periods should sell more - Is sales growing inside Promo2?\n",
    "**FALSE** - The added value for sales appears to decrease. This is caused for the much lower amount of stores that are longer term \"promo2\"\n",
    "\n",
    "**However** We can not say that the growth of sales is directly related to the longer Promo2, that it is the cause. There are many factors influencing the growth of the stores, this might be even a natural growth related to the natural growth of a store after it opens. It is only a correlation! "
   ]
  },
  {
   "cell_type": "code",
   "execution_count": null,
   "id": "66cb0f06",
   "metadata": {
    "ExecuteTime": {
     "end_time": "2021-08-10T12:31:05.267227Z",
     "start_time": "2021-08-10T12:31:05.267189Z"
    },
    "hidden": true
   },
   "outputs": [],
   "source": [
    "aux1 = df4[[\"promo2_time_in_weeks\", \"sales\"]].groupby(\"promo2_time_in_weeks\").sum().reset_index()\n",
    "\n",
    "plt.figure(figsize=(20, 9))\n",
    "grid = gridspec.GridSpec(2, 3)\n",
    "\n",
    "plt.subplot(grid[0, 0])\n",
    "aux2 = aux1[aux1[\"promo2_time_in_weeks\"] < 0]\n",
    "sns.barplot(data=aux2, x=\"promo2_time_in_weeks\", y=\"sales\");\n",
    "\n",
    "plt.subplot(grid[0, 1])\n",
    "aux3 = aux1[aux1[\"promo2_time_in_weeks\"] > 0]\n",
    "sns.barplot(data=aux3, x=\"promo2_time_in_weeks\", y=\"sales\");\n",
    "\n",
    "plt.subplot(grid[1, 0])\n",
    "sns.regplot(data=aux2, x=\"promo2_time_in_weeks\", y=\"sales\");\n",
    "\n",
    "plt.subplot(grid[1, 1])\n",
    "sns.regplot(data=aux3, x=\"promo2_time_in_weeks\", y=\"sales\");\n",
    "\n",
    "# the correlation is made using the whole dataset (aux1 here), not the parts\n",
    "plt.subplot(grid[:, 2])\n",
    "sns.heatmap(aux1.corr(method=\"pearson\"), annot=True)"
   ]
  },
  {
   "cell_type": "markdown",
   "id": "9623a679",
   "metadata": {
    "hidden": true
   },
   "source": [
    "The plots above were analysing the data without considering the higher amount of data registered for stores that were in promo2 between 0 and 200 weeks, as shown in the graph bellow. Because of that, when adding all the values, the result is inflated, more values are added for these days, resulting in more cumulative sales."
   ]
  },
  {
   "cell_type": "code",
   "execution_count": null,
   "id": "cbb8728c",
   "metadata": {
    "ExecuteTime": {
     "end_time": "2021-08-10T12:31:05.269129Z",
     "start_time": "2021-08-10T12:31:05.269081Z"
    },
    "hidden": true
   },
   "outputs": [],
   "source": [
    "aux1 = df4.loc[df4[\"promo2_time_in_weeks\"] != 0, [\"promo2_time_in_weeks\"]]\n",
    "sns.histplot(data=aux1, kde=True)"
   ]
  },
  {
   "cell_type": "markdown",
   "id": "1229f25c",
   "metadata": {
    "hidden": true
   },
   "source": [
    "Taking that into consideration we may take the mean, not the sum, in order to balance the data. This way the higher amount of registered measures of stores between 0 and 200 will make less of a impact in the result"
   ]
  },
  {
   "cell_type": "code",
   "execution_count": null,
   "id": "bc0fb244",
   "metadata": {
    "ExecuteTime": {
     "end_time": "2021-08-10T12:31:05.271559Z",
     "start_time": "2021-08-10T12:31:05.271512Z"
    },
    "hidden": true
   },
   "outputs": [],
   "source": [
    "aux1 = df4[[\"promo2_time_in_weeks\", \"sales\"]].groupby(\"promo2_time_in_weeks\").mean().reset_index()\n",
    "\n",
    "plt.figure(figsize=(20, 9))\n",
    "grid = gridspec.GridSpec(2, 3)\n",
    "\n",
    "plt.subplot(grid[0, 0])\n",
    "aux2 = aux1[aux1[\"promo2_time_in_weeks\"] < 0]\n",
    "sns.barplot(data=aux2, x=\"promo2_time_in_weeks\", y=\"sales\");\n",
    "\n",
    "plt.subplot(grid[0, 1])\n",
    "aux3 = aux1[aux1[\"promo2_time_in_weeks\"] > 0]\n",
    "sns.barplot(data=aux3, x=\"promo2_time_in_weeks\", y=\"sales\");\n",
    "\n",
    "plt.subplot(grid[1, 0])\n",
    "sns.regplot(data=aux2, x=\"promo2_time_in_weeks\", y=\"sales\");\n",
    "\n",
    "plt.subplot(grid[1, 1])\n",
    "sns.regplot(data=aux3, x=\"promo2_time_in_weeks\", y=\"sales\");\n",
    "\n",
    "# the correlation is made using the whole dataset (aux1 here), not the parts\n",
    "plt.subplot(grid[:, 2])\n",
    "sns.heatmap(aux1.corr(method=\"pearson\"), annot=True)"
   ]
  },
  {
   "cell_type": "markdown",
   "id": "4f15bd95",
   "metadata": {
    "heading_collapsed": true,
    "hidden": true
   },
   "source": [
    "#### <s>4.2.1.5. Stores with longer sales consecutive days should sell more</s>"
   ]
  },
  {
   "cell_type": "markdown",
   "id": "7162d7d5",
   "metadata": {
    "hidden": true
   },
   "source": [
    "I do not believe that there is data to test the hypothesis"
   ]
  },
  {
   "cell_type": "markdown",
   "id": "038587df",
   "metadata": {
    "heading_collapsed": true,
    "hidden": true
   },
   "source": [
    "#### 4.2.1.6 Stores with more consecutive promotions should sell more\n",
    "**FALSE** - Stores with \"promo2\" sell less than without, the higher sellers are the ones with only \"promo\""
   ]
  },
  {
   "cell_type": "code",
   "execution_count": null,
   "id": "9a0a6bb6",
   "metadata": {
    "ExecuteTime": {
     "end_time": "2021-08-10T12:31:05.275380Z",
     "start_time": "2021-08-10T12:31:05.275334Z"
    },
    "hidden": true
   },
   "outputs": [],
   "source": [
    "df4[[\"promo\", \"promo2\", \"sales\"]].groupby([\"promo\", \"promo2\"]).sum().reset_index().sort_values(by=\"sales\")"
   ]
  },
  {
   "cell_type": "code",
   "execution_count": null,
   "id": "ceef2b6e",
   "metadata": {
    "ExecuteTime": {
     "end_time": "2021-08-10T12:31:05.277962Z",
     "start_time": "2021-08-10T12:31:05.277921Z"
    },
    "hidden": true
   },
   "outputs": [],
   "source": [
    "aux1 = df4.loc[(df4[\"promo\"] == 1) & (df4[\"promo2\"] == 1), [\"year_week\", \"sales\"]].groupby(\"year_week\").sum().reset_index()\n",
    "ax = aux1.plot()\n",
    "\n",
    "aux2 = df4.loc[(df4[\"promo\"] == 1) & (df4[\"promo2\"] == 0), [\"year_week\", \"sales\"]].groupby(\"year_week\").sum().reset_index()\n",
    "aux2.plot(ax=ax)\n",
    "\n",
    "ax.legend(labels=[\"With Promo, Whith Promo2\", \"With Promo, No Promo2\"])"
   ]
  },
  {
   "cell_type": "markdown",
   "id": "243b0c96",
   "metadata": {
    "ExecuteTime": {
     "end_time": "2021-08-04T19:26:00.657422Z",
     "start_time": "2021-08-04T19:26:00.651179Z"
    },
    "heading_collapsed": true,
    "hidden": true
   },
   "source": [
    "#### 4.2.1.7. Stores sells more on Christmas holiday \n",
    "**FALSE** - The added value for stores' sales on Christmas is lower. For there are much less stores opening in Christmas."
   ]
  },
  {
   "cell_type": "code",
   "execution_count": null,
   "id": "2493af84",
   "metadata": {
    "ExecuteTime": {
     "end_time": "2021-08-10T12:31:05.280037Z",
     "start_time": "2021-08-10T12:31:05.279990Z"
    },
    "hidden": true
   },
   "outputs": [],
   "source": [
    "plt.figure(figsize=(20, 8))\n",
    "\n",
    "plt.subplot(121)\n",
    "aux = df4[df4[\"state_holiday\"] != \"regular_day\"]\n",
    "aux1 = aux[[\"state_holiday\", \"sales\"]].groupby(\"state_holiday\").sum().reset_index()\n",
    "sns.barplot(data=aux1, y=\"sales\", x=\"state_holiday\");\n",
    "\n",
    "plt.subplot(122)\n",
    "aux2 = aux[[\"year\", \"state_holiday\", \"sales\"]].groupby([\"year\", \"state_holiday\"]).sum().reset_index()\n",
    "sns.barplot(data=aux2, y=\"sales\", x=\"year\", hue=\"state_holiday\");"
   ]
  },
  {
   "cell_type": "markdown",
   "id": "0f03b3ac",
   "metadata": {
    "ExecuteTime": {
     "end_time": "2021-08-04T19:26:34.999068Z",
     "start_time": "2021-08-04T19:26:34.993946Z"
    },
    "heading_collapsed": true,
    "hidden": true
   },
   "source": [
    "#### 4.2.1.8. Stores should sell more over the years\n",
    "**FALSE** - The added stores sales seems to be going down over the years. **However** this seems to be generated by the proportional decrease in measures taken over the years, less stores in the database. There can be less stores measured in the data or this can be a real thing, there are less stores opened. In the analysis taking this into account the average store is selling more over the years"
   ]
  },
  {
   "cell_type": "code",
   "execution_count": null,
   "id": "080f2658",
   "metadata": {
    "ExecuteTime": {
     "end_time": "2021-08-10T12:31:05.282156Z",
     "start_time": "2021-08-10T12:31:05.282107Z"
    },
    "hidden": true
   },
   "outputs": [],
   "source": [
    "plt.figure(figsize=(20, 14))\n",
    "grid = gridspec.GridSpec(2, 3)\n",
    "\n",
    "plt.subplot(grid[0, 0])\n",
    "aux1 = df4[[\"year\", \"sales\"]].groupby(\"year\").sum().reset_index()\n",
    "sns.barplot(data=aux1, x=\"year\", y=\"sales\")\n",
    "\n",
    "plt.subplot(grid[0, 1])\n",
    "sns.regplot(data=aux1, x=\"year\", y=\"sales\")\n",
    "plt.xticks(rotation=20)\n",
    "\n",
    "plt.subplot(grid[0, 2])\n",
    "sns.heatmap(aux1.corr(method=\"pearson\"), annot=True)\n",
    "\n",
    "plt.subplot(grid[1, :]).set_title(\"Number of Stores Measured per Year\")\n",
    "sns.countplot(data=df4, x=\"year\")"
   ]
  },
  {
   "cell_type": "markdown",
   "id": "f68d2279",
   "metadata": {
    "ExecuteTime": {
     "end_time": "2021-08-04T19:27:02.846636Z",
     "start_time": "2021-08-04T19:27:02.843635Z"
    },
    "heading_collapsed": true,
    "hidden": true
   },
   "source": [
    "#### 4.2.1.9. Stores should sell more during the last half of the year\n",
    "**FALSE** - The added value is lower"
   ]
  },
  {
   "cell_type": "code",
   "execution_count": null,
   "id": "cda4dba5",
   "metadata": {
    "ExecuteTime": {
     "end_time": "2021-08-10T12:31:05.287042Z",
     "start_time": "2021-08-10T12:31:05.286954Z"
    },
    "hidden": true
   },
   "outputs": [],
   "source": [
    "plt.figure(figsize=(20, 12))\n",
    "\n",
    "plt.subplot(221)\n",
    "aux1 = df4[[\"month\", \"sales\"]].groupby(\"month\").sum().reset_index()\n",
    "sns.barplot(data=aux1, x=\"month\", y=\"sales\")\n",
    "\n",
    "plt.subplot(222)\n",
    "aux2 = aux1.copy()\n",
    "aux2[\"semester\"] = pd.cut(x=aux1[\"month\"], bins=list(range(0, 13, 6)))\n",
    "aux2 = aux2[[\"semester\", \"sales\"]].groupby(\"semester\").sum().reset_index()\n",
    "sns.barplot(data=aux2, x=\"semester\", y=\"sales\");\n",
    "\n",
    "plt.subplot(223)\n",
    "sns.regplot(data=aux1, x=\"month\", y=\"sales\")\n",
    "\n",
    "plt.subplot(224)\n",
    "sns.heatmap(aux1.corr(method=\"pearson\"), annot=True)"
   ]
  },
  {
   "cell_type": "markdown",
   "id": "c7fb856e",
   "metadata": {
    "ExecuteTime": {
     "end_time": "2021-08-04T19:27:34.814685Z",
     "start_time": "2021-08-04T19:27:34.811353Z"
    },
    "heading_collapsed": true,
    "hidden": true
   },
   "source": [
    "#### 4.2.1.10. Stores should sell more after the tenth day of the month\n",
    "**TRUE** - Store added sales are higher after the tenth day of the month"
   ]
  },
  {
   "cell_type": "code",
   "execution_count": null,
   "id": "aed49a22",
   "metadata": {
    "ExecuteTime": {
     "end_time": "2021-08-10T12:31:05.294572Z",
     "start_time": "2021-08-10T12:31:05.294521Z"
    },
    "hidden": true
   },
   "outputs": [],
   "source": [
    "plt.figure(figsize=(20, 12))\n",
    "\n",
    "plt.subplot(221)\n",
    "aux1 = df4[[\"day\", \"sales\"]].groupby(\"day\").sum().reset_index()\n",
    "sns.barplot(data=aux1, x=\"day\", y=\"sales\")\n",
    "\n",
    "plt.subplot(223)\n",
    "sns.regplot(data=aux1, x=\"day\", y=\"sales\")\n",
    "\n",
    "plt.subplot(224)\n",
    "sns.heatmap(aux1.corr(method=\"pearson\"), annot=True)\n",
    "\n",
    "plt.subplot(222)\n",
    "aux1[\"before_after\"] = aux1[\"day\"].apply(lambda x: \"before_10th_day\" if x <= 10 else \"after_10th_day\")\n",
    "aux2 = aux1.groupby(\"before_after\").sum().reset_index()\n",
    "sns.barplot(data=aux2, x=\"before_after\", y=\"sales\")"
   ]
  },
  {
   "cell_type": "markdown",
   "id": "29b81159",
   "metadata": {
    "heading_collapsed": true,
    "hidden": true
   },
   "source": [
    "#### 4.2.1.11. Stores should sell less on weekends\n",
    "**TRUE** - Stores cumulative sales are way lower in weekends. This is caused by the much smaller amount of stores opened on Sundays"
   ]
  },
  {
   "cell_type": "code",
   "execution_count": null,
   "id": "ca5802ba",
   "metadata": {
    "ExecuteTime": {
     "end_time": "2021-08-10T12:31:05.296378Z",
     "start_time": "2021-08-10T12:31:05.296336Z"
    },
    "hidden": true
   },
   "outputs": [],
   "source": [
    "plt.figure(figsize=(20, 6))\n",
    "\n",
    "plt.subplot(131)\n",
    "aux1 = df4[[\"day_of_week\", \"sales\"]].groupby(\"day_of_week\").sum().reset_index()\n",
    "sns.barplot(data=aux1, x=\"day_of_week\", y=\"sales\")\n",
    "\n",
    "plt.subplot(132)\n",
    "sns.regplot(data=aux1, x=\"day_of_week\", y=\"sales\")\n",
    "\n",
    "plt.subplot(133)\n",
    "sns.heatmap(aux1.corr(method=\"pearson\"), annot=True)"
   ]
  },
  {
   "cell_type": "markdown",
   "id": "32b1d075",
   "metadata": {
    "hidden": true
   },
   "source": [
    "Sales on sunday are very low. This is caused by the greater number of stores closed on Sundays:"
   ]
  },
  {
   "cell_type": "code",
   "execution_count": null,
   "id": "046dd0dd",
   "metadata": {
    "ExecuteTime": {
     "end_time": "2021-08-10T12:31:05.302550Z",
     "start_time": "2021-08-10T12:31:05.302490Z"
    },
    "hidden": true
   },
   "outputs": [],
   "source": [
    "sns.histplot(data=df4[\"day_of_week\"])"
   ]
  },
  {
   "cell_type": "markdown",
   "id": "e96aacff",
   "metadata": {
    "hidden": true
   },
   "source": [
    "But for the stores that open on Sundays, their sales are quite high in comparison to the other week days"
   ]
  },
  {
   "cell_type": "code",
   "execution_count": null,
   "id": "c994569c",
   "metadata": {
    "ExecuteTime": {
     "end_time": "2021-08-10T12:31:05.305466Z",
     "start_time": "2021-08-10T12:31:05.305406Z"
    },
    "hidden": true
   },
   "outputs": [],
   "source": [
    "plt.figure(figsize=(20, 6))\n",
    "\n",
    "plt.subplot(131)\n",
    "aux1 = df4[[\"day_of_week\", \"sales\"]].groupby(\"day_of_week\").mean().reset_index()\n",
    "sns.barplot(data=aux1, x=\"day_of_week\", y=\"sales\")\n",
    "\n",
    "plt.subplot(132)\n",
    "sns.regplot(data=aux1, x=\"day_of_week\", y=\"sales\")\n",
    "\n",
    "plt.subplot(133)\n",
    "sns.heatmap(aux1.corr(method=\"pearson\"), annot=True)"
   ]
  },
  {
   "cell_type": "markdown",
   "id": "62d365ff",
   "metadata": {
    "heading_collapsed": true,
    "hidden": true
   },
   "source": [
    "#### 4.2.1.12. Stores should sell less on school holidays\n",
    "**TRUE** - The added sales value for school holidays is much lower. For there are much less school holidays than days without school holidays. On august, schools are mostly closed, the sales are inverted "
   ]
  },
  {
   "cell_type": "code",
   "execution_count": null,
   "id": "14d82857",
   "metadata": {
    "ExecuteTime": {
     "end_time": "2021-08-10T12:31:05.308970Z",
     "start_time": "2021-08-10T12:31:05.308910Z"
    },
    "hidden": true
   },
   "outputs": [],
   "source": [
    "plt.subplot(211)\n",
    "aux1 = df4[[\"school_holiday\", \"sales\"]].groupby(\"school_holiday\").sum().reset_index()\n",
    "sns.barplot(data=aux1, x=\"school_holiday\", y=\"sales\")\n",
    "\n",
    "plt.subplot(212)\n",
    "aux1 = df4[[\"month\", \"school_holiday\", \"sales\"]].groupby([\"school_holiday\", \"month\"]).sum().reset_index()\n",
    "sns.barplot(data=aux1, x=\"month\", y=\"sales\", hue=\"school_holiday\")"
   ]
  },
  {
   "cell_type": "code",
   "execution_count": null,
   "id": "9b6a344a",
   "metadata": {
    "ExecuteTime": {
     "end_time": "2021-08-10T12:31:05.312255Z",
     "start_time": "2021-08-10T12:31:05.312197Z"
    },
    "hidden": true
   },
   "outputs": [],
   "source": [
    "aux1 = df4[[\"school_holiday\", \"month\", \"sales\"]]\n",
    "aux1 = aux1.groupby([\"month\", \"school_holiday\"]).sum().reset_index()\n",
    "aux1 = aux1.pivot(index=\"month\", columns=\"school_holiday\", values=\"sales\")\n",
    "aux1.plot()\n",
    "\n"
   ]
  },
  {
   "cell_type": "markdown",
   "id": "4e92866e",
   "metadata": {
    "hidden": true
   },
   "source": [
    "Much more regular days than school holidays"
   ]
  },
  {
   "cell_type": "code",
   "execution_count": null,
   "id": "c7c1dad4",
   "metadata": {
    "ExecuteTime": {
     "end_time": "2021-08-10T12:31:05.315536Z",
     "start_time": "2021-08-10T12:31:05.315477Z"
    },
    "hidden": true
   },
   "outputs": [],
   "source": [
    "sns.countplot(data=df4[[\"school_holiday\", \"month\", \"sales\"]], x=\"month\", hue=\"school_holiday\")"
   ]
  },
  {
   "cell_type": "markdown",
   "id": "a119bc45",
   "metadata": {
    "heading_collapsed": true,
    "hidden": true
   },
   "source": [
    "## 4.3. Multivariate Analysis"
   ]
  },
  {
   "cell_type": "markdown",
   "id": "ec960fce",
   "metadata": {
    "ExecuteTime": {
     "end_time": "2021-08-06T17:27:50.105168Z",
     "start_time": "2021-08-06T17:27:50.099616Z"
    },
    "heading_collapsed": true,
    "hidden": true
   },
   "source": [
    "### 4.3.1. Numerical attributes"
   ]
  },
  {
   "cell_type": "code",
   "execution_count": null,
   "id": "e121d2d9",
   "metadata": {
    "ExecuteTime": {
     "end_time": "2021-08-10T12:31:05.318569Z",
     "start_time": "2021-08-10T12:31:05.318514Z"
    },
    "hidden": true
   },
   "outputs": [],
   "source": [
    "num_correlation = num_attributes.corr(method=\"pearson\")\n",
    "sns.heatmap(data=num_correlation, annot=True)"
   ]
  },
  {
   "cell_type": "markdown",
   "id": "22d9f0b7",
   "metadata": {
    "ExecuteTime": {
     "end_time": "2021-08-06T17:28:23.536175Z",
     "start_time": "2021-08-06T17:28:23.530461Z"
    },
    "heading_collapsed": true,
    "hidden": true
   },
   "source": [
    "### 4.3.2. Nominal attributes"
   ]
  },
  {
   "cell_type": "markdown",
   "id": "55ad5e40",
   "metadata": {
    "hidden": true
   },
   "source": [
    "To calculate correlation between nominal variables the method to be used here is the Cramer's V. It is a variation of a chi squared test"
   ]
  },
  {
   "cell_type": "code",
   "execution_count": null,
   "id": "5c36948a",
   "metadata": {
    "ExecuteTime": {
     "end_time": "2021-08-10T12:31:05.321154Z",
     "start_time": "2021-08-10T12:31:05.321109Z"
    },
    "hidden": true
   },
   "outputs": [],
   "source": [
    "# the cramer_v is not a method from a library,\n",
    "# it is function is a custom function writen by me in the helper functions section,\n",
    "# based on the cramer_v formula\n",
    "\n",
    "a = cramer_v( df4[\"state_holiday\"], df4[\"state_holiday\"] )\n",
    "b = cramer_v( df4[\"state_holiday\"], df4[\"store_type\"] )\n",
    "c = cramer_v( df4[\"state_holiday\"], df4[\"assortment\"] )\n",
    "\n",
    "a1 = cramer_v( df4[\"store_type\"], df4[\"state_holiday\"] )\n",
    "b1 = cramer_v( df4[\"store_type\"], df4[\"store_type\"] )\n",
    "c1 = cramer_v( df4[\"store_type\"], df4[\"assortment\"] )\n",
    "\n",
    "a2 = cramer_v( df4[\"assortment\"], df4[\"state_holiday\"] )\n",
    "b2 = cramer_v( df4[\"assortment\"], df4[\"store_type\"] )\n",
    "c2 = cramer_v( df4[\"assortment\"], df4[\"assortment\"] )\n",
    "\n",
    "d = pd.DataFrame( {\n",
    "    \"state_holiday\": [a, b, c],\n",
    "    \"store_type\": [a1, b1, c1],\n",
    "    \"assortment\": [a2, b2, c2]\n",
    "    } )\n",
    "d = d.set_index( d.columns )\n",
    "\n",
    "sns.heatmap(data=d, annot=True)"
   ]
  },
  {
   "cell_type": "markdown",
   "id": "596e479b",
   "metadata": {},
   "source": [
    "# 5.0. Data preparation"
   ]
  },
  {
   "cell_type": "markdown",
   "id": "9622b279",
   "metadata": {},
   "source": [
    "There are 3 types of data transformation that we can do.\n",
    "\n",
    "One of the two main reasons we want to prepare the data for the ML process is that we want to transform the categorical data to numerical and we want to make all data in the same scale"
   ]
  },
  {
   "cell_type": "code",
   "execution_count": null,
   "id": "678481b5",
   "metadata": {
    "ExecuteTime": {
     "end_time": "2021-08-10T12:31:05.323702Z",
     "start_time": "2021-08-10T12:31:05.323660Z"
    }
   },
   "outputs": [],
   "source": [
    "df5 = df4.copy()"
   ]
  },
  {
   "cell_type": "markdown",
   "id": "685e4582",
   "metadata": {},
   "source": [
    "## 5.1. Normalization"
   ]
  },
  {
   "cell_type": "markdown",
   "id": "e7048064",
   "metadata": {},
   "source": [
    "Normalize data that is already in a normal distribution\n",
    "\n",
    "According to section 4.1.2 Numerical variable of the exploratory analysis we can see that no values are in normal distributions, so we do not perform normalizations"
   ]
  },
  {
   "cell_type": "markdown",
   "id": "1056fed2",
   "metadata": {},
   "source": [
    "## 5.2. Rescaling"
   ]
  },
  {
   "cell_type": "markdown",
   "id": "c3f1a95f",
   "metadata": {},
   "source": [
    "For non-cyclic numerical values, using **Min-Max Scaler** or **Robust Scaler**\n",
    "\n",
    "The min max scaler technique return values in relation to the min max values, the problem is that it is very sensible to outliers, meaning that a very huge value that is not recurrent can make all the common values as small. When the data is rich in outliers better use the robust scaler, that uses the 25 percentile and the 75 as values to relate the data, not sensitive to outliers"
   ]
  },
  {
   "cell_type": "code",
   "execution_count": null,
   "id": "1bb84a8f",
   "metadata": {},
   "outputs": [],
   "source": []
  },
  {
   "cell_type": "code",
   "execution_count": null,
   "id": "152d3287",
   "metadata": {
    "ExecuteTime": {
     "end_time": "2021-08-10T12:31:05.327279Z",
     "start_time": "2021-08-10T12:31:05.327233Z"
    }
   },
   "outputs": [],
   "source": [
    "# competition distance\n",
    "# year\n",
    "# competition_time_in_months\n",
    "# promo2_time_in_weeks\n",
    "\n",
    "# use boxplot to take a look at the presence of outliers\n",
    "num = df5.select_dtypes(include=[\"int64\", \"float64\"])\n",
    "num.head()"
   ]
  },
  {
   "cell_type": "code",
   "execution_count": null,
   "id": "a1f87b7e",
   "metadata": {
    "ExecuteTime": {
     "end_time": "2021-08-10T12:31:05.330153Z",
     "start_time": "2021-08-10T12:31:05.330109Z"
    }
   },
   "outputs": [],
   "source": [
    "sns.boxplot(x=num[\"competition_distance\"])"
   ]
  },
  {
   "cell_type": "code",
   "execution_count": null,
   "id": "7c55b212",
   "metadata": {},
   "outputs": [],
   "source": []
  },
  {
   "cell_type": "markdown",
   "id": "74f0f6a9",
   "metadata": {},
   "source": [
    "## 5.3. Transformation"
   ]
  },
  {
   "cell_type": "markdown",
   "id": "5734fe33",
   "metadata": {},
   "source": [
    "Cyclic numerical values"
   ]
  },
  {
   "cell_type": "code",
   "execution_count": null,
   "id": "7b7a3acc",
   "metadata": {},
   "outputs": [],
   "source": []
  },
  {
   "cell_type": "markdown",
   "id": "179bcf88",
   "metadata": {},
   "source": [
    "# SPACE"
   ]
  },
  {
   "cell_type": "code",
   "execution_count": null,
   "id": "65d28230",
   "metadata": {},
   "outputs": [],
   "source": []
  },
  {
   "cell_type": "code",
   "execution_count": null,
   "id": "92bfb505",
   "metadata": {},
   "outputs": [],
   "source": []
  },
  {
   "cell_type": "code",
   "execution_count": null,
   "id": "54e54fbc",
   "metadata": {},
   "outputs": [],
   "source": []
  },
  {
   "cell_type": "code",
   "execution_count": null,
   "id": "431bdc04",
   "metadata": {},
   "outputs": [],
   "source": []
  },
  {
   "cell_type": "code",
   "execution_count": null,
   "id": "32a9c5cb",
   "metadata": {},
   "outputs": [],
   "source": []
  },
  {
   "cell_type": "code",
   "execution_count": null,
   "id": "a7fb49f3",
   "metadata": {},
   "outputs": [],
   "source": []
  },
  {
   "cell_type": "code",
   "execution_count": null,
   "id": "818bb50e",
   "metadata": {},
   "outputs": [],
   "source": []
  },
  {
   "cell_type": "code",
   "execution_count": null,
   "id": "4328cf66",
   "metadata": {},
   "outputs": [],
   "source": []
  },
  {
   "cell_type": "code",
   "execution_count": null,
   "id": "9af3e143",
   "metadata": {},
   "outputs": [],
   "source": []
  },
  {
   "cell_type": "code",
   "execution_count": null,
   "id": "6a6de872",
   "metadata": {},
   "outputs": [],
   "source": []
  },
  {
   "cell_type": "code",
   "execution_count": null,
   "id": "edc4ba19",
   "metadata": {},
   "outputs": [],
   "source": []
  },
  {
   "cell_type": "code",
   "execution_count": null,
   "id": "89ec0eba",
   "metadata": {},
   "outputs": [],
   "source": []
  },
  {
   "cell_type": "code",
   "execution_count": null,
   "id": "59928701",
   "metadata": {},
   "outputs": [],
   "source": []
  },
  {
   "cell_type": "code",
   "execution_count": null,
   "id": "2dbbff79",
   "metadata": {},
   "outputs": [],
   "source": []
  },
  {
   "cell_type": "code",
   "execution_count": null,
   "id": "1cf7d947",
   "metadata": {},
   "outputs": [],
   "source": []
  },
  {
   "cell_type": "code",
   "execution_count": null,
   "id": "4884e125",
   "metadata": {},
   "outputs": [],
   "source": []
  },
  {
   "cell_type": "code",
   "execution_count": null,
   "id": "2f74271b",
   "metadata": {},
   "outputs": [],
   "source": []
  }
 ],
 "metadata": {
  "kernelspec": {
   "display_name": "Python 3 (ipykernel)",
   "language": "python",
   "name": "python3"
  },
  "language_info": {
   "codemirror_mode": {
    "name": "ipython",
    "version": 3
   },
   "file_extension": ".py",
   "mimetype": "text/x-python",
   "name": "python",
   "nbconvert_exporter": "python",
   "pygments_lexer": "ipython3",
   "version": "3.9.6"
  },
  "notify_time": "30"
 },
 "nbformat": 4,
 "nbformat_minor": 5
}
