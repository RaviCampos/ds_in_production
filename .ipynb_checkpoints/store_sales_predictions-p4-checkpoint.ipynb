{
 "cells": [
  {
   "cell_type": "markdown",
   "id": "fad62064",
   "metadata": {
    "heading_collapsed": true
   },
   "source": [
    "# 0.0. Imports"
   ]
  },
  {
   "cell_type": "code",
   "execution_count": null,
   "id": "51e0ebd9",
   "metadata": {
    "ExecuteTime": {
     "end_time": "2021-08-03T23:24:50.483622Z",
     "start_time": "2021-08-03T23:24:48.196293Z"
    },
    "hidden": true
   },
   "outputs": [],
   "source": [
    "import pandas as pd\n",
    "import numpy as np\n",
    "import datetime\n",
    "import inflection\n",
    "import math\n",
    "\n",
    "import seaborn as sns\n",
    "\n",
    "from matplotlib import pyplot as plt\n",
    "from IPython.display import Image"
   ]
  },
  {
   "cell_type": "code",
   "execution_count": null,
   "id": "beb387a2",
   "metadata": {
    "ExecuteTime": {
     "end_time": "2021-08-03T23:24:50.494797Z",
     "start_time": "2021-08-03T23:24:50.486511Z"
    },
    "hidden": true
   },
   "outputs": [],
   "source": [
    "# setting seaborn figure sizes to occupy the whole screen\n",
    "sns.set(rc={'figure.figsize':(20, 12)})"
   ]
  },
  {
   "cell_type": "markdown",
   "id": "f1f10162",
   "metadata": {
    "hidden": true
   },
   "source": [
    "## 0.1. Helper functions"
   ]
  },
  {
   "cell_type": "markdown",
   "id": "28c16b76",
   "metadata": {
    "heading_collapsed": true,
    "hidden": true
   },
   "source": [
    "## 0.2. Loading data"
   ]
  },
  {
   "cell_type": "code",
   "execution_count": null,
   "id": "91178390",
   "metadata": {
    "ExecuteTime": {
     "end_time": "2021-08-03T23:24:52.750137Z",
     "start_time": "2021-08-03T23:24:50.498418Z"
    },
    "hidden": true
   },
   "outputs": [],
   "source": [
    "df_sales_raw = pd.read_csv(\"data/train.csv\", low_memory=False)\n",
    "df_store_raw = pd.read_csv(\"data/store.csv\", low_memory=False)\n",
    "\n",
    "# merge df's\n",
    "df_raw = df_sales_raw.merge(df_store_raw, how=\"left\", on=\"Store\")"
   ]
  },
  {
   "cell_type": "code",
   "execution_count": null,
   "id": "e7fad8be",
   "metadata": {
    "ExecuteTime": {
     "end_time": "2021-08-03T23:24:52.859036Z",
     "start_time": "2021-08-03T23:24:52.759806Z"
    },
    "hidden": true
   },
   "outputs": [],
   "source": [
    "df_raw.head()"
   ]
  },
  {
   "cell_type": "code",
   "execution_count": null,
   "id": "a51c9a13",
   "metadata": {
    "ExecuteTime": {
     "end_time": "2021-08-03T23:24:53.435035Z",
     "start_time": "2021-08-03T23:24:52.862990Z"
    },
    "hidden": true
   },
   "outputs": [],
   "source": [
    "df_raw.sample(5)"
   ]
  },
  {
   "cell_type": "code",
   "execution_count": null,
   "id": "6c3829f9",
   "metadata": {
    "hidden": true
   },
   "outputs": [],
   "source": []
  },
  {
   "cell_type": "code",
   "execution_count": null,
   "id": "13a18627",
   "metadata": {
    "hidden": true
   },
   "outputs": [],
   "source": []
  },
  {
   "cell_type": "code",
   "execution_count": null,
   "id": "3763f05d",
   "metadata": {
    "hidden": true
   },
   "outputs": [],
   "source": []
  },
  {
   "cell_type": "markdown",
   "id": "86a12369",
   "metadata": {},
   "source": [
    "# 1.0. Data description"
   ]
  },
  {
   "cell_type": "markdown",
   "id": "4ca8e8db",
   "metadata": {
    "heading_collapsed": true
   },
   "source": [
    "## 1.1. Rename Columns"
   ]
  },
  {
   "cell_type": "code",
   "execution_count": null,
   "id": "463b7239",
   "metadata": {
    "ExecuteTime": {
     "end_time": "2021-08-03T23:24:53.654473Z",
     "start_time": "2021-08-03T23:24:53.441006Z"
    },
    "hidden": true
   },
   "outputs": [],
   "source": [
    "df1 = df_raw.copy()"
   ]
  },
  {
   "cell_type": "code",
   "execution_count": null,
   "id": "3391c5df",
   "metadata": {
    "ExecuteTime": {
     "end_time": "2021-08-03T23:24:53.703475Z",
     "start_time": "2021-08-03T23:24:53.675103Z"
    },
    "hidden": true
   },
   "outputs": [],
   "source": [
    "df1.columns"
   ]
  },
  {
   "cell_type": "code",
   "execution_count": null,
   "id": "9486da60",
   "metadata": {
    "ExecuteTime": {
     "end_time": "2021-08-03T23:24:53.728084Z",
     "start_time": "2021-08-03T23:24:53.708208Z"
    },
    "hidden": true
   },
   "outputs": [],
   "source": [
    "cols_old = ['Store', 'DayOfWeek', 'Date', 'Sales', 'Customers', 'Open', 'Promo',\n",
    "       'StateHoliday', 'SchoolHoliday', 'StoreType', 'Assortment',\n",
    "       'CompetitionDistance', 'CompetitionOpenSinceMonth',\n",
    "       'CompetitionOpenSinceYear', 'Promo2', 'Promo2SinceWeek',\n",
    "       'Promo2SinceYear', 'PromoInterval']\n",
    "snakecase = lambda x: inflection.underscore(x)\n",
    "\n",
    "# map returns an iterable, so it must be transformed into a list\n",
    "cols_new = list( map( snakecase, cols_old ) )\n",
    "\n",
    "# rename\n",
    "df1.columns = cols_new\n",
    "df1.columns"
   ]
  },
  {
   "cell_type": "markdown",
   "id": "42fdb919",
   "metadata": {
    "heading_collapsed": true
   },
   "source": [
    "## 1.2. Data Dimensions"
   ]
  },
  {
   "cell_type": "code",
   "execution_count": null,
   "id": "e2104f7f",
   "metadata": {
    "ExecuteTime": {
     "end_time": "2021-08-03T23:24:53.738444Z",
     "start_time": "2021-08-03T23:24:53.731263Z"
    },
    "hidden": true
   },
   "outputs": [],
   "source": [
    "# shape gives the number of rows and columns, [] are selection wich element\n",
    "print( f\"number of Rows {df1.shape[0]}\" )\n",
    "print( f\"number of Cols {df1.shape[1]}\" )"
   ]
  },
  {
   "cell_type": "markdown",
   "id": "132c55ad",
   "metadata": {
    "heading_collapsed": true
   },
   "source": [
    "## 1.3. Data Types"
   ]
  },
  {
   "cell_type": "code",
   "execution_count": null,
   "id": "b8204ef7",
   "metadata": {
    "ExecuteTime": {
     "end_time": "2021-08-03T23:24:53.776911Z",
     "start_time": "2021-08-03T23:24:53.755781Z"
    },
    "hidden": true
   },
   "outputs": [],
   "source": [
    "df1.dtypes"
   ]
  },
  {
   "cell_type": "code",
   "execution_count": null,
   "id": "633dbd8c",
   "metadata": {
    "ExecuteTime": {
     "end_time": "2021-08-03T23:24:54.085491Z",
     "start_time": "2021-08-03T23:24:53.780533Z"
    },
    "hidden": true
   },
   "outputs": [],
   "source": [
    "# change date col type from object to datetime64\n",
    "df1[\"date\"] = pd.to_datetime( df1[\"date\"] )\n",
    "\n",
    "df1.dtypes"
   ]
  },
  {
   "cell_type": "markdown",
   "id": "93914559",
   "metadata": {},
   "source": [
    "## 1.4. Check NA"
   ]
  },
  {
   "cell_type": "code",
   "execution_count": null,
   "id": "f29e844a",
   "metadata": {
    "ExecuteTime": {
     "end_time": "2021-08-03T23:24:54.527225Z",
     "start_time": "2021-08-03T23:24:54.093646Z"
    }
   },
   "outputs": [],
   "source": [
    "# .isna substitutes every value according to: value = na -> true, value != na -> false\n",
    "# .sum in this case adds all the trues\n",
    "df1.isna().sum()"
   ]
  },
  {
   "cell_type": "markdown",
   "id": "dfc60e99",
   "metadata": {},
   "source": [
    "## 1.5. Fill NA"
   ]
  },
  {
   "cell_type": "markdown",
   "id": "7f631e25",
   "metadata": {},
   "source": [
    "There are 3 different ways to handle NA's  \n",
    "    1 - Delete every row that has one  \n",
    "        Downside: it loses a lot of valuable data alongside  \n",
    "    2 - Use Machine Learning algorithms to predict wich values wold be in NA places  \n",
    "    3 - Understand the business"
   ]
  },
  {
   "cell_type": "markdown",
   "id": "7ca57a90",
   "metadata": {
    "ExecuteTime": {
     "end_time": "2021-07-23T22:58:53.662447Z",
     "start_time": "2021-07-23T22:58:53.657692Z"
    },
    "heading_collapsed": true
   },
   "source": [
    "### 1.5.1 competition_distance"
   ]
  },
  {
   "cell_type": "markdown",
   "id": "6a5bd0cd",
   "metadata": {
    "hidden": true
   },
   "source": [
    "in this case I am using the third approach writen abbove:  \n",
    "if there is an NA it is because there's no competition nearby  \n",
    "therefore I will substitute every NA by a very large value, much greater than the max natural value"
   ]
  },
  {
   "cell_type": "code",
   "execution_count": null,
   "id": "9b0291c5",
   "metadata": {
    "ExecuteTime": {
     "end_time": "2021-08-03T23:24:54.557668Z",
     "start_time": "2021-08-03T23:24:54.535974Z"
    },
    "hidden": true
   },
   "outputs": [],
   "source": [
    "\n",
    "df1[\"competition_distance\"].max()\n"
   ]
  },
  {
   "cell_type": "code",
   "execution_count": null,
   "id": "a5c63df7",
   "metadata": {
    "ExecuteTime": {
     "end_time": "2021-08-03T23:24:55.031055Z",
     "start_time": "2021-08-03T23:24:54.562786Z"
    },
    "hidden": true
   },
   "outputs": [],
   "source": [
    "df1[\"competition_distance\"] = df1[\"competition_distance\"].apply( lambda x: 200000.0 if math.isnan(x) else x )\n",
    "\n",
    "df1[\"competition_distance\"].max()"
   ]
  },
  {
   "cell_type": "markdown",
   "id": "8de45404",
   "metadata": {
    "heading_collapsed": true
   },
   "source": [
    "### 1.5.2 competition_open_since_month"
   ]
  },
  {
   "cell_type": "markdown",
   "id": "da972400",
   "metadata": {
    "hidden": true
   },
   "source": [
    "In this particular case, with the engeneering future process in mind, I will take into account that this date is going to show how the stores were impacted by the opening of competidors.  \n",
    "This NA might exist because there is no competition around the store or that there is competition but there is really no data regarding it's opening.  \n",
    "I am going to substitute the NA by the month that the store itself opened, not the competidor. It is an artifitial substitution, but is a try. I am going to know if this works in the end, looking at the model created by the machine learnig algorithm. If it does not wields a good result, it is OK, I am going to try to make something different, that's just a beginning"
   ]
  },
  {
   "cell_type": "code",
   "execution_count": null,
   "id": "c6eee8c3",
   "metadata": {
    "ExecuteTime": {
     "end_time": "2021-08-03T23:25:20.585504Z",
     "start_time": "2021-08-03T23:24:55.036651Z"
    },
    "hidden": true
   },
   "outputs": [],
   "source": [
    "\n",
    "df1[\"competition_open_since_month\"] = df1.apply( lambda x: x[\"date\"].month if math.isnan(x[\"competition_open_since_month\"]) else x[\"competition_open_since_month\"], axis=1 )\n"
   ]
  },
  {
   "cell_type": "markdown",
   "id": "478bd032",
   "metadata": {
    "heading_collapsed": true
   },
   "source": [
    "### 1.5.3 competition_open_since_year"
   ]
  },
  {
   "cell_type": "markdown",
   "id": "b7e03ac8",
   "metadata": {
    "hidden": true
   },
   "source": [
    "Same principle as in the previous section"
   ]
  },
  {
   "cell_type": "code",
   "execution_count": null,
   "id": "454e048f",
   "metadata": {
    "ExecuteTime": {
     "end_time": "2021-08-03T23:25:47.801435Z",
     "start_time": "2021-08-03T23:25:20.591139Z"
    },
    "hidden": true
   },
   "outputs": [],
   "source": [
    "\n",
    "df1[\"competition_open_since_year\"] = df1.apply( lambda x: x[\"date\"].year if math.isnan(x[\"competition_open_since_year\"]) else x[\"competition_open_since_year\"], axis=1 )\n"
   ]
  },
  {
   "cell_type": "markdown",
   "id": "2f33f154",
   "metadata": {
    "heading_collapsed": true
   },
   "source": [
    "### 1.5.4 promo2_since_week"
   ]
  },
  {
   "cell_type": "markdown",
   "id": "7dd92cf4",
   "metadata": {
    "hidden": true
   },
   "source": [
    "Same as previous sections"
   ]
  },
  {
   "cell_type": "code",
   "execution_count": null,
   "id": "f53f858d",
   "metadata": {
    "ExecuteTime": {
     "end_time": "2021-08-03T23:26:15.076871Z",
     "start_time": "2021-08-03T23:25:47.805725Z"
    },
    "hidden": true
   },
   "outputs": [],
   "source": [
    "\n",
    "df1[\"promo2_since_week\"] = df1.apply( lambda x: x[\"date\"].week if math.isnan(x[\"promo2_since_week\"]) else x[\"promo2_since_week\"], axis=1 )\n"
   ]
  },
  {
   "cell_type": "markdown",
   "id": "d535b614",
   "metadata": {
    "heading_collapsed": true
   },
   "source": [
    "### 1.5.5 promo2_since_year"
   ]
  },
  {
   "cell_type": "markdown",
   "id": "794ed8ff",
   "metadata": {
    "hidden": true
   },
   "source": [
    "Same as previous sections"
   ]
  },
  {
   "cell_type": "code",
   "execution_count": null,
   "id": "e993c457",
   "metadata": {
    "ExecuteTime": {
     "end_time": "2021-08-03T23:26:42.018191Z",
     "start_time": "2021-08-03T23:26:15.079149Z"
    },
    "hidden": true
   },
   "outputs": [],
   "source": [
    "\n",
    "df1[\"promo2_since_year\"] = df1.apply( lambda x: x[\"date\"].year if math.isnan(x[\"promo2_since_year\"]) else x[\"promo2_since_year\"], axis=1 )\n"
   ]
  },
  {
   "cell_type": "markdown",
   "id": "9eaa03f4",
   "metadata": {
    "ExecuteTime": {
     "end_time": "2021-07-28T14:18:50.276128Z",
     "start_time": "2021-07-28T14:18:50.276086Z"
    },
    "heading_collapsed": true
   },
   "source": [
    "### 1.5.6 promo_interval"
   ]
  },
  {
   "cell_type": "markdown",
   "id": "337a4385",
   "metadata": {
    "hidden": true
   },
   "source": [
    "Is a string containing months that have fixed promotions.  \n",
    "To use this information better I am going to create a helper column, curr_month, and a new column is_promo2 that tells me if any promo2 is active in the current month. To remove the NA's in promo_interval I am simply going to substitute them for 0"
   ]
  },
  {
   "cell_type": "code",
   "execution_count": null,
   "id": "0235a37f",
   "metadata": {
    "ExecuteTime": {
     "end_time": "2021-08-03T23:27:03.950489Z",
     "start_time": "2021-08-03T23:26:42.023050Z"
    },
    "hidden": true
   },
   "outputs": [],
   "source": [
    "# substitute all na's by 0 not returning anything (inplace=True) to make the subsequent comparison easier\n",
    "df1[\"promo_interval\"].fillna(0, inplace=True)\n",
    "\n",
    "# create a map that will help trace each month to it's correspondent name abreviation\n",
    "month_map = {1: \"Jan\", 2: \"Feb\", 3: \"Mar\", 4: \"Apr\", 5: \"May\", 6: \"Jun\", 7: \"Jul\", 8: \"Aug\", 9: \"Sep\", 8: \"Oct\", 9: \"Nov\", 10: \"Dec\", 11: \"Nov\", 12: \"Dec\"}\n",
    "\n",
    "# make a column that shows the current mont name, not number\n",
    "df1[\"curr_month\"] = df1[\"date\"].dt.month.map( month_map )\n",
    "\n",
    "# helper function that will be given to apply\n",
    "def in_promo_interval(x):\n",
    "    if x[\"promo_interval\"] == 0:\n",
    "        return 0\n",
    "    elif x[\"curr_month\"] in x[\"promo_interval\"].split(\",\"):\n",
    "        return 1\n",
    "    else:\n",
    "        return 0\n",
    "\n",
    "# is_curr_in_promo2 will tell if there is a promo2 going on the current date, axis=1 to apply by row in all columns\n",
    "df1[\"is_curr_in_promo2\"] = df1[[\"promo_interval\", \"curr_month\"]].apply(in_promo_interval, axis=1)\n"
   ]
  },
  {
   "cell_type": "code",
   "execution_count": null,
   "id": "d0cea2d6",
   "metadata": {
    "ExecuteTime": {
     "end_time": "2021-08-03T23:27:04.395049Z",
     "start_time": "2021-08-03T23:27:03.953563Z"
    },
    "hidden": true
   },
   "outputs": [],
   "source": [
    "df1.isna().sum()"
   ]
  },
  {
   "cell_type": "markdown",
   "id": "3d9ea472",
   "metadata": {
    "heading_collapsed": true
   },
   "source": [
    "## 1.6. Change types"
   ]
  },
  {
   "cell_type": "code",
   "execution_count": null,
   "id": "e784db3a",
   "metadata": {
    "ExecuteTime": {
     "end_time": "2021-08-03T23:27:04.415413Z",
     "start_time": "2021-08-03T23:27:04.398245Z"
    },
    "hidden": true
   },
   "outputs": [],
   "source": [
    "# every time you perform actions that change the data on the dataframe it is worthy to take another look at the\n",
    "# types\n",
    "df1.dtypes"
   ]
  },
  {
   "cell_type": "code",
   "execution_count": null,
   "id": "7d333c70",
   "metadata": {
    "ExecuteTime": {
     "end_time": "2021-08-03T23:27:04.564457Z",
     "start_time": "2021-08-03T23:27:04.418840Z"
    },
    "hidden": true
   },
   "outputs": [],
   "source": [
    "# change float64 to int\n",
    "df1[\"competition_open_since_month\"] = df1[\"competition_open_since_month\"].astype( int )\n",
    "df1[\"competition_open_since_year\"] = df1[\"competition_open_since_year\"].astype( int )\n",
    "df1[\"promo2_since_week\"] = df1[\"promo2_since_week\"].astype( int )\n",
    "df1[\"promo2_since_year\"] = df1[\"promo2_since_year\"].astype( int )"
   ]
  },
  {
   "cell_type": "code",
   "execution_count": null,
   "id": "310d35ce",
   "metadata": {
    "ExecuteTime": {
     "end_time": "2021-08-03T23:27:04.576534Z",
     "start_time": "2021-08-03T23:27:04.566331Z"
    },
    "hidden": true
   },
   "outputs": [],
   "source": [
    "df1.dtypes"
   ]
  },
  {
   "cell_type": "markdown",
   "id": "590a56eb",
   "metadata": {
    "heading_collapsed": true
   },
   "source": [
    "## 1.7. Descriptive Statistics"
   ]
  },
  {
   "cell_type": "code",
   "execution_count": null,
   "id": "0c25368e",
   "metadata": {
    "ExecuteTime": {
     "end_time": "2021-08-03T23:27:04.887699Z",
     "start_time": "2021-08-03T23:27:04.581841Z"
    },
    "hidden": true
   },
   "outputs": [],
   "source": [
    "# divide numerical variables from categorical\n",
    "num_attributes = df1.select_dtypes( include=[\"int64\", \"float64\"] )\n",
    "cat_attributes = df1.select_dtypes( exclude=[\"int64\", \"float64\", \"datetime64[ns]\"] )"
   ]
  },
  {
   "cell_type": "markdown",
   "id": "d9037be1",
   "metadata": {
    "heading_collapsed": true,
    "hidden": true
   },
   "source": [
    "### 1.7.1. Numerical attributes"
   ]
  },
  {
   "cell_type": "code",
   "execution_count": null,
   "id": "70c49274",
   "metadata": {
    "ExecuteTime": {
     "end_time": "2021-08-03T23:27:09.760557Z",
     "start_time": "2021-08-03T23:27:04.891000Z"
    },
    "hidden": true
   },
   "outputs": [],
   "source": [
    "# Central Tendency - mean, median\n",
    "ct1 = pd.DataFrame( num_attributes.apply( np.mean ) ).T\n",
    "ct2 = pd.DataFrame( num_attributes.apply( np.median ) ).T\n",
    "\n",
    "# Dispersiom - std, min, max, range, skew, kurtosis\n",
    "# skew is how much skewed is a graph in relation to a normal distribution\n",
    "# kurtosis is how concentrated or not are the values - high values => more concentrated => sharper peak\n",
    "d1 = pd.DataFrame( num_attributes.apply( np.std ) ).T\n",
    "d2 = pd.DataFrame( num_attributes.apply( min ) ).T\n",
    "d3 = pd.DataFrame( num_attributes.apply( max ) ).T\n",
    "d4 = pd.DataFrame( num_attributes.apply(lambda x: x.max() - x.min() ) ).T\n",
    "d5 = pd.DataFrame( num_attributes.apply(lambda x: x.skew() ) ).T\n",
    "d6 = pd.DataFrame( num_attributes.apply(lambda x: x.kurtosis() ) ).T\n",
    "\n",
    "m = pd.concat([d2, d3, d4, ct1, ct2, d1, d5, d6]).T.reset_index()\n",
    "m.columns = [\"attributes\", \"min\", \"max\", \"range\", \"mean\", \"median\", \"std\", \"skew\", \"kurtosis\"]\n",
    "\n",
    "m"
   ]
  },
  {
   "cell_type": "code",
   "execution_count": null,
   "id": "095b5bb4",
   "metadata": {
    "ExecuteTime": {
     "end_time": "2021-08-03T23:27:19.213803Z",
     "start_time": "2021-08-03T23:27:09.763867Z"
    },
    "hidden": true
   },
   "outputs": [],
   "source": [
    "# notice that the huge kurtosis indicates that there is a big peak in the graph\n",
    "# and that the great positive skew indicates that there is a deformation to the right\n",
    "\n",
    "cd_plot = sns.histplot( df1[\"competition_distance\"], kde=True )\n"
   ]
  },
  {
   "cell_type": "markdown",
   "id": "9bb03bc9",
   "metadata": {
    "heading_collapsed": true,
    "hidden": true
   },
   "source": [
    "### 1.7.2 Categorical attributes"
   ]
  },
  {
   "cell_type": "code",
   "execution_count": null,
   "id": "8d514652",
   "metadata": {
    "ExecuteTime": {
     "end_time": "2021-08-03T23:27:19.511060Z",
     "start_time": "2021-08-03T23:27:19.216407Z"
    },
    "hidden": true
   },
   "outputs": [],
   "source": [
    "# how many unique attributes\n",
    "cat_attributes.apply(lambda x: x.unique().shape[0])"
   ]
  },
  {
   "cell_type": "code",
   "execution_count": null,
   "id": "83b0909b",
   "metadata": {
    "ExecuteTime": {
     "end_time": "2021-08-03T23:27:20.558374Z",
     "start_time": "2021-08-03T23:27:19.522123Z"
    },
    "hidden": true
   },
   "outputs": [],
   "source": [
    "# filtering out the days that had not have holidays (0) and the sales that were 0, the data that happend in days\n",
    "# that the stores were closed, possibly that closed during the holiday\n",
    "aux1 = df1[(df1[\"state_holiday\"] != \"0\") & (df1[\"sales\"] > 0)]\n",
    "\n",
    "# plt.subplot to separete the screen and 1, 3, 1 => 1 line, 3 columns, this one in the first position\n",
    "plt.subplot(1, 3, 1)\n",
    "sns.boxplot( x=\"state_holiday\", y=\"sales\", data=aux1)\n",
    "\n",
    "plt.subplot(1, 3, 2)\n",
    "sns.boxplot( x=\"store_type\", y=\"sales\", data=aux1)\n",
    "\n",
    "plt.subplot(1, 3, 3)\n",
    "sns.boxplot( x=\"assortment\", y=\"sales\", data=aux1)"
   ]
  },
  {
   "cell_type": "markdown",
   "id": "9ed5560f",
   "metadata": {},
   "source": [
    "# 2.0. Feature Engineering"
   ]
  },
  {
   "cell_type": "markdown",
   "id": "b282e31b",
   "metadata": {
    "heading_collapsed": true
   },
   "source": [
    "## 2.1.1 Hypothesis mind map"
   ]
  },
  {
   "cell_type": "code",
   "execution_count": null,
   "id": "9f793bfa",
   "metadata": {
    "ExecuteTime": {
     "end_time": "2021-08-03T23:27:20.612390Z",
     "start_time": "2021-08-03T23:27:20.562411Z"
    },
    "hidden": true
   },
   "outputs": [],
   "source": [
    "Image( \"imgs/mindmap_store_sales.png\" )"
   ]
  },
  {
   "cell_type": "markdown",
   "id": "e987be5a",
   "metadata": {
    "hidden": true
   },
   "source": [
    "Having the mind map, the next step is formulating hypothesis  \n",
    "Hypothesis are bets, that may or may not be validated through data"
   ]
  },
  {
   "cell_type": "markdown",
   "id": "8c154759",
   "metadata": {
    "ExecuteTime": {
     "end_time": "2021-08-02T13:44:59.265404Z",
     "start_time": "2021-08-02T13:44:59.261726Z"
    },
    "heading_collapsed": true
   },
   "source": [
    "## 2.2. Hypothesis creation"
   ]
  },
  {
   "cell_type": "markdown",
   "id": "b4402c04",
   "metadata": {
    "hidden": true
   },
   "source": [
    "These hypothesis are not implying in cause and effect, it is a correlation.\n",
    "\n",
    "If you increase the size of a store, not necessarily you will increase sales, beacause there are many factors, including store size that are influencing in the sales level\n",
    "\n",
    "And that is why we are trying to map all the attributes thare are influencing here"
   ]
  },
  {
   "cell_type": "markdown",
   "id": "66634be6",
   "metadata": {
    "heading_collapsed": true,
    "hidden": true
   },
   "source": [
    "### 2.2.1 Hypothesis related to stores"
   ]
  },
  {
   "cell_type": "markdown",
   "id": "cd21db7b",
   "metadata": {
    "hidden": true
   },
   "source": [
    "**1.** Stores with larger staff should sell more\n",
    "\n",
    "**2.** Stores with larger stock should sell more (stock is not only the part that is kept in storage, away from the public, but what is exposed as well)\n",
    "\n",
    "**3.** Larger stores should sell more\n",
    "\n",
    "**4.** Stores with larger assorment should sell more (greater variety in products, a client can come to buy something and ending up buying something else as well)\n",
    "\n",
    "**5.** Stores with close competitors should sell less\n",
    "\n",
    "**6.** Stores with longer-term competitors should sell more"
   ]
  },
  {
   "cell_type": "markdown",
   "id": "a9fc6e5c",
   "metadata": {
    "heading_collapsed": true,
    "hidden": true
   },
   "source": [
    "### 2.2.2 Hypothesis related to product"
   ]
  },
  {
   "cell_type": "markdown",
   "id": "fd0edefa",
   "metadata": {
    "hidden": true
   },
   "source": [
    "**1.** Stores investing more in marketing should sell more\n",
    "\n",
    "**2.** Stores displaying more products in the showcase should sell more\n",
    "\n",
    "**3.** Stores with lower prices for the same product should sell more\n",
    "\n",
    "**4.** Stores with more aggresive promotions should sell more (cheaper product)\n",
    "\n",
    "**5.** Stores with longer sales (promotions) periods should sell more\n",
    "\n",
    "**6.** Stores with longer sales consecutive days should sell more\n",
    "\n",
    "**7.** Stores with more consecutive sales periods should sell more"
   ]
  },
  {
   "cell_type": "markdown",
   "id": "22c23425",
   "metadata": {
    "heading_collapsed": true,
    "hidden": true
   },
   "source": [
    "### 2.2.3 Hypothesis related to time (seasonality)"
   ]
  },
  {
   "cell_type": "markdown",
   "id": "4f0fd865",
   "metadata": {
    "hidden": true
   },
   "source": [
    "**1.** Stores that open during the christmas holiday should sell more\n",
    "\n",
    "**2.** Stores should sell more along the years \n",
    "\n",
    "**3.** Stores should sell more during the last half of the year\n",
    "\n",
    "**4.** Stores should sell more after the tenth day of the month \n",
    "\n",
    "**5.** Stores should sell less on weekends\n",
    "\n",
    "**6.** Stores should sell less on school holidays"
   ]
  },
  {
   "cell_type": "markdown",
   "id": "e776f2a0",
   "metadata": {
    "heading_collapsed": true
   },
   "source": [
    "## 2.4. Final hypothesis list - priorities"
   ]
  },
  {
   "cell_type": "markdown",
   "id": "9f77a20b",
   "metadata": {
    "hidden": true
   },
   "source": [
    "The priority is given by the availability of the data.\n",
    "\n",
    "If you already have the data in the table, test the hypothesis.\n",
    "\n",
    "If the machine learning algorithm is not perfoming well or the hypothesis is very relevant you can comeback in the next cicle and look for the missing data for these hypothesis"
   ]
  },
  {
   "cell_type": "markdown",
   "id": "064c3524",
   "metadata": {
    "heading_collapsed": true,
    "hidden": true
   },
   "source": [
    "### 2.4.1 Store hypothesis "
   ]
  },
  {
   "cell_type": "markdown",
   "id": "cc4edae8",
   "metadata": {
    "hidden": true
   },
   "source": [
    "**1.** Stores with larger assorment should sell more (greater variety in products, a client can come to buy something and ending up buying something else as well)\n",
    "\n",
    "**2.** Stores with close competitors should sell less\n",
    "\n",
    "**3.** Stores with longer-term competitors should sell more"
   ]
  },
  {
   "cell_type": "markdown",
   "id": "98dd1897",
   "metadata": {
    "heading_collapsed": true,
    "hidden": true
   },
   "source": [
    "### 2.4.1 Product hypothesis "
   ]
  },
  {
   "cell_type": "markdown",
   "id": "3211d495",
   "metadata": {
    "hidden": true
   },
   "source": [
    "**1.** Stores with longer sales (promotions) periods should sell more\n",
    "\n",
    "**2.** Stores with longer sales consecutive days should sell more\n",
    "\n",
    "**3.** Stores with more consecutive sales periods should sell more"
   ]
  },
  {
   "cell_type": "markdown",
   "id": "0dff98e0",
   "metadata": {
    "heading_collapsed": true,
    "hidden": true
   },
   "source": [
    "### 2.4.1 Time hypothesis "
   ]
  },
  {
   "cell_type": "markdown",
   "id": "81d9d2fc",
   "metadata": {
    "hidden": true
   },
   "source": [
    "**1.** Stores that open during the christmas holiday should sell more\n",
    "\n",
    "**2.** Stores should sell more along the years \n",
    "\n",
    "**3.** Stores should sell more during the last half of the year\n",
    "\n",
    "**4.** Stores should sell more after the tenth day of the month \n",
    "\n",
    "**5.** Stores should sell less on weekends\n",
    "\n",
    "**6.** Stores should sell less on school holidays"
   ]
  },
  {
   "cell_type": "markdown",
   "id": "594077ab",
   "metadata": {
    "heading_collapsed": true
   },
   "source": [
    "## 2.5. Feature Engineering"
   ]
  },
  {
   "cell_type": "markdown",
   "id": "b52628db",
   "metadata": {
    "hidden": true
   },
   "source": [
    "Creating variables/columns for future processing, foreseeing future variables needs"
   ]
  },
  {
   "cell_type": "code",
   "execution_count": null,
   "id": "50d96c3b",
   "metadata": {
    "ExecuteTime": {
     "end_time": "2021-08-03T23:27:20.774595Z",
     "start_time": "2021-08-03T23:27:20.614766Z"
    },
    "hidden": true
   },
   "outputs": [],
   "source": [
    "df2 = df1.copy()"
   ]
  },
  {
   "cell_type": "code",
   "execution_count": null,
   "id": "0268da68",
   "metadata": {
    "ExecuteTime": {
     "end_time": "2021-08-03T23:27:20.859463Z",
     "start_time": "2021-08-03T23:27:20.778590Z"
    },
    "hidden": true
   },
   "outputs": [],
   "source": [
    "df2.sample(5).T"
   ]
  },
  {
   "cell_type": "code",
   "execution_count": null,
   "id": "79073678",
   "metadata": {
    "ExecuteTime": {
     "end_time": "2021-08-03T23:28:46.543663Z",
     "start_time": "2021-08-03T23:27:20.861588Z"
    },
    "hidden": true
   },
   "outputs": [],
   "source": [
    "# YEAR\n",
    "df2[\"year\"] = df2[\"date\"].dt.year\n",
    "\n",
    "# MONTH\n",
    "df2[\"month\"] = df2[\"date\"].dt.month\n",
    "\n",
    "# DAY\n",
    "df2[\"day\"] = df2[\"date\"].dt.day\n",
    "\n",
    "# WEEK OF YEAR\n",
    "df2[\"week_of_year\"] = df2[\"date\"].dt.isocalendar().week\n",
    "\n",
    "# YEAR WEEK - just a date format (2015-30)\n",
    "df2[\"year_week\"] = df2[\"date\"].dt.strftime(\"%Y-%W\")\n",
    "\n",
    "\n",
    "# COMPETITION SINCE\n",
    "\n",
    "# forming a datetime from columns ...since_year and ...since_month\n",
    "df2[\"competition_since\"] = df2.apply( lambda x: datetime.datetime( year=x[\"competition_open_since_year\"], month=x[\"competition_open_since_month\"], day=1 ), axis=1 )\n",
    "\n",
    "# the result of the subtraction of df2[\"date\"] and df2[\"competition_since\"] is a number of days, so we divide\n",
    "# by 30 to get the number of months\n",
    "# the problem is that now we have a datetime obj that has a number of weeks in it's days property\n",
    "# so we use apply to extract days and transform the resulting str in integer \n",
    "df2[\"competition_time_in_months\"] = ( ( df2[\"date\"] - df2[\"competition_since\"] ) / 30 ).apply( lambda x: x.days ).astype(int)\n",
    "\n",
    "\n",
    "# PROMO2 SINCE\n",
    "# first join the str values of promo2_since_year and promo2_since_week\n",
    "df2[\"promo2_since\"] = df2[\"promo2_since_year\"].astype(str) + \"-\" + df2[\"promo2_since_week\"].astype(str)\n",
    "\n",
    "# then loop through all values a transformation to datetime obj from a str using strptime\n",
    "# the x is the str, the \"-1\" is a concatenation of strs, transforming \"2012-31\" to \"2012-31-1\", symbolizing the\n",
    "# assumption that the week day in wich the promo2 began was sunday, and the \"%Y-%W-%w\" is\n",
    "# the format that the given str is\n",
    "# the subtraction of datetime.timedelta( days=7 ) means that we are taking off a week from the number\n",
    "# aproximately transforming the value from ISO to a count that has the first week of the year in other day\n",
    "# probably to maintain the same date format throughout the project\n",
    "df2[\"promo2_since\"] = df2[\"promo2_since\"].apply( lambda x: datetime.datetime.strptime( x + \"-1\", \"%Y-%W-%w\" ) - datetime.timedelta( days=7 ) )\n",
    "\n",
    "# then subtract and divide by seven to get the number of weeks, as in COMPETITION SINCE\n",
    "df2[\"promo2_time_in_weeks\"] = ( ( df2[\"date\"] - df2[\"promo2_since\"] ) / 7 ).apply( lambda x: x.days ).astype(int)\n",
    "\n",
    "\n",
    "# ASSORTMENT\n",
    "# a = basic, b = extra, c = extended\n",
    "df2[\"assortment\"] = df2[\"assortment\"].apply(lambda x: \"basic\" if x == \"a\" else \"extra\" if x == \"b\" else \"extended\")\n",
    "\n",
    "# STATE HOLIDAY\n",
    "# a = public holiday, b = Easter holiday, c = Christmas, 0 = None\n",
    "df2[\"state_holiday\"] = df2[\"state_holiday\"].apply(lambda x: \"public_holiday\" if x == \"a\" else \"easter_holiday\" if x == \"b\" else \"christmas\" if x == \"c\" else \"regular_day\")"
   ]
  },
  {
   "cell_type": "code",
   "execution_count": null,
   "id": "888b4454",
   "metadata": {
    "ExecuteTime": {
     "end_time": "2021-08-03T23:28:46.597107Z",
     "start_time": "2021-08-03T23:28:46.546979Z"
    },
    "hidden": true,
    "scrolled": false
   },
   "outputs": [],
   "source": [
    "df2.head().T"
   ]
  },
  {
   "cell_type": "markdown",
   "id": "d3e23771",
   "metadata": {
    "heading_collapsed": true
   },
   "source": [
    "# 3.0. Variable filtering"
   ]
  },
  {
   "cell_type": "markdown",
   "id": "041ae423",
   "metadata": {
    "hidden": true
   },
   "source": [
    "Variable filtering is a proccess that takes into consideration a business analysis.\n",
    "\n",
    "You will take out from the analysis data that although relevant is not available in the business side.\n",
    "And also take into account the higher priority of the demand. Perhaps the boss wants attention in a given store type only. You can filter out the other types.\n",
    "\n",
    "i.e. An analysis that discovered that higher discounts yelds higher sales. However the business team does not know discounts before the product is lauch, therefore it is a information that has no impact in any planing of product launching.\n",
    "\n",
    "Filtering helps preventing this scenario. If you know that discounts can not be use, you can choose another variable for the analysis."
   ]
  },
  {
   "cell_type": "code",
   "execution_count": null,
   "id": "02c2e975",
   "metadata": {
    "ExecuteTime": {
     "end_time": "2021-08-03T23:28:46.856701Z",
     "start_time": "2021-08-03T23:28:46.601115Z"
    },
    "hidden": true
   },
   "outputs": [],
   "source": [
    "df3 = df2.copy()"
   ]
  },
  {
   "cell_type": "markdown",
   "id": "a75567a9",
   "metadata": {
    "heading_collapsed": true,
    "hidden": true
   },
   "source": [
    "## 3.1. Row filtering"
   ]
  },
  {
   "cell_type": "markdown",
   "id": "d84972d9",
   "metadata": {
    "hidden": true
   },
   "source": [
    "Rows where **\"open\"** == 0. These are days in wich no sales were made, so there is no valuable information here.\n",
    "\n",
    "Rows where **\"sales\"** > 0. Same reason as above."
   ]
  },
  {
   "cell_type": "code",
   "execution_count": null,
   "id": "cf30bedf",
   "metadata": {
    "ExecuteTime": {
     "end_time": "2021-08-03T23:28:47.404881Z",
     "start_time": "2021-08-03T23:28:46.860544Z"
    },
    "hidden": true
   },
   "outputs": [],
   "source": [
    "df3 = df3[(df3[\"open\"] != 0) & (df3[\"sales\"] > 0)]"
   ]
  },
  {
   "cell_type": "markdown",
   "id": "16fbd61c",
   "metadata": {
    "heading_collapsed": true,
    "hidden": true
   },
   "source": [
    "## 3.2. Column filtering"
   ]
  },
  {
   "cell_type": "markdown",
   "id": "6df96475",
   "metadata": {
    "hidden": true
   },
   "source": [
    "Col **\"customers\"**: There is no prediction of the amount of custumers that will visit the store in the future, just the amount in the date of the recording. No comparison available, business restriction\n",
    "\n",
    "Droping \"open\" column as well, because once the 0 were filtered out there remains only 1 in every cell no relevant info remains there\n",
    "\n",
    "Cols promo_interval and curr_month used just to derive is_curr_in_promo2 col "
   ]
  },
  {
   "cell_type": "code",
   "execution_count": null,
   "id": "f1ab7b85",
   "metadata": {
    "ExecuteTime": {
     "end_time": "2021-08-03T23:28:47.607912Z",
     "start_time": "2021-08-03T23:28:47.407017Z"
    },
    "hidden": true
   },
   "outputs": [],
   "source": [
    "# droping \"open\" column as well, because once the 0 were filtered out there remains only 1 in every cell\n",
    "# no relevant info remains there\n",
    "\n",
    "cols_drop = [\"customers\", \"open\", \"promo_interval\", \"curr_month\"]\n",
    "df3 = df3.drop( cols_drop, axis=1 )"
   ]
  },
  {
   "cell_type": "markdown",
   "id": "54cc104d",
   "metadata": {},
   "source": [
    "# 4.0. Exploratory Data Analysis"
   ]
  },
  {
   "cell_type": "code",
   "execution_count": null,
   "id": "5344ee68",
   "metadata": {
    "ExecuteTime": {
     "end_time": "2021-08-03T23:28:47.769286Z",
     "start_time": "2021-08-03T23:28:47.619195Z"
    }
   },
   "outputs": [],
   "source": [
    "df4 = df3.copy()"
   ]
  },
  {
   "cell_type": "markdown",
   "id": "d86f40b3",
   "metadata": {
    "heading_collapsed": true
   },
   "source": [
    "## 4.1. Univariate Analysis"
   ]
  },
  {
   "cell_type": "markdown",
   "id": "46d4762e",
   "metadata": {
    "heading_collapsed": true,
    "hidden": true
   },
   "source": [
    "### 4.1.1 Response variable"
   ]
  },
  {
   "cell_type": "code",
   "execution_count": null,
   "id": "180f686d",
   "metadata": {
    "ExecuteTime": {
     "end_time": "2021-08-03T23:28:54.031516Z",
     "start_time": "2021-08-03T23:28:47.772633Z"
    },
    "hidden": true
   },
   "outputs": [],
   "source": [
    "sns.histplot(df4[\"sales\"], kde=True)"
   ]
  },
  {
   "cell_type": "code",
   "execution_count": null,
   "id": "14ceb310",
   "metadata": {
    "ExecuteTime": {
     "end_time": "2021-08-03T23:29:02.006955Z",
     "start_time": "2021-08-03T23:28:54.034807Z"
    },
    "hidden": true
   },
   "outputs": [],
   "source": [
    "# if we wanted to normalize more:\n",
    "sns.histplot( np.log1p( df4[\"sales\"] ), kde=True )\n",
    "# there is no need in this case"
   ]
  },
  {
   "cell_type": "markdown",
   "id": "48d31e8f",
   "metadata": {
    "heading_collapsed": true,
    "hidden": true
   },
   "source": [
    "### 4.1.2 Numerical variable"
   ]
  },
  {
   "cell_type": "code",
   "execution_count": null,
   "id": "99c45ed3",
   "metadata": {
    "ExecuteTime": {
     "end_time": "2021-08-03T23:29:08.297560Z",
     "start_time": "2021-08-03T23:29:02.010604Z"
    },
    "hidden": true
   },
   "outputs": [],
   "source": [
    "num_attributes = df4.select_dtypes( include=[\"int64\", \"float64\"] )\n",
    "num_attributes.hist( bins=25, figsize=(25,16) );"
   ]
  },
  {
   "cell_type": "markdown",
   "id": "fb7e0453",
   "metadata": {
    "heading_collapsed": true,
    "hidden": true
   },
   "source": [
    "### 4.1.3 Categorical variable"
   ]
  },
  {
   "cell_type": "code",
   "execution_count": null,
   "id": "2c6c7a95",
   "metadata": {
    "ExecuteTime": {
     "end_time": "2021-08-03T23:29:08.401176Z",
     "start_time": "2021-08-03T23:29:08.301457Z"
    },
    "hidden": true
   },
   "outputs": [],
   "source": [
    "cat_attributes = df4.select_dtypes( exclude=[\"int64\", \"float64\", \"datetime64[ns]\"] )"
   ]
  },
  {
   "cell_type": "code",
   "execution_count": null,
   "id": "eaf92245",
   "metadata": {
    "ExecuteTime": {
     "end_time": "2021-08-03T23:29:08.500000Z",
     "start_time": "2021-08-03T23:29:08.405701Z"
    },
    "hidden": true
   },
   "outputs": [],
   "source": [
    "# to know what are the possible options for each column\n",
    "sh_unique = df4[\"state_holiday\"].drop_duplicates().reset_index()[\"state_holiday\"]\n",
    "st_unique = df4[\"store_type\"].drop_duplicates().reset_index()[\"store_type\"]\n",
    "as_unique = df4[\"assortment\"].drop_duplicates().reset_index()[\"assortment\"]\n",
    "pd.concat([sh_unique, st_unique, as_unique], axis=1)"
   ]
  },
  {
   "cell_type": "code",
   "execution_count": null,
   "id": "67e90afb",
   "metadata": {
    "ExecuteTime": {
     "end_time": "2021-08-03T23:29:09.606517Z",
     "start_time": "2021-08-03T23:29:08.503917Z"
    },
    "hidden": true,
    "hide_input": false,
    "scrolled": false
   },
   "outputs": [],
   "source": [
    "# STATE HOLIDAY\n",
    "\n",
    "# since most colected days are regular days, it's bar gets out of proportion, not allowing the visualization\n",
    "# of the other variables, better filter it out for visualization\n",
    "# fig, axs = plt.subplots(nrows=2, ncols=2)\n",
    "plt.subplot(2, 1, 1).set_title(\"Number of Stores by Holiday\")\n",
    "not_a_regular_day = df4[df4[\"state_holiday\"] != \"regular_day\"]\n",
    "sns.countplot( x=not_a_regular_day[\"state_holiday\"] )\n",
    "\n",
    "# ====== Important ======\n",
    "# in the kdeplot the option common_norm=False produces a plot that is out of proportion\n",
    "# it makes easter and christmas larger than they really are because they are not comparing with each other\n",
    "# when common_norm=True, the default setting, density of values is distributed between the graphs,\n",
    "# so that their shared area sum (integral) is 1\n",
    "# when false, their individual area integral is equal to 1\n",
    "plt.subplot(2, 2, 3).set_title(\"Proportional Densities of Sales by Holiday\")\n",
    "sns.kdeplot( data=not_a_regular_day, x=\"sales\", hue=\"state_holiday\", shade=True )\n",
    "\n",
    "# ploted this out of proportion graph for the visual comparison of skew and kurtosis\n",
    "# and to take into account that naturaly if there were more stores opened in public holidays\n",
    "# there were a higher profit for those days\n",
    "# the out of proportion gives an idea of the perfect world in wich there were the same amount of stores opened \n",
    "# in each holiday\n",
    "plt.subplot(2, 2, 4).set_title(\"Out of Proportion Densities of Sales by Holiday\")\n",
    "sns.kdeplot( data=not_a_regular_day, x=\"sales\", hue=\"state_holiday\", shade=True, common_norm=False )"
   ]
  },
  {
   "cell_type": "code",
   "execution_count": null,
   "id": "721f274d",
   "metadata": {
    "ExecuteTime": {
     "end_time": "2021-08-03T23:29:20.349002Z",
     "start_time": "2021-08-03T23:29:09.612517Z"
    },
    "hidden": true,
    "hide_input": false
   },
   "outputs": [],
   "source": [
    "# STORE TYPE\n",
    "plt.subplot(2, 1, 1).set_title(\"Number of Stores by Store Type\")\n",
    "sns.countplot(x=df4[\"store_type\"])\n",
    "\n",
    "plt.subplot(2, 2, 3).set_title(\"Proportional Densities of Sales by Store Type\")\n",
    "sns.kdeplot( data=df4, x=\"sales\", hue=\"store_type\", shade=True)\n",
    "\n",
    "plt.subplot(2, 2, 4).set_title(\"Out of Proportion Densities of Sales by Store Type\")\n",
    "sns.kdeplot( data=df4, x=\"sales\", hue=\"store_type\", shade=True, common_norm=False)"
   ]
  },
  {
   "cell_type": "code",
   "execution_count": null,
   "id": "b6ece1f4",
   "metadata": {
    "ExecuteTime": {
     "end_time": "2021-08-03T23:29:29.903086Z",
     "start_time": "2021-08-03T23:29:20.351296Z"
    },
    "hidden": true,
    "hide_input": false
   },
   "outputs": [],
   "source": [
    "# ASSORTMENT\n",
    "plt.subplot(2, 1, 1).set_title(\"Number of Stores by Store Assortment\")\n",
    "sns.countplot(x=df4[\"assortment\"])\n",
    "\n",
    "plt.subplot(2, 2, 3).set_title(\"Proportional Densities of Sales by Store Assortment\")\n",
    "sns.kdeplot( data=df4, x=\"sales\", hue=\"assortment\", shade=True)\n",
    "\n",
    "plt.subplot(2, 2, 4).set_title(\"Out of Proportion Densities of Sales by Store Assortment\")\n",
    "sns.kdeplot( data=df4, x=\"sales\", hue=\"assortment\", shade=True, common_norm=False)"
   ]
  },
  {
   "cell_type": "markdown",
   "id": "03313699",
   "metadata": {
    "heading_collapsed": true
   },
   "source": [
    "## 4.2. Bivariate Analysis"
   ]
  },
  {
   "cell_type": "markdown",
   "id": "7a2444f1",
   "metadata": {
    "hidden": true
   },
   "source": [
    "Based in the hypothesis formulated in the Feature Engineering section"
   ]
  },
  {
   "cell_type": "markdown",
   "id": "517eac8c",
   "metadata": {
    "heading_collapsed": true,
    "hidden": true
   },
   "source": [
    "### 4.2.1 Hypothsis: Stores with larger assorment should sell more\n",
    "\n",
    "**FALSE** - Individualy, stores with higher assortment sell more, but in the added value of all stores of each type the higher assortment sold way less "
   ]
  },
  {
   "cell_type": "code",
   "execution_count": null,
   "id": "0ca386b4",
   "metadata": {
    "ExecuteTime": {
     "end_time": "2021-08-03T23:29:30.021801Z",
     "start_time": "2021-08-03T23:29:29.905800Z"
    },
    "hidden": true,
    "hide_input": false
   },
   "outputs": [],
   "source": [
    "aux1 = df4[[\"assortment\", \"sales\"]].groupby(\"assortment\").mean().reset_index()\n",
    "aux1"
   ]
  },
  {
   "cell_type": "code",
   "execution_count": null,
   "id": "f29bdc63",
   "metadata": {
    "ExecuteTime": {
     "end_time": "2021-08-03T23:29:30.768208Z",
     "start_time": "2021-08-03T23:29:30.026124Z"
    },
    "hidden": true,
    "hide_input": false
   },
   "outputs": [],
   "source": [
    "sns.boxplot( x=\"assortment\", y=\"sales\", data=df4);"
   ]
  },
  {
   "cell_type": "markdown",
   "id": "687299c6",
   "metadata": {
    "hidden": true
   },
   "source": [
    "In an individual analysis level, a single extra type store sells more than either extended or basic type stores\n",
    "\n",
    "However, since there are way more stores of the the basic and extended assortment type, as was discovered in the univariate analysis, the cumulative profit of this two far exceeds the profit of all the stores of the extra assortment type, as shown bellow"
   ]
  },
  {
   "cell_type": "code",
   "execution_count": null,
   "id": "cd3cfa24",
   "metadata": {
    "ExecuteTime": {
     "end_time": "2021-08-03T23:29:31.117522Z",
     "start_time": "2021-08-03T23:29:30.771298Z"
    },
    "hidden": true
   },
   "outputs": [],
   "source": [
    "aux2 = df4[[\"assortment\", \"sales\"]].groupby(\"assortment\").sum().reset_index()\n",
    "sns.barplot(data=aux2, x=\"assortment\", y=\"sales\")"
   ]
  },
  {
   "cell_type": "markdown",
   "id": "a933de75",
   "metadata": {
    "hidden": true
   },
   "source": [
    "If the profit of the all extra assortment types is so small in comparison with the other types, one question might be raised: were the profits of the \"extras\" higher in the begining of the recording day and plumed with time? In other words, was there any interesting variation in the profit along the registered time?"
   ]
  },
  {
   "cell_type": "code",
   "execution_count": null,
   "id": "961b8071",
   "metadata": {
    "ExecuteTime": {
     "end_time": "2021-08-03T23:29:31.339028Z",
     "start_time": "2021-08-03T23:29:31.120132Z"
    },
    "hidden": true
   },
   "outputs": [],
   "source": [
    "aux3 = df4[[\"year_week\", \"assortment\", \"sales\"]].groupby([\"year_week\", \"assortment\"]).sum().reset_index()\n",
    "aux3.head()"
   ]
  },
  {
   "cell_type": "code",
   "execution_count": null,
   "id": "54c5fc51",
   "metadata": {
    "ExecuteTime": {
     "end_time": "2021-08-03T23:29:31.363171Z",
     "start_time": "2021-08-03T23:29:31.342145Z"
    },
    "hidden": true
   },
   "outputs": [],
   "source": [
    "# reorganizing the graph\n",
    "pivot_aux3 = aux3.pivot(index=\"year_week\", columns=\"assortment\", values=\"sales\")\n",
    "pivot_aux3.head()"
   ]
  },
  {
   "cell_type": "code",
   "execution_count": null,
   "id": "474f142a",
   "metadata": {
    "ExecuteTime": {
     "end_time": "2021-08-03T23:29:31.765112Z",
     "start_time": "2021-08-03T23:29:31.366949Z"
    },
    "hidden": true
   },
   "outputs": [],
   "source": [
    "pivot_aux3.plot(title=\"Sales by Year Week in each Assortment Store Type\");"
   ]
  },
  {
   "cell_type": "code",
   "execution_count": null,
   "id": "1a6eae52",
   "metadata": {
    "ExecuteTime": {
     "end_time": "2021-08-03T23:29:32.093953Z",
     "start_time": "2021-08-03T23:29:31.767666Z"
    },
    "hidden": true,
    "hide_input": false
   },
   "outputs": [],
   "source": [
    "# only of the assortment extra type, zooming in\n",
    "pivot_aux3[\"extra\"].plot(title=\"Sales by Year Week of only 'Extra' Assortment Store Type\");"
   ]
  },
  {
   "cell_type": "markdown",
   "id": "bcdddbd7",
   "metadata": {
    "heading_collapsed": true,
    "hidden": true
   },
   "source": [
    "### 4.2.2 Hypothesis: Stores with close competitors should sell less\n",
    "**FALSE** - Stores with close competitors do not sell less. At least sell equaly, and not taking more values with nearer competitors in cosideration, farther sells less "
   ]
  },
  {
   "cell_type": "code",
   "execution_count": null,
   "id": "c88cda71",
   "metadata": {
    "ExecuteTime": {
     "end_time": "2021-08-03T23:29:33.226891Z",
     "start_time": "2021-08-03T23:29:32.096553Z"
    },
    "hidden": true
   },
   "outputs": [],
   "source": [
    "# grouping by exact competition distance made the number of rows 1289 times lower\n",
    "aux1 = df4[[\"competition_distance\", \"sales\"]].groupby(\"competition_distance\").sum().reset_index()\n",
    "\n",
    "plt.figure(figsize=(22, 5))\n",
    "\n",
    "# ==== SCATTERPLOT =====\n",
    "plt.subplot(131)\n",
    "sns.scatterplot(data=aux1, x=\"competition_distance\", y=\"sales\");\n",
    "\n",
    "# ==== BARPLOT ====\n",
    "plt.subplot(132)\n",
    "# however the barplot made with this dataframe is still very dificult to visualize, too many entries (655 to be exact)\n",
    "# so I will group the distances by distances of 1000, group the distances by bins\n",
    "# creating bins only until 20000 not 200000, possibly because the higher values are just too small and\n",
    "# do not influence in the confirmation or not of the hypothesis, the trend as is with 20000 is clear enough\n",
    "bins = list( range( 0, 20000, 1000 ) )\n",
    "\n",
    "# pd.cut is made exactaly for assigning values to bins, numerical values to categorical\n",
    "aux1[\"competition_distance_binned\"] = pd.cut( x=aux1[\"competition_distance\"], bins=bins )\n",
    "aux2 = aux1[[\"competition_distance_binned\", \"sales\"]].groupby(\"competition_distance_binned\").sum().reset_index()\n",
    "sns.barplot(data=aux2, x=\"competition_distance_binned\", y=\"sales\");\n",
    "plt.xticks( rotation=90 )\n",
    "\n",
    "# ==== CORRELATION HEATMAP ====\n",
    "# the value can go from 1 to -1, where 0 means no correlation\n",
    "# -0.23 means that there is a small negative correlation, meaning that the greater the distance smaller the sales\n",
    "plt.subplot(133)\n",
    "sns.heatmap(aux1.corr(method=\"pearson\"), annot=True);"
   ]
  },
  {
   "cell_type": "markdown",
   "id": "31dc6720",
   "metadata": {
    "hidden": true
   },
   "source": [
    "By the previous analysis the stores that have nearer competitors have a higher sale.\n",
    "\n",
    "Howerver, this phenomenon only occurs because there are much more stores with close competitors in the data:"
   ]
  },
  {
   "cell_type": "code",
   "execution_count": null,
   "id": "4d963827",
   "metadata": {
    "ExecuteTime": {
     "end_time": "2021-08-03T23:29:36.998928Z",
     "start_time": "2021-08-03T23:29:33.229606Z"
    },
    "hidden": true
   },
   "outputs": [],
   "source": [
    "plt.title(\"Desity of Number of Stores by Competition Distance\")\n",
    "sns.kdeplot(data=df4[\"competition_distance\"]);"
   ]
  },
  {
   "cell_type": "markdown",
   "id": "5bf75ac1",
   "metadata": {
    "hidden": true
   },
   "source": [
    "A good aproach is istead o evaluate the sum of all stores at a given distance, take their mean, in order to not inflate the result by the huge amount of stores with near competitors"
   ]
  },
  {
   "cell_type": "code",
   "execution_count": 94,
   "id": "b9b94119",
   "metadata": {
    "ExecuteTime": {
     "end_time": "2021-08-04T00:25:25.643659Z",
     "start_time": "2021-08-04T00:25:24.465795Z"
    },
    "hidden": true
   },
   "outputs": [
    {
     "data": {
      "image/png": "[encoded data removed]",
      "text/plain": [
       "<Figure size 1584x360 with 4 Axes>"
      ]
     },
     "metadata": {},
     "output_type": "display_data"
    }
   ],
   "source": [
    "# grouping and taking the mean instead of the sum\n",
    "aux1 = df4[[\"competition_distance\", \"sales\"]].groupby(\"competition_distance\").mean().reset_index()\n",
    "\n",
    "plt.figure(figsize=(22, 5))\n",
    "\n",
    "# ==== REGRESSION ====\n",
    "# regression instead of a pure scatterplot to make it easyer to notice that the trend line is almost horizontal\n",
    "# meaning no correlation\n",
    "plt.subplot(131)\n",
    "sns.regplot(data=aux1[aux1[\"competition_distance\"] < 40000], x=\"competition_distance\", y=\"sales\")\n",
    "\n",
    "# ==== BARPLOT ====\n",
    "plt.subplot(132)\n",
    "bins = list( range( 0, 80000, 4000 ) )\n",
    "\n",
    "# pd.cut is made exactaly for assigning values to bins, numerical values to categorical\n",
    "aux1[\"competition_distance_binned\"] = pd.cut( x=aux1[\"competition_distance\"], bins=bins )\n",
    "aux2 = aux1[[\"competition_distance_binned\", \"sales\"]].groupby(\"competition_distance_binned\").mean().reset_index()\n",
    "sns.barplot( data=aux2, x=\"competition_distance_binned\", y=\"sales\")\n",
    "plt.xticks(rotation=90)\n",
    "\n",
    "# ==== CORRELATION HEATMAP ====\n",
    "plt.subplot(133)\n",
    "sns.heatmap(aux1.corr(method=\"pearson\"), annot=True);\n"
   ]
  },
  {
   "cell_type": "markdown",
   "id": "8c25fb8e",
   "metadata": {
    "hidden": true
   },
   "source": [
    "We can see above that the sales do not vary, or very very little, with the distance.\n",
    "\n",
    "**They vary even less when controled by the not even distribution of measured stores**\n",
    "\n",
    "Much more stores with competitors nearby"
   ]
  },
  {
   "cell_type": "markdown",
   "id": "ec4c7b12",
   "metadata": {
    "heading_collapsed": true,
    "hidden": true
   },
   "source": [
    "### 4.2.3. Stores with longer-term competitors should sell more\n",
    "**TRUE** - However, this result only exists when we balance the sales by the amount of stores in the data. If we do not take this into consideration the relation between variables is inverse"
   ]
  },
  {
   "cell_type": "markdown",
   "id": "98f99575",
   "metadata": {
    "ExecuteTime": {
     "end_time": "2021-08-03T23:30:08.087713Z",
     "start_time": "2021-08-03T23:30:08.070595Z"
    },
    "hidden": true
   },
   "source": [
    "By the analysis bellow the relation between long-term competitors and sales is negative, the longer the competition, smaller the sales"
   ]
  },
  {
   "cell_type": "code",
   "execution_count": 100,
   "id": "e3a918bd",
   "metadata": {
    "ExecuteTime": {
     "end_time": "2021-08-04T00:28:27.274359Z",
     "start_time": "2021-08-04T00:28:17.779008Z"
    },
    "hidden": true
   },
   "outputs": [
    {
     "data": {
      "image/png": "[encoded data removed]",
      "text/plain": [
       "<Figure size 1584x360 with 4 Axes>"
      ]
     },
     "metadata": {},
     "output_type": "display_data"
    }
   ],
   "source": [
    "aux1 = df4[[\"competition_time_in_months\", \"sales\"]].groupby(\"competition_time_in_months\").sum().reset_index()\n",
    "aux1 = aux1[(aux1[\"competition_time_in_months\"] != 0) & (aux1[\"competition_time_in_months\"] < 300)]\n",
    "\n",
    "plt.figure(figsize=(22, 5))\n",
    "\n",
    "plt.subplot(131)\n",
    "sns.barplot(data=aux1, x=\"competition_time_in_months\", y=\"sales\")\n",
    "plt.xticks(rotation=90);\n",
    "\n",
    "plt.subplot(132)\n",
    "sns.regplot(data=aux1, x=\"competition_time_in_months\", y=\"sales\");\n",
    "plt.title(\"Sales by Competition Time in Months (not balancing by how many stores in each time)\");\n",
    "\n",
    "plt.subplot(133)\n",
    "sns.heatmap(aux1.corr(method=\"pearson\"), annot=True);"
   ]
  },
  {
   "cell_type": "markdown",
   "id": "33481076",
   "metadata": {
    "hidden": true
   },
   "source": [
    "Yet, one must take into account that this value have a strong influence comming from the ammount of stores that were measured that were concentrated around the 0. This naturaly make a peak in sales in this months, meaning that since we have more stores around the 0, when we sum up them, we have a higher cumulative sale.\n",
    "\n",
    "Bellow is shown the higher concentration of measures around 0"
   ]
  },
  {
   "cell_type": "code",
   "execution_count": 70,
   "id": "13aaca8e",
   "metadata": {
    "ExecuteTime": {
     "end_time": "2021-08-04T00:00:28.302187Z",
     "start_time": "2021-08-04T00:00:25.723272Z"
    },
    "hidden": true
   },
   "outputs": [
    {
     "data": {
      "image/png": "[encoded data removed]",
      "text/plain": [
       "<Figure size 1440x864 with 1 Axes>"
      ]
     },
     "metadata": {},
     "output_type": "display_data"
    }
   ],
   "source": [
    "aux1 = df4.loc[(df4[\"competition_time_in_months\"] != 0) & (df4[\"competition_time_in_months\"] < 120), [\"competition_time_in_months\", \"sales\"]]\n",
    "sns.kdeplot(data=aux1, x=\"competition_time_in_months\");\n",
    "plt.title(\"Number of Values/Measures by Competition Distance in months\");"
   ]
  },
  {
   "cell_type": "markdown",
   "id": "9149a837",
   "metadata": {
    "hidden": true
   },
   "source": [
    "Bellow is the exact two actions made above, just that now we are taking the mean of values in any given month, effectively removing the additional effect of the greater amount of data around the smaller months\n",
    "\n",
    "Therefore discovering a positive high correlation between the variables, meaning that yes, the sales go up the longer the competition time span"
   ]
  },
  {
   "cell_type": "code",
   "execution_count": 103,
   "id": "76f6fdff",
   "metadata": {
    "ExecuteTime": {
     "end_time": "2021-08-04T00:38:56.131236Z",
     "start_time": "2021-08-04T00:38:55.357698Z"
    },
    "hidden": true
   },
   "outputs": [
    {
     "data": {
      "image/png": "[encoded data removed]",
      "text/plain": [
       "<Figure size 1584x720 with 3 Axes>"
      ]
     },
     "metadata": {},
     "output_type": "display_data"
    }
   ],
   "source": [
    "aux1 = df4[[\"competition_time_in_months\", \"sales\"]].groupby(\"competition_time_in_months\").mean().reset_index()\n",
    "aux1 = aux1[(aux1[\"competition_time_in_months\"] != 0) & (aux1[\"competition_time_in_months\"] < 300)]\n",
    "\n",
    "plt.figure(figsize=(22, 10))\n",
    "\n",
    "plt.subplot(121)\n",
    "sns.regplot(data=aux1, x=\"competition_time_in_months\", y=\"sales\");\n",
    "plt.title(\"Sales by Competition Time in Months (not balancing by how many stores in each time)\");\n",
    "\n",
    "plt.subplot(122)\n",
    "sns.heatmap(aux1.corr(method=\"pearson\"), annot=True);"
   ]
  },
  {
   "cell_type": "markdown",
   "id": "520c8da5",
   "metadata": {},
   "source": [
    "## 4.3. Multivariate Analysis"
   ]
  },
  {
   "cell_type": "code",
   "execution_count": null,
   "id": "7aa3076e",
   "metadata": {},
   "outputs": [],
   "source": []
  },
  {
   "cell_type": "code",
   "execution_count": null,
   "id": "bb3ba259",
   "metadata": {},
   "outputs": [],
   "source": []
  },
  {
   "cell_type": "code",
   "execution_count": null,
   "id": "d5c98a49",
   "metadata": {},
   "outputs": [],
   "source": []
  },
  {
   "cell_type": "code",
   "execution_count": null,
   "id": "03fb8540",
   "metadata": {},
   "outputs": [],
   "source": []
  },
  {
   "cell_type": "code",
   "execution_count": null,
   "id": "3a93e446",
   "metadata": {},
   "outputs": [],
   "source": []
  },
  {
   "cell_type": "code",
   "execution_count": null,
   "id": "403976f3",
   "metadata": {},
   "outputs": [],
   "source": []
  },
  {
   "cell_type": "code",
   "execution_count": null,
   "id": "7a73e04c",
   "metadata": {},
   "outputs": [],
   "source": []
  },
  {
   "cell_type": "code",
   "execution_count": null,
   "id": "6acabba5",
   "metadata": {},
   "outputs": [],
   "source": []
  },
  {
   "cell_type": "markdown",
   "id": "e9531bef",
   "metadata": {},
   "source": [
    "# SPACE"
   ]
  },
  {
   "cell_type": "code",
   "execution_count": null,
   "id": "37c0ce0a",
   "metadata": {},
   "outputs": [],
   "source": []
  },
  {
   "cell_type": "code",
   "execution_count": null,
   "id": "3999c898",
   "metadata": {},
   "outputs": [],
   "source": []
  },
  {
   "cell_type": "code",
   "execution_count": null,
   "id": "2a58b4ed",
   "metadata": {},
   "outputs": [],
   "source": []
  },
  {
   "cell_type": "code",
   "execution_count": null,
   "id": "f70c4e8f",
   "metadata": {},
   "outputs": [],
   "source": []
  },
  {
   "cell_type": "code",
   "execution_count": null,
   "id": "93ee1784",
   "metadata": {},
   "outputs": [],
   "source": []
  },
  {
   "cell_type": "code",
   "execution_count": null,
   "id": "b057a5c2",
   "metadata": {},
   "outputs": [],
   "source": []
  },
  {
   "cell_type": "code",
   "execution_count": null,
   "id": "17fa811c",
   "metadata": {},
   "outputs": [],
   "source": []
  },
  {
   "cell_type": "code",
   "execution_count": null,
   "id": "a62acaa0",
   "metadata": {},
   "outputs": [],
   "source": []
  },
  {
   "cell_type": "code",
   "execution_count": null,
   "id": "bb276a84",
   "metadata": {},
   "outputs": [],
   "source": []
  },
  {
   "cell_type": "code",
   "execution_count": null,
   "id": "50a96d49",
   "metadata": {},
   "outputs": [],
   "source": []
  },
  {
   "cell_type": "code",
   "execution_count": null,
   "id": "75b87da9",
   "metadata": {},
   "outputs": [],
   "source": []
  },
  {
   "cell_type": "code",
   "execution_count": null,
   "id": "5241b99e",
   "metadata": {},
   "outputs": [],
   "source": []
  },
  {
   "cell_type": "code",
   "execution_count": null,
   "id": "116f7160",
   "metadata": {},
   "outputs": [],
   "source": []
  },
  {
   "cell_type": "code",
   "execution_count": null,
   "id": "8460da84",
   "metadata": {},
   "outputs": [],
   "source": []
  },
  {
   "cell_type": "code",
   "execution_count": null,
   "id": "5b35aa8a",
   "metadata": {},
   "outputs": [],
   "source": []
  },
  {
   "cell_type": "code",
   "execution_count": null,
   "id": "e878523d",
   "metadata": {},
   "outputs": [],
   "source": []
  },
  {
   "cell_type": "code",
   "execution_count": null,
   "id": "5ae8041d",
   "metadata": {},
   "outputs": [],
   "source": []
  }
 ],
 "metadata": {
  "kernelspec": {
   "display_name": "Python 3 (ipykernel)",
   "language": "python",
   "name": "python3"
  },
  "language_info": {
   "codemirror_mode": {
    "name": "ipython",
    "version": 3
   },
   "file_extension": ".py",
   "mimetype": "text/x-python",
   "name": "python",
   "nbconvert_exporter": "python",
   "pygments_lexer": "ipython3",
   "version": "3.9.6"
  }
 },
 "nbformat": 4,
 "nbformat_minor": 5
}
