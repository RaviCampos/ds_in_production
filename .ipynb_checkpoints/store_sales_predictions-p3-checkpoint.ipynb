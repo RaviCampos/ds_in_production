{
 "cells": [
  {
   "cell_type": "markdown",
   "id": "fad62064",
   "metadata": {},
   "source": [
    "# 0.0. Imports"
   ]
  },
  {
   "cell_type": "code",
   "execution_count": 2,
   "id": "51e0ebd9",
   "metadata": {
    "ExecuteTime": {
     "end_time": "2021-08-03T12:28:02.152349Z",
     "start_time": "2021-08-03T12:27:59.839959Z"
    }
   },
   "outputs": [],
   "source": [
    "import pandas as pd\n",
    "import numpy as np\n",
    "import datetime\n",
    "import inflection\n",
    "import math\n",
    "\n",
    "import seaborn as sns\n",
    "\n",
    "from matplotlib import pyplot as plt\n",
    "from IPython.display import Image"
   ]
  },
  {
   "cell_type": "code",
   "execution_count": 3,
   "id": "beb387a2",
   "metadata": {
    "ExecuteTime": {
     "end_time": "2021-08-03T12:28:02.190258Z",
     "start_time": "2021-08-03T12:28:02.166254Z"
    }
   },
   "outputs": [],
   "source": [
    "# setting seaborn figure sizes to occupy the whole screen\n",
    "sns.set(rc={'figure.figsize':(20, 12)})"
   ]
  },
  {
   "cell_type": "markdown",
   "id": "f1f10162",
   "metadata": {},
   "source": [
    "## 0.1. Helper functions"
   ]
  },
  {
   "cell_type": "markdown",
   "id": "28c16b76",
   "metadata": {
    "heading_collapsed": true
   },
   "source": [
    "## 0.2. Loading data"
   ]
  },
  {
   "cell_type": "code",
   "execution_count": 4,
   "id": "91178390",
   "metadata": {
    "ExecuteTime": {
     "end_time": "2021-08-03T12:28:04.262323Z",
     "start_time": "2021-08-03T12:28:02.197241Z"
    },
    "hidden": true
   },
   "outputs": [],
   "source": [
    "df_sales_raw = pd.read_csv(\"data/train.csv\", low_memory=False)\n",
    "df_store_raw = pd.read_csv(\"data/store.csv\", low_memory=False)\n",
    "\n",
    "# merge df's\n",
    "df_raw = df_sales_raw.merge(df_store_raw, how=\"left\", on=\"Store\")"
   ]
  },
  {
   "cell_type": "code",
   "execution_count": 5,
   "id": "e7fad8be",
   "metadata": {
    "ExecuteTime": {
     "end_time": "2021-08-03T12:28:04.308985Z",
     "start_time": "2021-08-03T12:28:04.265937Z"
    },
    "hidden": true
   },
   "outputs": [
    {
     "data": {
      "text/html": [
       "<div>\n",
       "<style scoped>\n",
       "    .dataframe tbody tr th:only-of-type {\n",
       "        vertical-align: middle;\n",
       "    }\n",
       "\n",
       "    .dataframe tbody tr th {\n",
       "        vertical-align: top;\n",
       "    }\n",
       "\n",
       "    .dataframe thead th {\n",
       "        text-align: right;\n",
       "    }\n",
       "</style>\n",
       "<table border=\"1\" class=\"dataframe\">\n",
       "  <thead>\n",
       "    <tr style=\"text-align: right;\">\n",
       "      <th></th>\n",
       "      <th>Store</th>\n",
       "      <th>DayOfWeek</th>\n",
       "      <th>Date</th>\n",
       "      <th>Sales</th>\n",
       "      <th>Customers</th>\n",
       "      <th>Open</th>\n",
       "      <th>Promo</th>\n",
       "      <th>StateHoliday</th>\n",
       "      <th>SchoolHoliday</th>\n",
       "      <th>StoreType</th>\n",
       "      <th>Assortment</th>\n",
       "      <th>CompetitionDistance</th>\n",
       "      <th>CompetitionOpenSinceMonth</th>\n",
       "      <th>CompetitionOpenSinceYear</th>\n",
       "      <th>Promo2</th>\n",
       "      <th>Promo2SinceWeek</th>\n",
       "      <th>Promo2SinceYear</th>\n",
       "      <th>PromoInterval</th>\n",
       "    </tr>\n",
       "  </thead>\n",
       "  <tbody>\n",
       "    <tr>\n",
       "      <th>0</th>\n",
       "      <td>1</td>\n",
       "      <td>5</td>\n",
       "      <td>2015-07-31</td>\n",
       "      <td>5263</td>\n",
       "      <td>555</td>\n",
       "      <td>1</td>\n",
       "      <td>1</td>\n",
       "      <td>0</td>\n",
       "      <td>1</td>\n",
       "      <td>c</td>\n",
       "      <td>a</td>\n",
       "      <td>1270.0</td>\n",
       "      <td>9.0</td>\n",
       "      <td>2008.0</td>\n",
       "      <td>0</td>\n",
       "      <td>NaN</td>\n",
       "      <td>NaN</td>\n",
       "      <td>NaN</td>\n",
       "    </tr>\n",
       "    <tr>\n",
       "      <th>1</th>\n",
       "      <td>2</td>\n",
       "      <td>5</td>\n",
       "      <td>2015-07-31</td>\n",
       "      <td>6064</td>\n",
       "      <td>625</td>\n",
       "      <td>1</td>\n",
       "      <td>1</td>\n",
       "      <td>0</td>\n",
       "      <td>1</td>\n",
       "      <td>a</td>\n",
       "      <td>a</td>\n",
       "      <td>570.0</td>\n",
       "      <td>11.0</td>\n",
       "      <td>2007.0</td>\n",
       "      <td>1</td>\n",
       "      <td>13.0</td>\n",
       "      <td>2010.0</td>\n",
       "      <td>Jan,Apr,Jul,Oct</td>\n",
       "    </tr>\n",
       "    <tr>\n",
       "      <th>2</th>\n",
       "      <td>3</td>\n",
       "      <td>5</td>\n",
       "      <td>2015-07-31</td>\n",
       "      <td>8314</td>\n",
       "      <td>821</td>\n",
       "      <td>1</td>\n",
       "      <td>1</td>\n",
       "      <td>0</td>\n",
       "      <td>1</td>\n",
       "      <td>a</td>\n",
       "      <td>a</td>\n",
       "      <td>14130.0</td>\n",
       "      <td>12.0</td>\n",
       "      <td>2006.0</td>\n",
       "      <td>1</td>\n",
       "      <td>14.0</td>\n",
       "      <td>2011.0</td>\n",
       "      <td>Jan,Apr,Jul,Oct</td>\n",
       "    </tr>\n",
       "    <tr>\n",
       "      <th>3</th>\n",
       "      <td>4</td>\n",
       "      <td>5</td>\n",
       "      <td>2015-07-31</td>\n",
       "      <td>13995</td>\n",
       "      <td>1498</td>\n",
       "      <td>1</td>\n",
       "      <td>1</td>\n",
       "      <td>0</td>\n",
       "      <td>1</td>\n",
       "      <td>c</td>\n",
       "      <td>c</td>\n",
       "      <td>620.0</td>\n",
       "      <td>9.0</td>\n",
       "      <td>2009.0</td>\n",
       "      <td>0</td>\n",
       "      <td>NaN</td>\n",
       "      <td>NaN</td>\n",
       "      <td>NaN</td>\n",
       "    </tr>\n",
       "    <tr>\n",
       "      <th>4</th>\n",
       "      <td>5</td>\n",
       "      <td>5</td>\n",
       "      <td>2015-07-31</td>\n",
       "      <td>4822</td>\n",
       "      <td>559</td>\n",
       "      <td>1</td>\n",
       "      <td>1</td>\n",
       "      <td>0</td>\n",
       "      <td>1</td>\n",
       "      <td>a</td>\n",
       "      <td>a</td>\n",
       "      <td>29910.0</td>\n",
       "      <td>4.0</td>\n",
       "      <td>2015.0</td>\n",
       "      <td>0</td>\n",
       "      <td>NaN</td>\n",
       "      <td>NaN</td>\n",
       "      <td>NaN</td>\n",
       "    </tr>\n",
       "  </tbody>\n",
       "</table>\n",
       "</div>"
      ],
      "text/plain": [
       "   Store  DayOfWeek        Date  Sales  Customers  Open  Promo StateHoliday  \\\n",
       "0      1          5  2015-07-31   5263        555     1      1            0   \n",
       "1      2          5  2015-07-31   6064        625     1      1            0   \n",
       "2      3          5  2015-07-31   8314        821     1      1            0   \n",
       "3      4          5  2015-07-31  13995       1498     1      1            0   \n",
       "4      5          5  2015-07-31   4822        559     1      1            0   \n",
       "\n",
       "   SchoolHoliday StoreType Assortment  CompetitionDistance  \\\n",
       "0              1         c          a               1270.0   \n",
       "1              1         a          a                570.0   \n",
       "2              1         a          a              14130.0   \n",
       "3              1         c          c                620.0   \n",
       "4              1         a          a              29910.0   \n",
       "\n",
       "   CompetitionOpenSinceMonth  CompetitionOpenSinceYear  Promo2  \\\n",
       "0                        9.0                    2008.0       0   \n",
       "1                       11.0                    2007.0       1   \n",
       "2                       12.0                    2006.0       1   \n",
       "3                        9.0                    2009.0       0   \n",
       "4                        4.0                    2015.0       0   \n",
       "\n",
       "   Promo2SinceWeek  Promo2SinceYear    PromoInterval  \n",
       "0              NaN              NaN              NaN  \n",
       "1             13.0           2010.0  Jan,Apr,Jul,Oct  \n",
       "2             14.0           2011.0  Jan,Apr,Jul,Oct  \n",
       "3              NaN              NaN              NaN  \n",
       "4              NaN              NaN              NaN  "
      ]
     },
     "execution_count": 5,
     "metadata": {},
     "output_type": "execute_result"
    }
   ],
   "source": [
    "df_raw.head()"
   ]
  },
  {
   "cell_type": "code",
   "execution_count": 6,
   "id": "a51c9a13",
   "metadata": {
    "ExecuteTime": {
     "end_time": "2021-08-03T12:28:04.591928Z",
     "start_time": "2021-08-03T12:28:04.319305Z"
    },
    "hidden": true
   },
   "outputs": [
    {
     "data": {
      "text/html": [
       "<div>\n",
       "<style scoped>\n",
       "    .dataframe tbody tr th:only-of-type {\n",
       "        vertical-align: middle;\n",
       "    }\n",
       "\n",
       "    .dataframe tbody tr th {\n",
       "        vertical-align: top;\n",
       "    }\n",
       "\n",
       "    .dataframe thead th {\n",
       "        text-align: right;\n",
       "    }\n",
       "</style>\n",
       "<table border=\"1\" class=\"dataframe\">\n",
       "  <thead>\n",
       "    <tr style=\"text-align: right;\">\n",
       "      <th></th>\n",
       "      <th>Store</th>\n",
       "      <th>DayOfWeek</th>\n",
       "      <th>Date</th>\n",
       "      <th>Sales</th>\n",
       "      <th>Customers</th>\n",
       "      <th>Open</th>\n",
       "      <th>Promo</th>\n",
       "      <th>StateHoliday</th>\n",
       "      <th>SchoolHoliday</th>\n",
       "      <th>StoreType</th>\n",
       "      <th>Assortment</th>\n",
       "      <th>CompetitionDistance</th>\n",
       "      <th>CompetitionOpenSinceMonth</th>\n",
       "      <th>CompetitionOpenSinceYear</th>\n",
       "      <th>Promo2</th>\n",
       "      <th>Promo2SinceWeek</th>\n",
       "      <th>Promo2SinceYear</th>\n",
       "      <th>PromoInterval</th>\n",
       "    </tr>\n",
       "  </thead>\n",
       "  <tbody>\n",
       "    <tr>\n",
       "      <th>959211</th>\n",
       "      <td>1097</td>\n",
       "      <td>5</td>\n",
       "      <td>2013-02-22</td>\n",
       "      <td>9650</td>\n",
       "      <td>2474</td>\n",
       "      <td>1</td>\n",
       "      <td>1</td>\n",
       "      <td>0</td>\n",
       "      <td>0</td>\n",
       "      <td>b</td>\n",
       "      <td>b</td>\n",
       "      <td>720.0</td>\n",
       "      <td>3.0</td>\n",
       "      <td>2002.0</td>\n",
       "      <td>0</td>\n",
       "      <td>NaN</td>\n",
       "      <td>NaN</td>\n",
       "      <td>NaN</td>\n",
       "    </tr>\n",
       "    <tr>\n",
       "      <th>64007</th>\n",
       "      <td>453</td>\n",
       "      <td>4</td>\n",
       "      <td>2015-06-04</td>\n",
       "      <td>9388</td>\n",
       "      <td>1050</td>\n",
       "      <td>1</td>\n",
       "      <td>1</td>\n",
       "      <td>0</td>\n",
       "      <td>0</td>\n",
       "      <td>a</td>\n",
       "      <td>c</td>\n",
       "      <td>75860.0</td>\n",
       "      <td>NaN</td>\n",
       "      <td>NaN</td>\n",
       "      <td>0</td>\n",
       "      <td>NaN</td>\n",
       "      <td>NaN</td>\n",
       "      <td>NaN</td>\n",
       "    </tr>\n",
       "    <tr>\n",
       "      <th>922506</th>\n",
       "      <td>72</td>\n",
       "      <td>2</td>\n",
       "      <td>2013-03-26</td>\n",
       "      <td>5548</td>\n",
       "      <td>614</td>\n",
       "      <td>1</td>\n",
       "      <td>1</td>\n",
       "      <td>0</td>\n",
       "      <td>1</td>\n",
       "      <td>a</td>\n",
       "      <td>a</td>\n",
       "      <td>2200.0</td>\n",
       "      <td>12.0</td>\n",
       "      <td>2009.0</td>\n",
       "      <td>1</td>\n",
       "      <td>13.0</td>\n",
       "      <td>2010.0</td>\n",
       "      <td>Jan,Apr,Jul,Oct</td>\n",
       "    </tr>\n",
       "    <tr>\n",
       "      <th>444804</th>\n",
       "      <td>705</td>\n",
       "      <td>4</td>\n",
       "      <td>2014-05-29</td>\n",
       "      <td>0</td>\n",
       "      <td>0</td>\n",
       "      <td>0</td>\n",
       "      <td>0</td>\n",
       "      <td>a</td>\n",
       "      <td>0</td>\n",
       "      <td>a</td>\n",
       "      <td>a</td>\n",
       "      <td>4140.0</td>\n",
       "      <td>9.0</td>\n",
       "      <td>2012.0</td>\n",
       "      <td>1</td>\n",
       "      <td>18.0</td>\n",
       "      <td>2011.0</td>\n",
       "      <td>Feb,May,Aug,Nov</td>\n",
       "    </tr>\n",
       "    <tr>\n",
       "      <th>471437</th>\n",
       "      <td>578</td>\n",
       "      <td>1</td>\n",
       "      <td>2014-05-05</td>\n",
       "      <td>12039</td>\n",
       "      <td>968</td>\n",
       "      <td>1</td>\n",
       "      <td>1</td>\n",
       "      <td>0</td>\n",
       "      <td>0</td>\n",
       "      <td>d</td>\n",
       "      <td>a</td>\n",
       "      <td>12700.0</td>\n",
       "      <td>4.0</td>\n",
       "      <td>2013.0</td>\n",
       "      <td>0</td>\n",
       "      <td>NaN</td>\n",
       "      <td>NaN</td>\n",
       "      <td>NaN</td>\n",
       "    </tr>\n",
       "  </tbody>\n",
       "</table>\n",
       "</div>"
      ],
      "text/plain": [
       "        Store  DayOfWeek        Date  Sales  Customers  Open  Promo  \\\n",
       "959211   1097          5  2013-02-22   9650       2474     1      1   \n",
       "64007     453          4  2015-06-04   9388       1050     1      1   \n",
       "922506     72          2  2013-03-26   5548        614     1      1   \n",
       "444804    705          4  2014-05-29      0          0     0      0   \n",
       "471437    578          1  2014-05-05  12039        968     1      1   \n",
       "\n",
       "       StateHoliday  SchoolHoliday StoreType Assortment  CompetitionDistance  \\\n",
       "959211            0              0         b          b                720.0   \n",
       "64007             0              0         a          c              75860.0   \n",
       "922506            0              1         a          a               2200.0   \n",
       "444804            a              0         a          a               4140.0   \n",
       "471437            0              0         d          a              12700.0   \n",
       "\n",
       "        CompetitionOpenSinceMonth  CompetitionOpenSinceYear  Promo2  \\\n",
       "959211                        3.0                    2002.0       0   \n",
       "64007                         NaN                       NaN       0   \n",
       "922506                       12.0                    2009.0       1   \n",
       "444804                        9.0                    2012.0       1   \n",
       "471437                        4.0                    2013.0       0   \n",
       "\n",
       "        Promo2SinceWeek  Promo2SinceYear    PromoInterval  \n",
       "959211              NaN              NaN              NaN  \n",
       "64007               NaN              NaN              NaN  \n",
       "922506             13.0           2010.0  Jan,Apr,Jul,Oct  \n",
       "444804             18.0           2011.0  Feb,May,Aug,Nov  \n",
       "471437              NaN              NaN              NaN  "
      ]
     },
     "execution_count": 6,
     "metadata": {},
     "output_type": "execute_result"
    }
   ],
   "source": [
    "df_raw.sample(5)"
   ]
  },
  {
   "cell_type": "code",
   "execution_count": null,
   "id": "6c3829f9",
   "metadata": {
    "hidden": true
   },
   "outputs": [],
   "source": []
  },
  {
   "cell_type": "code",
   "execution_count": null,
   "id": "13a18627",
   "metadata": {
    "hidden": true
   },
   "outputs": [],
   "source": []
  },
  {
   "cell_type": "code",
   "execution_count": null,
   "id": "3763f05d",
   "metadata": {
    "hidden": true
   },
   "outputs": [],
   "source": []
  },
  {
   "cell_type": "markdown",
   "id": "86a12369",
   "metadata": {},
   "source": [
    "# 1.0. Data description"
   ]
  },
  {
   "cell_type": "markdown",
   "id": "4ca8e8db",
   "metadata": {
    "heading_collapsed": true
   },
   "source": [
    "## 1.1. Rename Columns"
   ]
  },
  {
   "cell_type": "code",
   "execution_count": 7,
   "id": "463b7239",
   "metadata": {
    "ExecuteTime": {
     "end_time": "2021-08-03T12:28:04.697473Z",
     "start_time": "2021-08-03T12:28:04.594193Z"
    },
    "hidden": true
   },
   "outputs": [],
   "source": [
    "df1 = df_raw.copy()"
   ]
  },
  {
   "cell_type": "code",
   "execution_count": 8,
   "id": "3391c5df",
   "metadata": {
    "ExecuteTime": {
     "end_time": "2021-08-03T12:28:04.708005Z",
     "start_time": "2021-08-03T12:28:04.699750Z"
    },
    "hidden": true
   },
   "outputs": [
    {
     "data": {
      "text/plain": [
       "Index(['Store', 'DayOfWeek', 'Date', 'Sales', 'Customers', 'Open', 'Promo',\n",
       "       'StateHoliday', 'SchoolHoliday', 'StoreType', 'Assortment',\n",
       "       'CompetitionDistance', 'CompetitionOpenSinceMonth',\n",
       "       'CompetitionOpenSinceYear', 'Promo2', 'Promo2SinceWeek',\n",
       "       'Promo2SinceYear', 'PromoInterval'],\n",
       "      dtype='object')"
      ]
     },
     "execution_count": 8,
     "metadata": {},
     "output_type": "execute_result"
    }
   ],
   "source": [
    "df1.columns"
   ]
  },
  {
   "cell_type": "code",
   "execution_count": 9,
   "id": "9486da60",
   "metadata": {
    "ExecuteTime": {
     "end_time": "2021-08-03T12:28:04.729096Z",
     "start_time": "2021-08-03T12:28:04.711509Z"
    },
    "hidden": true
   },
   "outputs": [
    {
     "data": {
      "text/plain": [
       "Index(['store', 'day_of_week', 'date', 'sales', 'customers', 'open', 'promo',\n",
       "       'state_holiday', 'school_holiday', 'store_type', 'assortment',\n",
       "       'competition_distance', 'competition_open_since_month',\n",
       "       'competition_open_since_year', 'promo2', 'promo2_since_week',\n",
       "       'promo2_since_year', 'promo_interval'],\n",
       "      dtype='object')"
      ]
     },
     "execution_count": 9,
     "metadata": {},
     "output_type": "execute_result"
    }
   ],
   "source": [
    "cols_old = ['Store', 'DayOfWeek', 'Date', 'Sales', 'Customers', 'Open', 'Promo',\n",
    "       'StateHoliday', 'SchoolHoliday', 'StoreType', 'Assortment',\n",
    "       'CompetitionDistance', 'CompetitionOpenSinceMonth',\n",
    "       'CompetitionOpenSinceYear', 'Promo2', 'Promo2SinceWeek',\n",
    "       'Promo2SinceYear', 'PromoInterval']\n",
    "snakecase = lambda x: inflection.underscore(x)\n",
    "\n",
    "# map returns an iterable, so it must be transformed into a list\n",
    "cols_new = list( map( snakecase, cols_old ) )\n",
    "\n",
    "# rename\n",
    "df1.columns = cols_new\n",
    "df1.columns"
   ]
  },
  {
   "cell_type": "markdown",
   "id": "42fdb919",
   "metadata": {
    "heading_collapsed": true
   },
   "source": [
    "## 1.2. Data Dimensions"
   ]
  },
  {
   "cell_type": "code",
   "execution_count": 10,
   "id": "e2104f7f",
   "metadata": {
    "ExecuteTime": {
     "end_time": "2021-08-03T12:28:04.739450Z",
     "start_time": "2021-08-03T12:28:04.731630Z"
    },
    "hidden": true
   },
   "outputs": [
    {
     "name": "stdout",
     "output_type": "stream",
     "text": [
      "number of Rows 1017209\n",
      "number of Cols 18\n"
     ]
    }
   ],
   "source": [
    "# shape gives the number of rows and columns, [] are selection wich element\n",
    "print( f\"number of Rows {df1.shape[0]}\" )\n",
    "print( f\"number of Cols {df1.shape[1]}\" )"
   ]
  },
  {
   "cell_type": "markdown",
   "id": "132c55ad",
   "metadata": {
    "heading_collapsed": true
   },
   "source": [
    "## 1.3. Data Types"
   ]
  },
  {
   "cell_type": "code",
   "execution_count": 11,
   "id": "b8204ef7",
   "metadata": {
    "ExecuteTime": {
     "end_time": "2021-08-03T12:28:04.751523Z",
     "start_time": "2021-08-03T12:28:04.744157Z"
    },
    "hidden": true
   },
   "outputs": [
    {
     "data": {
      "text/plain": [
       "store                             int64\n",
       "day_of_week                       int64\n",
       "date                             object\n",
       "sales                             int64\n",
       "customers                         int64\n",
       "open                              int64\n",
       "promo                             int64\n",
       "state_holiday                    object\n",
       "school_holiday                    int64\n",
       "store_type                       object\n",
       "assortment                       object\n",
       "competition_distance            float64\n",
       "competition_open_since_month    float64\n",
       "competition_open_since_year     float64\n",
       "promo2                            int64\n",
       "promo2_since_week               float64\n",
       "promo2_since_year               float64\n",
       "promo_interval                   object\n",
       "dtype: object"
      ]
     },
     "execution_count": 11,
     "metadata": {},
     "output_type": "execute_result"
    }
   ],
   "source": [
    "df1.dtypes"
   ]
  },
  {
   "cell_type": "code",
   "execution_count": 12,
   "id": "633dbd8c",
   "metadata": {
    "ExecuteTime": {
     "end_time": "2021-08-03T12:28:04.932198Z",
     "start_time": "2021-08-03T12:28:04.757141Z"
    },
    "hidden": true
   },
   "outputs": [
    {
     "data": {
      "text/plain": [
       "store                                    int64\n",
       "day_of_week                              int64\n",
       "date                            datetime64[ns]\n",
       "sales                                    int64\n",
       "customers                                int64\n",
       "open                                     int64\n",
       "promo                                    int64\n",
       "state_holiday                           object\n",
       "school_holiday                           int64\n",
       "store_type                              object\n",
       "assortment                              object\n",
       "competition_distance                   float64\n",
       "competition_open_since_month           float64\n",
       "competition_open_since_year            float64\n",
       "promo2                                   int64\n",
       "promo2_since_week                      float64\n",
       "promo2_since_year                      float64\n",
       "promo_interval                          object\n",
       "dtype: object"
      ]
     },
     "execution_count": 12,
     "metadata": {},
     "output_type": "execute_result"
    }
   ],
   "source": [
    "# change date col type from object to datetime64\n",
    "df1[\"date\"] = pd.to_datetime( df1[\"date\"] )\n",
    "\n",
    "df1.dtypes"
   ]
  },
  {
   "cell_type": "markdown",
   "id": "93914559",
   "metadata": {
    "heading_collapsed": true
   },
   "source": [
    "## 1.4. Check NA"
   ]
  },
  {
   "cell_type": "code",
   "execution_count": 13,
   "id": "f29e844a",
   "metadata": {
    "ExecuteTime": {
     "end_time": "2021-08-03T12:28:05.205886Z",
     "start_time": "2021-08-03T12:28:04.934995Z"
    },
    "hidden": true
   },
   "outputs": [
    {
     "data": {
      "text/plain": [
       "store                                0\n",
       "day_of_week                          0\n",
       "date                                 0\n",
       "sales                                0\n",
       "customers                            0\n",
       "open                                 0\n",
       "promo                                0\n",
       "state_holiday                        0\n",
       "school_holiday                       0\n",
       "store_type                           0\n",
       "assortment                           0\n",
       "competition_distance              2642\n",
       "competition_open_since_month    323348\n",
       "competition_open_since_year     323348\n",
       "promo2                               0\n",
       "promo2_since_week               508031\n",
       "promo2_since_year               508031\n",
       "promo_interval                  508031\n",
       "dtype: int64"
      ]
     },
     "execution_count": 13,
     "metadata": {},
     "output_type": "execute_result"
    }
   ],
   "source": [
    "# .isna substitutes every value according to: value = na -> true, value != na -> false\n",
    "# .sum in this case adds all the trues\n",
    "df1.isna().sum()"
   ]
  },
  {
   "cell_type": "markdown",
   "id": "dfc60e99",
   "metadata": {
    "heading_collapsed": true
   },
   "source": [
    "## 1.5. Fill NA"
   ]
  },
  {
   "cell_type": "markdown",
   "id": "7f631e25",
   "metadata": {
    "hidden": true
   },
   "source": [
    "There are 3 different ways to handle NA's  \n",
    "    1 - Delete every row that has one  \n",
    "        Downside: it loses a lot of valuable data alongside  \n",
    "    2 - Use Machine Learning algorithms to predict wich values wold be in NA places  \n",
    "    3 - Understand the business"
   ]
  },
  {
   "cell_type": "markdown",
   "id": "7ca57a90",
   "metadata": {
    "ExecuteTime": {
     "end_time": "2021-07-23T22:58:53.662447Z",
     "start_time": "2021-07-23T22:58:53.657692Z"
    },
    "hidden": true
   },
   "source": [
    "### 1.5.1 competition_distance"
   ]
  },
  {
   "cell_type": "markdown",
   "id": "6a5bd0cd",
   "metadata": {
    "hidden": true
   },
   "source": [
    "in this case I am using the third approach writen abbove:  \n",
    "if there is an NA it is because there's no competition nearby  \n",
    "therefore I will substitute every NA by a very large value, much greater than the max natural value"
   ]
  },
  {
   "cell_type": "code",
   "execution_count": 14,
   "id": "9b0291c5",
   "metadata": {
    "ExecuteTime": {
     "end_time": "2021-08-03T12:28:05.231253Z",
     "start_time": "2021-08-03T12:28:05.210264Z"
    },
    "hidden": true
   },
   "outputs": [
    {
     "data": {
      "text/plain": [
       "75860.0"
      ]
     },
     "execution_count": 14,
     "metadata": {},
     "output_type": "execute_result"
    }
   ],
   "source": [
    "\n",
    "df1[\"competition_distance\"].max()\n"
   ]
  },
  {
   "cell_type": "code",
   "execution_count": 15,
   "id": "a5c63df7",
   "metadata": {
    "ExecuteTime": {
     "end_time": "2021-08-03T12:28:05.582407Z",
     "start_time": "2021-08-03T12:28:05.234706Z"
    },
    "hidden": true
   },
   "outputs": [
    {
     "data": {
      "text/plain": [
       "200000.0"
      ]
     },
     "execution_count": 15,
     "metadata": {},
     "output_type": "execute_result"
    }
   ],
   "source": [
    "df1[\"competition_distance\"] = df1[\"competition_distance\"].apply( lambda x: 200000.0 if math.isnan(x) else x )\n",
    "\n",
    "df1[\"competition_distance\"].max()"
   ]
  },
  {
   "cell_type": "markdown",
   "id": "8de45404",
   "metadata": {
    "hidden": true
   },
   "source": [
    "### 1.5.2 competition_open_since_month"
   ]
  },
  {
   "cell_type": "markdown",
   "id": "da972400",
   "metadata": {
    "hidden": true
   },
   "source": [
    "In this particular case, with the engeneering future process in mind, I will take into account that this date is going to show how the stores were impacted by the opening of competidors.  \n",
    "This NA might exist because there is no competition around the store or that there is competition but there is really no data regarding it's opening.  \n",
    "I am going to substitute the NA by the month that the store itself opened, not the competidor. It is an artifitial substitution, but is a try. I am going to know if this works in the end, looking at the model created by the machine learnig algorithm. If it does not wields a good result, it is OK, I am going to try to make something different, that's just a beginning"
   ]
  },
  {
   "cell_type": "code",
   "execution_count": null,
   "id": "c6eee8c3",
   "metadata": {
    "ExecuteTime": {
     "start_time": "2021-08-03T12:27:59.918Z"
    },
    "hidden": true
   },
   "outputs": [],
   "source": [
    "\n",
    "df1[\"competition_open_since_month\"] = df1.apply( lambda x: x[\"date\"].month if math.isnan(x[\"competition_open_since_month\"]) else x[\"competition_open_since_month\"], axis=1 )\n"
   ]
  },
  {
   "cell_type": "markdown",
   "id": "478bd032",
   "metadata": {
    "hidden": true
   },
   "source": [
    "### 1.5.3 competition_open_since_year"
   ]
  },
  {
   "cell_type": "markdown",
   "id": "b7e03ac8",
   "metadata": {
    "hidden": true
   },
   "source": [
    "Same principle as in the previous section"
   ]
  },
  {
   "cell_type": "code",
   "execution_count": null,
   "id": "454e048f",
   "metadata": {
    "ExecuteTime": {
     "start_time": "2021-08-03T12:27:59.925Z"
    },
    "hidden": true
   },
   "outputs": [],
   "source": [
    "\n",
    "df1[\"competition_open_since_year\"] = df1.apply( lambda x: x[\"date\"].year if math.isnan(x[\"competition_open_since_year\"]) else x[\"competition_open_since_year\"], axis=1 )\n"
   ]
  },
  {
   "cell_type": "markdown",
   "id": "2f33f154",
   "metadata": {
    "hidden": true
   },
   "source": [
    "### 1.5.4 promo2_since_week"
   ]
  },
  {
   "cell_type": "markdown",
   "id": "7dd92cf4",
   "metadata": {
    "hidden": true
   },
   "source": [
    "Same as previous sections"
   ]
  },
  {
   "cell_type": "code",
   "execution_count": null,
   "id": "f53f858d",
   "metadata": {
    "ExecuteTime": {
     "start_time": "2021-08-03T12:27:59.933Z"
    },
    "hidden": true
   },
   "outputs": [],
   "source": [
    "\n",
    "df1[\"promo2_since_week\"] = df1.apply( lambda x: x[\"date\"].week if math.isnan(x[\"promo2_since_week\"]) else x[\"promo2_since_week\"], axis=1 )\n"
   ]
  },
  {
   "cell_type": "markdown",
   "id": "d535b614",
   "metadata": {
    "hidden": true
   },
   "source": [
    "### 1.5.5 promo2_since_year"
   ]
  },
  {
   "cell_type": "markdown",
   "id": "794ed8ff",
   "metadata": {
    "hidden": true
   },
   "source": [
    "Same as previous sections"
   ]
  },
  {
   "cell_type": "code",
   "execution_count": null,
   "id": "e993c457",
   "metadata": {
    "ExecuteTime": {
     "start_time": "2021-08-03T12:27:59.941Z"
    },
    "hidden": true
   },
   "outputs": [],
   "source": [
    "\n",
    "df1[\"promo2_since_year\"] = df1.apply( lambda x: x[\"date\"].year if math.isnan(x[\"promo2_since_year\"]) else x[\"promo2_since_year\"], axis=1 )\n"
   ]
  },
  {
   "cell_type": "markdown",
   "id": "9eaa03f4",
   "metadata": {
    "ExecuteTime": {
     "end_time": "2021-07-28T14:18:50.276128Z",
     "start_time": "2021-07-28T14:18:50.276086Z"
    },
    "hidden": true
   },
   "source": [
    "### 1.5.6 promo_interval"
   ]
  },
  {
   "cell_type": "markdown",
   "id": "337a4385",
   "metadata": {
    "hidden": true
   },
   "source": [
    "Is a string containing months that have fixed promotions.  \n",
    "To use this information better I am going to create a helper column, curr_month, and a new column is_promo2 that tells me if any promo2 is active in the current month. To remove the NA's in promo_interval I am simply going to substitute them for 0"
   ]
  },
  {
   "cell_type": "code",
   "execution_count": null,
   "id": "0235a37f",
   "metadata": {
    "ExecuteTime": {
     "start_time": "2021-08-03T12:27:59.949Z"
    },
    "hidden": true
   },
   "outputs": [],
   "source": [
    "# substitute all na's by 0 not returning anything (inplace=True) to make the subsequent comparison easier\n",
    "df1[\"promo_interval\"].fillna(0, inplace=True)\n",
    "\n",
    "# create a map that will help trace each month to it's correspondent name abreviation\n",
    "month_map = {1: \"Jan\", 2: \"Feb\", 3: \"Mar\", 4: \"Apr\", 5: \"May\", 6: \"Jun\", 7: \"Jul\", 8: \"Aug\", 9: \"Sep\", 8: \"Oct\", 9: \"Nov\", 10: \"Dec\", 11: \"Nov\", 12: \"Dec\"}\n",
    "\n",
    "# make a column that shows the current mont name, not number\n",
    "df1[\"curr_month\"] = df1[\"date\"].dt.month.map( month_map )\n",
    "\n",
    "# helper function that will be given to apply\n",
    "def in_promo_interval(x):\n",
    "    if x[\"promo_interval\"] == 0:\n",
    "        return 0\n",
    "    elif x[\"curr_month\"] in x[\"promo_interval\"].split(\",\"):\n",
    "        return 1\n",
    "    else:\n",
    "        return 0\n",
    "\n",
    "# is_curr_in_promo2 will tell if there is a promo2 going on the current date, axis=1 to apply by row in all columns\n",
    "df1[\"is_curr_in_promo2\"] = df1[[\"promo_interval\", \"curr_month\"]].apply(in_promo_interval, axis=1)\n"
   ]
  },
  {
   "cell_type": "code",
   "execution_count": null,
   "id": "d0cea2d6",
   "metadata": {
    "ExecuteTime": {
     "start_time": "2021-08-03T12:27:59.954Z"
    },
    "hidden": true
   },
   "outputs": [],
   "source": [
    "df1.isna().sum()"
   ]
  },
  {
   "cell_type": "markdown",
   "id": "3d9ea472",
   "metadata": {
    "heading_collapsed": true
   },
   "source": [
    "## 1.6. Change types"
   ]
  },
  {
   "cell_type": "code",
   "execution_count": null,
   "id": "e784db3a",
   "metadata": {
    "ExecuteTime": {
     "start_time": "2021-08-03T12:27:59.960Z"
    },
    "hidden": true
   },
   "outputs": [],
   "source": [
    "# every time you perform actions that change the data on the dataframe it is worthy to take another look at the\n",
    "# types\n",
    "df1.dtypes"
   ]
  },
  {
   "cell_type": "code",
   "execution_count": null,
   "id": "7d333c70",
   "metadata": {
    "ExecuteTime": {
     "start_time": "2021-08-03T12:27:59.965Z"
    },
    "hidden": true
   },
   "outputs": [],
   "source": [
    "# change float64 to int\n",
    "df1[\"competition_open_since_month\"] = df1[\"competition_open_since_month\"].astype( int )\n",
    "df1[\"competition_open_since_year\"] = df1[\"competition_open_since_year\"].astype( int )\n",
    "df1[\"promo2_since_week\"] = df1[\"promo2_since_week\"].astype( int )\n",
    "df1[\"promo2_since_year\"] = df1[\"promo2_since_year\"].astype( int )"
   ]
  },
  {
   "cell_type": "code",
   "execution_count": null,
   "id": "310d35ce",
   "metadata": {
    "ExecuteTime": {
     "start_time": "2021-08-03T12:27:59.969Z"
    },
    "hidden": true
   },
   "outputs": [],
   "source": [
    "df1.dtypes"
   ]
  },
  {
   "cell_type": "markdown",
   "id": "590a56eb",
   "metadata": {},
   "source": [
    "## 1.7. Descriptive Statistics"
   ]
  },
  {
   "cell_type": "code",
   "execution_count": null,
   "id": "0c25368e",
   "metadata": {
    "ExecuteTime": {
     "start_time": "2021-08-03T12:27:59.975Z"
    }
   },
   "outputs": [],
   "source": [
    "# divide numerical variables from categorical\n",
    "num_attributes = df1.select_dtypes( include=[\"int64\", \"float64\"] )\n",
    "cat_attributes = df1.select_dtypes( exclude=[\"int64\", \"float64\", \"datetime64[ns]\"] )"
   ]
  },
  {
   "cell_type": "markdown",
   "id": "d9037be1",
   "metadata": {},
   "source": [
    "### 1.7.1. Numerical attributes"
   ]
  },
  {
   "cell_type": "code",
   "execution_count": null,
   "id": "70c49274",
   "metadata": {
    "ExecuteTime": {
     "start_time": "2021-08-03T12:27:59.983Z"
    }
   },
   "outputs": [],
   "source": [
    "# Central Tendency - mean, median\n",
    "ct1 = pd.DataFrame( num_attributes.apply( np.mean ) ).T\n",
    "ct2 = pd.DataFrame( num_attributes.apply( np.median ) ).T\n",
    "\n",
    "# Dispersiom - std, min, max, range, skew, kurtosis\n",
    "# skew is how much skewed is a graph in relation to a normal distribution\n",
    "# kurtosis is how concentrated or not are the values - high values => more concentrated => sharper peak\n",
    "d1 = pd.DataFrame( num_attributes.apply( np.std ) ).T\n",
    "d2 = pd.DataFrame( num_attributes.apply( min ) ).T\n",
    "d3 = pd.DataFrame( num_attributes.apply( max ) ).T\n",
    "d4 = pd.DataFrame( num_attributes.apply(lambda x: x.max() - x.min() ) ).T\n",
    "d5 = pd.DataFrame( num_attributes.apply(lambda x: x.skew() ) ).T\n",
    "d6 = pd.DataFrame( num_attributes.apply(lambda x: x.kurtosis() ) ).T\n",
    "\n",
    "m = pd.concat([d2, d3, d4, ct1, ct2, d1, d5, d6]).T.reset_index()\n",
    "m.columns = [\"attributes\", \"min\", \"max\", \"range\", \"mean\", \"median\", \"std\", \"skew\", \"kurtosis\"]\n",
    "\n",
    "m"
   ]
  },
  {
   "cell_type": "code",
   "execution_count": null,
   "id": "095b5bb4",
   "metadata": {
    "ExecuteTime": {
     "start_time": "2021-08-03T12:27:59.988Z"
    }
   },
   "outputs": [],
   "source": [
    "# notice that the huge kurtosis indicates that there is a big peak in the graph\n",
    "# and that the great positive skew indicates that there is a deformation to the right\n",
    "\n",
    "cd_plot = sns.histplot( df1[\"competition_distance\"], kde=True )\n"
   ]
  },
  {
   "cell_type": "markdown",
   "id": "9bb03bc9",
   "metadata": {},
   "source": [
    "### 1.7.2 Categorical attributes"
   ]
  },
  {
   "cell_type": "code",
   "execution_count": null,
   "id": "8d514652",
   "metadata": {
    "ExecuteTime": {
     "start_time": "2021-08-03T12:27:59.995Z"
    }
   },
   "outputs": [],
   "source": [
    "# how many unique attributes\n",
    "cat_attributes.apply(lambda x: x.unique().shape[0])"
   ]
  },
  {
   "cell_type": "code",
   "execution_count": null,
   "id": "83b0909b",
   "metadata": {
    "ExecuteTime": {
     "start_time": "2021-08-03T12:28:00.001Z"
    }
   },
   "outputs": [],
   "source": [
    "# filtering out the days that had not have holidays (0) and the sales that were 0, the data that happend in days\n",
    "# that the stores were closed, possibly that closed during the holiday\n",
    "aux1 = df1[(df1[\"state_holiday\"] != \"0\") & (df1[\"sales\"] > 0)]\n",
    "\n",
    "# plt.subplot to separete the screen and 1, 3, 1 => 1 line, 3 columns, this one in the first position\n",
    "plt.subplot(1, 3, 1)\n",
    "sns.boxplot( x=\"state_holiday\", y=\"sales\", data=aux1)\n",
    "\n",
    "plt.subplot(1, 3, 2)\n",
    "sns.boxplot( x=\"store_type\", y=\"sales\", data=aux1)\n",
    "\n",
    "plt.subplot(1, 3, 3)\n",
    "sns.boxplot( x=\"assortment\", y=\"sales\", data=aux1)"
   ]
  },
  {
   "cell_type": "markdown",
   "id": "9ed5560f",
   "metadata": {},
   "source": [
    "# 2.0. Feature Engineering"
   ]
  },
  {
   "cell_type": "markdown",
   "id": "b282e31b",
   "metadata": {},
   "source": [
    "## 2.1.1 Hypothesis mind map"
   ]
  },
  {
   "cell_type": "code",
   "execution_count": null,
   "id": "9f793bfa",
   "metadata": {
    "ExecuteTime": {
     "start_time": "2021-08-03T12:28:00.012Z"
    }
   },
   "outputs": [],
   "source": [
    "Image( \"imgs/mindmap_store_sales.png\" )"
   ]
  },
  {
   "cell_type": "markdown",
   "id": "e987be5a",
   "metadata": {},
   "source": [
    "Having the mind map, the next step is formulating hypothesis  \n",
    "Hypothesis are bets, that may or may not be validated through data"
   ]
  },
  {
   "cell_type": "markdown",
   "id": "8c154759",
   "metadata": {
    "ExecuteTime": {
     "end_time": "2021-08-02T13:44:59.265404Z",
     "start_time": "2021-08-02T13:44:59.261726Z"
    }
   },
   "source": [
    "## 2.2. Hypothesis creation"
   ]
  },
  {
   "cell_type": "markdown",
   "id": "b4402c04",
   "metadata": {},
   "source": [
    "These hypothesis are not implying in cause and effect, it is a correlation.\n",
    "\n",
    "If you increase the size of a store, not necessarily you will increase sales, beacause there are many factors, including store size that are influencing in the sales level\n",
    "\n",
    "And that is why we are trying to map all the attributes thare are influencing here"
   ]
  },
  {
   "cell_type": "markdown",
   "id": "66634be6",
   "metadata": {
    "heading_collapsed": true
   },
   "source": [
    "### 2.2.1 Hypothesis related to stores"
   ]
  },
  {
   "cell_type": "markdown",
   "id": "cd21db7b",
   "metadata": {
    "hidden": true
   },
   "source": [
    "**1.** Stores with larger staff should sell more\n",
    "\n",
    "**2.** Stores with larger stock should sell more (stock is not only the part that is kept in storage, away from the public, but what is exposed as well)\n",
    "\n",
    "**3.** Larger stores should sell more\n",
    "\n",
    "**4.** Stores with larger assorment should sell more (greater variety in products, a client can come to buy something and ending up buying something else as well)\n",
    "\n",
    "**5.** Stores with close competitors should sell less\n",
    "\n",
    "**6.** Stores with longer-term competitors should sell less"
   ]
  },
  {
   "cell_type": "markdown",
   "id": "a9fc6e5c",
   "metadata": {
    "heading_collapsed": true
   },
   "source": [
    "### 2.2.2 Hypothesis related to product"
   ]
  },
  {
   "cell_type": "markdown",
   "id": "fd0edefa",
   "metadata": {
    "hidden": true
   },
   "source": [
    "**1.** Stores investing more in marketing should sell more\n",
    "\n",
    "**2.** Stores displaying more products in the showcase should sell more\n",
    "\n",
    "**3.** Stores with lower prices for the same product should sell more\n",
    "\n",
    "**4.** Stores with more aggresive promotions should sell more (cheaper product)\n",
    "\n",
    "**5.** Stores with longer sales (promotions) periods should sell more\n",
    "\n",
    "**6.** Stores with longer sales consecutive days should sell more\n",
    "\n",
    "**7.** Stores with more consecutive sales periods should sell more"
   ]
  },
  {
   "cell_type": "markdown",
   "id": "22c23425",
   "metadata": {
    "heading_collapsed": true
   },
   "source": [
    "### 2.2.3 Hypothesis related to time (seasonality)"
   ]
  },
  {
   "cell_type": "markdown",
   "id": "4f0fd865",
   "metadata": {
    "hidden": true
   },
   "source": [
    "**1.** Stores that open during the christmas holiday should sell more\n",
    "\n",
    "**2.** Stores should sell more along the years \n",
    "\n",
    "**3.** Stores should sell more during the last half of the year\n",
    "\n",
    "**4.** Stores should sell more after the tenth day of the month \n",
    "\n",
    "**5.** Stores should sell less on weekends\n",
    "\n",
    "**6.** Stores should sell less on school holidays"
   ]
  },
  {
   "cell_type": "markdown",
   "id": "e776f2a0",
   "metadata": {
    "heading_collapsed": true
   },
   "source": [
    "## 2.4. Final hypothesis list - priorities"
   ]
  },
  {
   "cell_type": "markdown",
   "id": "9f77a20b",
   "metadata": {
    "hidden": true
   },
   "source": [
    "The priority is given by the availability of the data.\n",
    "\n",
    "If you already have the data in the table, test the hypothesis.\n",
    "\n",
    "If the machine learning algorithm is not perfoming well or the hypothesis is very relevant you can comeback in the next cicle and look for the missing data for these hypothesis"
   ]
  },
  {
   "cell_type": "markdown",
   "id": "064c3524",
   "metadata": {
    "heading_collapsed": true,
    "hidden": true
   },
   "source": [
    "### 2.4.1 Store hypothesis "
   ]
  },
  {
   "cell_type": "markdown",
   "id": "cc4edae8",
   "metadata": {
    "hidden": true
   },
   "source": [
    "**1.** Stores with larger assorment should sell more (greater variety in products, a client can come to buy something and ending up buying something else as well)\n",
    "\n",
    "**2.** Stores with close competitors should sell less\n",
    "\n",
    "**3.** Stores with longer-term competitors should sell less"
   ]
  },
  {
   "cell_type": "markdown",
   "id": "98dd1897",
   "metadata": {
    "heading_collapsed": true,
    "hidden": true
   },
   "source": [
    "### 2.4.1 Product hypothesis "
   ]
  },
  {
   "cell_type": "markdown",
   "id": "3211d495",
   "metadata": {
    "hidden": true
   },
   "source": [
    "**1.** Stores with longer sales (promotions) periods should sell more\n",
    "\n",
    "**2.** Stores with longer sales consecutive days should sell more\n",
    "\n",
    "**3.** Stores with more consecutive sales periods should sell more"
   ]
  },
  {
   "cell_type": "markdown",
   "id": "0dff98e0",
   "metadata": {
    "hidden": true
   },
   "source": [
    "### 2.4.1 Time hypothesis "
   ]
  },
  {
   "cell_type": "markdown",
   "id": "81d9d2fc",
   "metadata": {
    "hidden": true
   },
   "source": [
    "**1.** Stores that open during the christmas holiday should sell more\n",
    "\n",
    "**2.** Stores should sell more along the years \n",
    "\n",
    "**3.** Stores should sell more during the last half of the year\n",
    "\n",
    "**4.** Stores should sell more after the tenth day of the month \n",
    "\n",
    "**5.** Stores should sell less on weekends\n",
    "\n",
    "**6.** Stores should sell less on school holidays"
   ]
  },
  {
   "cell_type": "markdown",
   "id": "594077ab",
   "metadata": {},
   "source": [
    "## 2.5. Feature Engineering"
   ]
  },
  {
   "cell_type": "markdown",
   "id": "b52628db",
   "metadata": {},
   "source": [
    "Creating variables/columns for future processing, foreseeing future variables needs"
   ]
  },
  {
   "cell_type": "code",
   "execution_count": null,
   "id": "50d96c3b",
   "metadata": {
    "ExecuteTime": {
     "start_time": "2021-08-03T12:28:00.033Z"
    }
   },
   "outputs": [],
   "source": [
    "df2 = df1.copy()"
   ]
  },
  {
   "cell_type": "code",
   "execution_count": null,
   "id": "0268da68",
   "metadata": {
    "ExecuteTime": {
     "start_time": "2021-08-03T12:28:00.037Z"
    }
   },
   "outputs": [],
   "source": [
    "df2.sample(5).T"
   ]
  },
  {
   "cell_type": "code",
   "execution_count": null,
   "id": "79073678",
   "metadata": {
    "ExecuteTime": {
     "start_time": "2021-08-03T12:28:00.040Z"
    }
   },
   "outputs": [],
   "source": [
    "# YEAR\n",
    "df2[\"year\"] = df2[\"date\"].dt.year\n",
    "\n",
    "# MONTH\n",
    "df2[\"month\"] = df2[\"date\"].dt.month\n",
    "\n",
    "# DAY\n",
    "df2[\"day\"] = df2[\"date\"].dt.day\n",
    "\n",
    "# WEEK OF YEAR\n",
    "df2[\"week_of_year\"] = df2[\"date\"].dt.isocalendar().week\n",
    "\n",
    "# YEAR WEEK - just a date format (2015-30)\n",
    "df2[\"year_week\"] = df2[\"date\"].dt.strftime(\"%Y-%W\")\n",
    "\n",
    "\n",
    "# COMPETITION SINCE\n",
    "\n",
    "# forming a datetime from columns ...since_year and ...since_month\n",
    "df2[\"competition_since\"] = df2.apply( lambda x: datetime.datetime( year=x[\"competition_open_since_year\"], month=x[\"competition_open_since_month\"], day=1 ), axis=1 )\n",
    "\n",
    "# the result of the subtraction of df2[\"date\"] and df2[\"competition_since\"] is a number of days, so we divide\n",
    "# by 30 to get the number of months\n",
    "# the problem is that now we have a datetime obj that has a number of weeks in it's days property\n",
    "# so we use apply to extract days and transform the resulting str in integer \n",
    "df2[\"competition_time_in_months\"] = ( ( df2[\"date\"] - df2[\"competition_since\"] ) / 30 ).apply( lambda x: x.days ).astype(int)\n",
    "\n",
    "\n",
    "# PROMO2 SINCE\n",
    "# first join the str values of promo2_since_year and promo2_since_week\n",
    "df2[\"promo2_since\"] = df2[\"promo2_since_year\"].astype(str) + \"-\" + df2[\"promo2_since_week\"].astype(str)\n",
    "\n",
    "# then loop through all values a transformation to datetime obj from a str using strptime\n",
    "# the x is the str, the \"-1\" is a concatenation of strs, transforming \"2012-31\" to \"2012-31-1\", symbolizing the\n",
    "# assumption that the week day in wich the promo2 began was sunday, and the \"%Y-%W-%w\" is\n",
    "# the format that the given str is\n",
    "# the subtraction of datetime.timedelta( days=7 ) means that we are taking off a week from the number\n",
    "# aproximately transforming the value from ISO to a count that has the first week of the year in other day\n",
    "# probably to maintain the same date format throughout the project\n",
    "df2[\"promo2_since\"] = df2[\"promo2_since\"].apply( lambda x: datetime.datetime.strptime( x + \"-1\", \"%Y-%W-%w\" ) - datetime.timedelta( days=7 ) )\n",
    "\n",
    "# then subtract and divide by seven to get the number of weeks, as in COMPETITION SINCE\n",
    "df2[\"promo2_time_in_weeks\"] = ( ( df2[\"date\"] - df2[\"promo2_since\"] ) / 7 ).apply( lambda x: x.days ).astype(int)\n",
    "\n",
    "\n",
    "# ASSORTMENT\n",
    "# a = basic, b = extra, c = extended\n",
    "df2[\"assortment\"] = df2[\"assortment\"].apply(lambda x: \"basic\" if x == \"a\" else \"extra\" if x == \"b\" else \"extended\")\n",
    "\n",
    "# STATE HOLIDAY\n",
    "# a = public holiday, b = Easter holiday, c = Christmas, 0 = None\n",
    "df2[\"state_holiday\"] = df2[\"state_holiday\"].apply(lambda x: \"public_holiday\" if x == \"a\" else \"easter_holiday\" if x == \"b\" else \"christmas\" if x == \"c\" else \"regular_day\")"
   ]
  },
  {
   "cell_type": "code",
   "execution_count": null,
   "id": "888b4454",
   "metadata": {
    "ExecuteTime": {
     "start_time": "2021-08-03T12:28:00.047Z"
    },
    "scrolled": false
   },
   "outputs": [],
   "source": [
    "df2.head().T"
   ]
  },
  {
   "cell_type": "markdown",
   "id": "d3e23771",
   "metadata": {
    "heading_collapsed": true
   },
   "source": [
    "# 3.0. Variable filtering"
   ]
  },
  {
   "cell_type": "markdown",
   "id": "041ae423",
   "metadata": {
    "hidden": true
   },
   "source": [
    "Variable filtering is a proccess that takes into consideration a business analysis.\n",
    "\n",
    "You will take out from the analysis data that although relevant is not available in the business side.\n",
    "And also take into account the higher priority of the demand. Perhaps the boss wants attention in a given store type only. You can filter out the other types.\n",
    "\n",
    "i.e. An analysis that discovered that higher discounts yelds higher sales. However the business team does not know discounts before the product is lauch, therefore it is a information that has no impact in any planing of product launching.\n",
    "\n",
    "Filtering helps preventing this scenario. If you know that discounts can not be use, you can choose another variable for the analysis."
   ]
  },
  {
   "cell_type": "code",
   "execution_count": null,
   "id": "02c2e975",
   "metadata": {
    "ExecuteTime": {
     "start_time": "2021-08-03T12:28:00.053Z"
    },
    "hidden": true
   },
   "outputs": [],
   "source": [
    "df3 = df2.copy()"
   ]
  },
  {
   "cell_type": "markdown",
   "id": "a75567a9",
   "metadata": {
    "hidden": true
   },
   "source": [
    "## 3.1. Row filtering"
   ]
  },
  {
   "cell_type": "markdown",
   "id": "d84972d9",
   "metadata": {
    "hidden": true
   },
   "source": [
    "Rows where **\"open\"** == 0. These are days in wich no sales were made, so there is no valuable information here.\n",
    "\n",
    "Rows where **\"sales\"** > 0. Same reason as above."
   ]
  },
  {
   "cell_type": "code",
   "execution_count": null,
   "id": "cf30bedf",
   "metadata": {
    "ExecuteTime": {
     "start_time": "2021-08-03T12:28:00.057Z"
    },
    "hidden": true
   },
   "outputs": [],
   "source": [
    "df3 = df3[(df3[\"open\"] != 0) & (df3[\"sales\"] > 0)]"
   ]
  },
  {
   "cell_type": "markdown",
   "id": "16fbd61c",
   "metadata": {
    "hidden": true
   },
   "source": [
    "## 3.2. Column filtering"
   ]
  },
  {
   "cell_type": "markdown",
   "id": "6df96475",
   "metadata": {
    "hidden": true
   },
   "source": [
    "Col **\"customers\"**: There is no prediction of the amount of custumers that will visit the store in the future, just the amount in the date of the recording. No comparison available, business restriction\n",
    "\n",
    "Droping \"open\" column as well, because once the 0 were filtered out there remains only 1 in every cell no relevant info remains there\n",
    "\n",
    "Cols promo_interval and curr_month used just to derive is_curr_in_promo2 col "
   ]
  },
  {
   "cell_type": "code",
   "execution_count": null,
   "id": "f1ab7b85",
   "metadata": {
    "ExecuteTime": {
     "start_time": "2021-08-03T12:28:00.066Z"
    },
    "hidden": true
   },
   "outputs": [],
   "source": [
    "# droping \"open\" column as well, because once the 0 were filtered out there remains only 1 in every cell\n",
    "# no relevant info remains there\n",
    "\n",
    "cols_drop = [\"customers\", \"open\", \"promo_interval\", \"curr_month\"]\n",
    "df3 = df3.drop( cols_drop, axis=1 )"
   ]
  },
  {
   "cell_type": "markdown",
   "id": "54cc104d",
   "metadata": {},
   "source": [
    "# 4.0. Exploratory Data Analysis"
   ]
  },
  {
   "cell_type": "code",
   "execution_count": null,
   "id": "5344ee68",
   "metadata": {
    "ExecuteTime": {
     "start_time": "2021-08-03T12:28:00.071Z"
    }
   },
   "outputs": [],
   "source": [
    "df4 = df3.copy()"
   ]
  },
  {
   "cell_type": "markdown",
   "id": "d86f40b3",
   "metadata": {},
   "source": [
    "## 4.1. Univariate Analysis"
   ]
  },
  {
   "cell_type": "markdown",
   "id": "46d4762e",
   "metadata": {
    "heading_collapsed": true
   },
   "source": [
    "### 4.1.1 Response variable"
   ]
  },
  {
   "cell_type": "code",
   "execution_count": null,
   "id": "180f686d",
   "metadata": {
    "ExecuteTime": {
     "start_time": "2021-08-03T12:28:00.078Z"
    },
    "hidden": true
   },
   "outputs": [],
   "source": [
    "sns.histplot(df4[\"sales\"], kde=True)"
   ]
  },
  {
   "cell_type": "code",
   "execution_count": null,
   "id": "14ceb310",
   "metadata": {
    "ExecuteTime": {
     "start_time": "2021-08-03T12:28:00.082Z"
    },
    "hidden": true
   },
   "outputs": [],
   "source": [
    "# if we wanted to normalize more:\n",
    "sns.histplot( np.log1p( df4[\"sales\"] ), kde=True )\n",
    "# there is no need in this case"
   ]
  },
  {
   "cell_type": "markdown",
   "id": "48d31e8f",
   "metadata": {
    "heading_collapsed": true
   },
   "source": [
    "### 4.1.2 Numerical variable"
   ]
  },
  {
   "cell_type": "code",
   "execution_count": null,
   "id": "99c45ed3",
   "metadata": {
    "ExecuteTime": {
     "start_time": "2021-08-03T12:28:00.088Z"
    },
    "hidden": true
   },
   "outputs": [],
   "source": [
    "num_attributes = df4.select_dtypes( include=[\"int64\", \"float64\"] )\n",
    "num_attributes.hist( bins=25, figsize=(25,16) );"
   ]
  },
  {
   "cell_type": "markdown",
   "id": "fb7e0453",
   "metadata": {},
   "source": [
    "### 4.1.3 Categorical variable"
   ]
  },
  {
   "cell_type": "code",
   "execution_count": null,
   "id": "eaf92245",
   "metadata": {
    "ExecuteTime": {
     "start_time": "2021-08-03T12:28:00.093Z"
    }
   },
   "outputs": [],
   "source": [
    "df4[\"state_holiday\"].drop_duplicates()     "
   ]
  },
  {
   "cell_type": "code",
   "execution_count": null,
   "id": "67e90afb",
   "metadata": {
    "ExecuteTime": {
     "start_time": "2021-08-03T12:28:00.099Z"
    },
    "scrolled": false
   },
   "outputs": [],
   "source": [
    "# STATE HOLIDAY\n",
    "\n",
    "# since most colected days are regular days, it's bar gets out of proportion, not allowing the visualization\n",
    "# of the other variables, better filter it out for visualization\n",
    "# fig, axs = plt.subplots(nrows=2, ncols=2)\n",
    "plt.subplot(2, 1, 2)\n",
    "not_a_regular_day = df4[df4[\"state_holiday\"] != \"regular_day\"]\n",
    "sns.countplot( x=not_a_regular_day[\"state_holiday\"] )\n",
    "\n",
    "# ====== Important ======\n",
    "# in the kdeplot the option common_norm=False produces a plot that is out of proportion\n",
    "# it makes easter and christmas larger than they really are because they are not comparing with each other\n",
    "# when common_norm=True, the default setting, density of values is distributed between the graphs,\n",
    "# so that their shared area sum (integral) is 1\n",
    "# when false, their individual area integral is equal to 1\n",
    "plt.subplot(2, 2, 1).set_title(\"Proportional Densities\")\n",
    "sns.kdeplot( data=not_a_regular_day, x=\"sales\", hue=\"state_holiday\", shade=True )\n",
    "\n",
    "# just ploted this out of proportion graph for the visual comparison of skew and kurtosis\n",
    "plt.subplot(2, 2, 2).set_title(\"Out of Proportion Densities\")\n",
    "sns.kdeplot( data=not_a_regular_day, x=\"sales\", hue=\"state_holiday\", shade=True, common_norm=False )\n"
   ]
  },
  {
   "cell_type": "markdown",
   "id": "03313699",
   "metadata": {},
   "source": [
    "## 4.2. Bivariate Analysis"
   ]
  },
  {
   "cell_type": "markdown",
   "id": "520c8da5",
   "metadata": {},
   "source": [
    "## 4.3. Multivariate Analysis"
   ]
  },
  {
   "cell_type": "code",
   "execution_count": null,
   "id": "7aa3076e",
   "metadata": {},
   "outputs": [],
   "source": []
  },
  {
   "cell_type": "code",
   "execution_count": null,
   "id": "bb3ba259",
   "metadata": {},
   "outputs": [],
   "source": []
  },
  {
   "cell_type": "code",
   "execution_count": null,
   "id": "d5c98a49",
   "metadata": {},
   "outputs": [],
   "source": []
  },
  {
   "cell_type": "code",
   "execution_count": null,
   "id": "03fb8540",
   "metadata": {},
   "outputs": [],
   "source": []
  },
  {
   "cell_type": "code",
   "execution_count": null,
   "id": "3a93e446",
   "metadata": {},
   "outputs": [],
   "source": []
  },
  {
   "cell_type": "code",
   "execution_count": null,
   "id": "403976f3",
   "metadata": {},
   "outputs": [],
   "source": []
  },
  {
   "cell_type": "code",
   "execution_count": null,
   "id": "7a73e04c",
   "metadata": {},
   "outputs": [],
   "source": []
  },
  {
   "cell_type": "code",
   "execution_count": null,
   "id": "6acabba5",
   "metadata": {},
   "outputs": [],
   "source": []
  },
  {
   "cell_type": "markdown",
   "id": "e9531bef",
   "metadata": {},
   "source": [
    "# SPACE"
   ]
  },
  {
   "cell_type": "code",
   "execution_count": null,
   "id": "37c0ce0a",
   "metadata": {},
   "outputs": [],
   "source": []
  },
  {
   "cell_type": "code",
   "execution_count": null,
   "id": "3999c898",
   "metadata": {},
   "outputs": [],
   "source": []
  },
  {
   "cell_type": "code",
   "execution_count": null,
   "id": "2a58b4ed",
   "metadata": {},
   "outputs": [],
   "source": []
  },
  {
   "cell_type": "code",
   "execution_count": null,
   "id": "f70c4e8f",
   "metadata": {},
   "outputs": [],
   "source": []
  },
  {
   "cell_type": "code",
   "execution_count": null,
   "id": "93ee1784",
   "metadata": {},
   "outputs": [],
   "source": []
  },
  {
   "cell_type": "code",
   "execution_count": null,
   "id": "b057a5c2",
   "metadata": {},
   "outputs": [],
   "source": []
  },
  {
   "cell_type": "code",
   "execution_count": null,
   "id": "17fa811c",
   "metadata": {},
   "outputs": [],
   "source": []
  },
  {
   "cell_type": "code",
   "execution_count": null,
   "id": "a62acaa0",
   "metadata": {},
   "outputs": [],
   "source": []
  },
  {
   "cell_type": "code",
   "execution_count": null,
   "id": "bb276a84",
   "metadata": {},
   "outputs": [],
   "source": []
  },
  {
   "cell_type": "code",
   "execution_count": null,
   "id": "50a96d49",
   "metadata": {},
   "outputs": [],
   "source": []
  },
  {
   "cell_type": "code",
   "execution_count": null,
   "id": "75b87da9",
   "metadata": {},
   "outputs": [],
   "source": []
  },
  {
   "cell_type": "code",
   "execution_count": null,
   "id": "5241b99e",
   "metadata": {},
   "outputs": [],
   "source": []
  },
  {
   "cell_type": "code",
   "execution_count": null,
   "id": "116f7160",
   "metadata": {},
   "outputs": [],
   "source": []
  },
  {
   "cell_type": "code",
   "execution_count": null,
   "id": "8460da84",
   "metadata": {},
   "outputs": [],
   "source": []
  },
  {
   "cell_type": "code",
   "execution_count": null,
   "id": "5b35aa8a",
   "metadata": {},
   "outputs": [],
   "source": []
  },
  {
   "cell_type": "code",
   "execution_count": null,
   "id": "e878523d",
   "metadata": {},
   "outputs": [],
   "source": []
  },
  {
   "cell_type": "code",
   "execution_count": null,
   "id": "5ae8041d",
   "metadata": {},
   "outputs": [],
   "source": []
  }
 ],
 "metadata": {
  "kernelspec": {
   "display_name": "Python 3 (ipykernel)",
   "language": "python",
   "name": "python3"
  },
  "language_info": {
   "codemirror_mode": {
    "name": "ipython",
    "version": 3
   },
   "file_extension": ".py",
   "mimetype": "text/x-python",
   "name": "python",
   "nbconvert_exporter": "python",
   "pygments_lexer": "ipython3",
   "version": "3.9.6"
  }
 },
 "nbformat": 4,
 "nbformat_minor": 5
}
