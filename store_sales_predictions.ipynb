{
 "cells": [
  {
   "cell_type": "markdown",
   "id": "fad62064",
   "metadata": {
    "heading_collapsed": true
   },
   "source": [
    "# 0.0. Imports"
   ]
  },
  {
   "cell_type": "code",
   "execution_count": 2,
   "id": "51e0ebd9",
   "metadata": {
    "ExecuteTime": {
     "end_time": "2021-08-02T12:17:32.756581Z",
     "start_time": "2021-08-02T12:17:30.421614Z"
    },
    "hidden": true
   },
   "outputs": [],
   "source": [
    "import pandas as pd\n",
    "import numpy as np\n",
    "import inflection\n",
    "import math\n",
    "import seaborn as sns\n",
    "from matplotlib import pyplot as plt"
   ]
  },
  {
   "cell_type": "code",
   "execution_count": 3,
   "id": "beb387a2",
   "metadata": {
    "ExecuteTime": {
     "end_time": "2021-08-02T12:17:32.775557Z",
     "start_time": "2021-08-02T12:17:32.761375Z"
    },
    "hidden": true
   },
   "outputs": [],
   "source": [
    "# setting seaborn figure sizes to occupy the whole screen\n",
    "sns.set(rc={'figure.figsize':(14, 9)})"
   ]
  },
  {
   "cell_type": "markdown",
   "id": "f1f10162",
   "metadata": {
    "hidden": true
   },
   "source": [
    "## 0.1. Helper functions"
   ]
  },
  {
   "cell_type": "markdown",
   "id": "28c16b76",
   "metadata": {
    "heading_collapsed": true,
    "hidden": true
   },
   "source": [
    "## 0.2. Loading data"
   ]
  },
  {
   "cell_type": "code",
   "execution_count": 4,
   "id": "91178390",
   "metadata": {
    "ExecuteTime": {
     "end_time": "2021-08-02T12:17:34.945625Z",
     "start_time": "2021-08-02T12:17:32.780357Z"
    },
    "hidden": true
   },
   "outputs": [],
   "source": [
    "df_sales_raw = pd.read_csv(\"data/train.csv\", low_memory=False)\n",
    "df_store_raw = pd.read_csv(\"data/store.csv\", low_memory=False)\n",
    "\n",
    "# merge df's\n",
    "df_raw = df_sales_raw.merge(df_store_raw, how=\"left\", on=\"Store\")"
   ]
  },
  {
   "cell_type": "code",
   "execution_count": 5,
   "id": "e7fad8be",
   "metadata": {
    "ExecuteTime": {
     "end_time": "2021-08-02T12:17:34.987247Z",
     "start_time": "2021-08-02T12:17:34.949094Z"
    },
    "hidden": true
   },
   "outputs": [
    {
     "data": {
      "text/html": [
       "<div>\n",
       "<style scoped>\n",
       "    .dataframe tbody tr th:only-of-type {\n",
       "        vertical-align: middle;\n",
       "    }\n",
       "\n",
       "    .dataframe tbody tr th {\n",
       "        vertical-align: top;\n",
       "    }\n",
       "\n",
       "    .dataframe thead th {\n",
       "        text-align: right;\n",
       "    }\n",
       "</style>\n",
       "<table border=\"1\" class=\"dataframe\">\n",
       "  <thead>\n",
       "    <tr style=\"text-align: right;\">\n",
       "      <th></th>\n",
       "      <th>Store</th>\n",
       "      <th>DayOfWeek</th>\n",
       "      <th>Date</th>\n",
       "      <th>Sales</th>\n",
       "      <th>Customers</th>\n",
       "      <th>Open</th>\n",
       "      <th>Promo</th>\n",
       "      <th>StateHoliday</th>\n",
       "      <th>SchoolHoliday</th>\n",
       "      <th>StoreType</th>\n",
       "      <th>Assortment</th>\n",
       "      <th>CompetitionDistance</th>\n",
       "      <th>CompetitionOpenSinceMonth</th>\n",
       "      <th>CompetitionOpenSinceYear</th>\n",
       "      <th>Promo2</th>\n",
       "      <th>Promo2SinceWeek</th>\n",
       "      <th>Promo2SinceYear</th>\n",
       "      <th>PromoInterval</th>\n",
       "    </tr>\n",
       "  </thead>\n",
       "  <tbody>\n",
       "    <tr>\n",
       "      <th>0</th>\n",
       "      <td>1</td>\n",
       "      <td>5</td>\n",
       "      <td>2015-07-31</td>\n",
       "      <td>5263</td>\n",
       "      <td>555</td>\n",
       "      <td>1</td>\n",
       "      <td>1</td>\n",
       "      <td>0</td>\n",
       "      <td>1</td>\n",
       "      <td>c</td>\n",
       "      <td>a</td>\n",
       "      <td>1270.0</td>\n",
       "      <td>9.0</td>\n",
       "      <td>2008.0</td>\n",
       "      <td>0</td>\n",
       "      <td>NaN</td>\n",
       "      <td>NaN</td>\n",
       "      <td>NaN</td>\n",
       "    </tr>\n",
       "    <tr>\n",
       "      <th>1</th>\n",
       "      <td>2</td>\n",
       "      <td>5</td>\n",
       "      <td>2015-07-31</td>\n",
       "      <td>6064</td>\n",
       "      <td>625</td>\n",
       "      <td>1</td>\n",
       "      <td>1</td>\n",
       "      <td>0</td>\n",
       "      <td>1</td>\n",
       "      <td>a</td>\n",
       "      <td>a</td>\n",
       "      <td>570.0</td>\n",
       "      <td>11.0</td>\n",
       "      <td>2007.0</td>\n",
       "      <td>1</td>\n",
       "      <td>13.0</td>\n",
       "      <td>2010.0</td>\n",
       "      <td>Jan,Apr,Jul,Oct</td>\n",
       "    </tr>\n",
       "    <tr>\n",
       "      <th>2</th>\n",
       "      <td>3</td>\n",
       "      <td>5</td>\n",
       "      <td>2015-07-31</td>\n",
       "      <td>8314</td>\n",
       "      <td>821</td>\n",
       "      <td>1</td>\n",
       "      <td>1</td>\n",
       "      <td>0</td>\n",
       "      <td>1</td>\n",
       "      <td>a</td>\n",
       "      <td>a</td>\n",
       "      <td>14130.0</td>\n",
       "      <td>12.0</td>\n",
       "      <td>2006.0</td>\n",
       "      <td>1</td>\n",
       "      <td>14.0</td>\n",
       "      <td>2011.0</td>\n",
       "      <td>Jan,Apr,Jul,Oct</td>\n",
       "    </tr>\n",
       "    <tr>\n",
       "      <th>3</th>\n",
       "      <td>4</td>\n",
       "      <td>5</td>\n",
       "      <td>2015-07-31</td>\n",
       "      <td>13995</td>\n",
       "      <td>1498</td>\n",
       "      <td>1</td>\n",
       "      <td>1</td>\n",
       "      <td>0</td>\n",
       "      <td>1</td>\n",
       "      <td>c</td>\n",
       "      <td>c</td>\n",
       "      <td>620.0</td>\n",
       "      <td>9.0</td>\n",
       "      <td>2009.0</td>\n",
       "      <td>0</td>\n",
       "      <td>NaN</td>\n",
       "      <td>NaN</td>\n",
       "      <td>NaN</td>\n",
       "    </tr>\n",
       "    <tr>\n",
       "      <th>4</th>\n",
       "      <td>5</td>\n",
       "      <td>5</td>\n",
       "      <td>2015-07-31</td>\n",
       "      <td>4822</td>\n",
       "      <td>559</td>\n",
       "      <td>1</td>\n",
       "      <td>1</td>\n",
       "      <td>0</td>\n",
       "      <td>1</td>\n",
       "      <td>a</td>\n",
       "      <td>a</td>\n",
       "      <td>29910.0</td>\n",
       "      <td>4.0</td>\n",
       "      <td>2015.0</td>\n",
       "      <td>0</td>\n",
       "      <td>NaN</td>\n",
       "      <td>NaN</td>\n",
       "      <td>NaN</td>\n",
       "    </tr>\n",
       "  </tbody>\n",
       "</table>\n",
       "</div>"
      ],
      "text/plain": [
       "   Store  DayOfWeek        Date  Sales  Customers  Open  Promo StateHoliday  \\\n",
       "0      1          5  2015-07-31   5263        555     1      1            0   \n",
       "1      2          5  2015-07-31   6064        625     1      1            0   \n",
       "2      3          5  2015-07-31   8314        821     1      1            0   \n",
       "3      4          5  2015-07-31  13995       1498     1      1            0   \n",
       "4      5          5  2015-07-31   4822        559     1      1            0   \n",
       "\n",
       "   SchoolHoliday StoreType Assortment  CompetitionDistance  \\\n",
       "0              1         c          a               1270.0   \n",
       "1              1         a          a                570.0   \n",
       "2              1         a          a              14130.0   \n",
       "3              1         c          c                620.0   \n",
       "4              1         a          a              29910.0   \n",
       "\n",
       "   CompetitionOpenSinceMonth  CompetitionOpenSinceYear  Promo2  \\\n",
       "0                        9.0                    2008.0       0   \n",
       "1                       11.0                    2007.0       1   \n",
       "2                       12.0                    2006.0       1   \n",
       "3                        9.0                    2009.0       0   \n",
       "4                        4.0                    2015.0       0   \n",
       "\n",
       "   Promo2SinceWeek  Promo2SinceYear    PromoInterval  \n",
       "0              NaN              NaN              NaN  \n",
       "1             13.0           2010.0  Jan,Apr,Jul,Oct  \n",
       "2             14.0           2011.0  Jan,Apr,Jul,Oct  \n",
       "3              NaN              NaN              NaN  \n",
       "4              NaN              NaN              NaN  "
      ]
     },
     "execution_count": 5,
     "metadata": {},
     "output_type": "execute_result"
    }
   ],
   "source": [
    "df_raw.head()"
   ]
  },
  {
   "cell_type": "code",
   "execution_count": 6,
   "id": "a51c9a13",
   "metadata": {
    "ExecuteTime": {
     "end_time": "2021-08-02T12:17:35.532840Z",
     "start_time": "2021-08-02T12:17:34.991312Z"
    },
    "hidden": true
   },
   "outputs": [
    {
     "data": {
      "text/html": [
       "<div>\n",
       "<style scoped>\n",
       "    .dataframe tbody tr th:only-of-type {\n",
       "        vertical-align: middle;\n",
       "    }\n",
       "\n",
       "    .dataframe tbody tr th {\n",
       "        vertical-align: top;\n",
       "    }\n",
       "\n",
       "    .dataframe thead th {\n",
       "        text-align: right;\n",
       "    }\n",
       "</style>\n",
       "<table border=\"1\" class=\"dataframe\">\n",
       "  <thead>\n",
       "    <tr style=\"text-align: right;\">\n",
       "      <th></th>\n",
       "      <th>Store</th>\n",
       "      <th>DayOfWeek</th>\n",
       "      <th>Date</th>\n",
       "      <th>Sales</th>\n",
       "      <th>Customers</th>\n",
       "      <th>Open</th>\n",
       "      <th>Promo</th>\n",
       "      <th>StateHoliday</th>\n",
       "      <th>SchoolHoliday</th>\n",
       "      <th>StoreType</th>\n",
       "      <th>Assortment</th>\n",
       "      <th>CompetitionDistance</th>\n",
       "      <th>CompetitionOpenSinceMonth</th>\n",
       "      <th>CompetitionOpenSinceYear</th>\n",
       "      <th>Promo2</th>\n",
       "      <th>Promo2SinceWeek</th>\n",
       "      <th>Promo2SinceYear</th>\n",
       "      <th>PromoInterval</th>\n",
       "    </tr>\n",
       "  </thead>\n",
       "  <tbody>\n",
       "    <tr>\n",
       "      <th>910512</th>\n",
       "      <td>343</td>\n",
       "      <td>6</td>\n",
       "      <td>2013-04-06</td>\n",
       "      <td>5863</td>\n",
       "      <td>657</td>\n",
       "      <td>1</td>\n",
       "      <td>0</td>\n",
       "      <td>0</td>\n",
       "      <td>0</td>\n",
       "      <td>d</td>\n",
       "      <td>a</td>\n",
       "      <td>18650.0</td>\n",
       "      <td>4.0</td>\n",
       "      <td>2004.0</td>\n",
       "      <td>1</td>\n",
       "      <td>14.0</td>\n",
       "      <td>2014.0</td>\n",
       "      <td>Jan,Apr,Jul,Oct</td>\n",
       "    </tr>\n",
       "    <tr>\n",
       "      <th>323782</th>\n",
       "      <td>533</td>\n",
       "      <td>1</td>\n",
       "      <td>2014-09-29</td>\n",
       "      <td>11388</td>\n",
       "      <td>1036</td>\n",
       "      <td>1</td>\n",
       "      <td>1</td>\n",
       "      <td>0</td>\n",
       "      <td>0</td>\n",
       "      <td>a</td>\n",
       "      <td>c</td>\n",
       "      <td>5950.0</td>\n",
       "      <td>NaN</td>\n",
       "      <td>NaN</td>\n",
       "      <td>0</td>\n",
       "      <td>NaN</td>\n",
       "      <td>NaN</td>\n",
       "      <td>NaN</td>\n",
       "    </tr>\n",
       "    <tr>\n",
       "      <th>501194</th>\n",
       "      <td>230</td>\n",
       "      <td>2</td>\n",
       "      <td>2014-04-08</td>\n",
       "      <td>5684</td>\n",
       "      <td>809</td>\n",
       "      <td>1</td>\n",
       "      <td>0</td>\n",
       "      <td>0</td>\n",
       "      <td>0</td>\n",
       "      <td>d</td>\n",
       "      <td>c</td>\n",
       "      <td>6680.0</td>\n",
       "      <td>9.0</td>\n",
       "      <td>2013.0</td>\n",
       "      <td>0</td>\n",
       "      <td>NaN</td>\n",
       "      <td>NaN</td>\n",
       "      <td>NaN</td>\n",
       "    </tr>\n",
       "    <tr>\n",
       "      <th>149065</th>\n",
       "      <td>771</td>\n",
       "      <td>5</td>\n",
       "      <td>2015-03-20</td>\n",
       "      <td>6652</td>\n",
       "      <td>720</td>\n",
       "      <td>1</td>\n",
       "      <td>1</td>\n",
       "      <td>0</td>\n",
       "      <td>0</td>\n",
       "      <td>a</td>\n",
       "      <td>a</td>\n",
       "      <td>20640.0</td>\n",
       "      <td>9.0</td>\n",
       "      <td>2007.0</td>\n",
       "      <td>0</td>\n",
       "      <td>NaN</td>\n",
       "      <td>NaN</td>\n",
       "      <td>NaN</td>\n",
       "    </tr>\n",
       "    <tr>\n",
       "      <th>767765</th>\n",
       "      <td>316</td>\n",
       "      <td>1</td>\n",
       "      <td>2013-08-12</td>\n",
       "      <td>14448</td>\n",
       "      <td>1252</td>\n",
       "      <td>1</td>\n",
       "      <td>1</td>\n",
       "      <td>0</td>\n",
       "      <td>1</td>\n",
       "      <td>d</td>\n",
       "      <td>a</td>\n",
       "      <td>9000.0</td>\n",
       "      <td>8.0</td>\n",
       "      <td>2001.0</td>\n",
       "      <td>0</td>\n",
       "      <td>NaN</td>\n",
       "      <td>NaN</td>\n",
       "      <td>NaN</td>\n",
       "    </tr>\n",
       "  </tbody>\n",
       "</table>\n",
       "</div>"
      ],
      "text/plain": [
       "        Store  DayOfWeek        Date  Sales  Customers  Open  Promo  \\\n",
       "910512    343          6  2013-04-06   5863        657     1      0   \n",
       "323782    533          1  2014-09-29  11388       1036     1      1   \n",
       "501194    230          2  2014-04-08   5684        809     1      0   \n",
       "149065    771          5  2015-03-20   6652        720     1      1   \n",
       "767765    316          1  2013-08-12  14448       1252     1      1   \n",
       "\n",
       "       StateHoliday  SchoolHoliday StoreType Assortment  CompetitionDistance  \\\n",
       "910512            0              0         d          a              18650.0   \n",
       "323782            0              0         a          c               5950.0   \n",
       "501194            0              0         d          c               6680.0   \n",
       "149065            0              0         a          a              20640.0   \n",
       "767765            0              1         d          a               9000.0   \n",
       "\n",
       "        CompetitionOpenSinceMonth  CompetitionOpenSinceYear  Promo2  \\\n",
       "910512                        4.0                    2004.0       1   \n",
       "323782                        NaN                       NaN       0   \n",
       "501194                        9.0                    2013.0       0   \n",
       "149065                        9.0                    2007.0       0   \n",
       "767765                        8.0                    2001.0       0   \n",
       "\n",
       "        Promo2SinceWeek  Promo2SinceYear    PromoInterval  \n",
       "910512             14.0           2014.0  Jan,Apr,Jul,Oct  \n",
       "323782              NaN              NaN              NaN  \n",
       "501194              NaN              NaN              NaN  \n",
       "149065              NaN              NaN              NaN  \n",
       "767765              NaN              NaN              NaN  "
      ]
     },
     "execution_count": 6,
     "metadata": {},
     "output_type": "execute_result"
    }
   ],
   "source": [
    "df_raw.sample(5)"
   ]
  },
  {
   "cell_type": "code",
   "execution_count": null,
   "id": "6c3829f9",
   "metadata": {
    "hidden": true
   },
   "outputs": [],
   "source": []
  },
  {
   "cell_type": "code",
   "execution_count": null,
   "id": "13a18627",
   "metadata": {
    "hidden": true
   },
   "outputs": [],
   "source": []
  },
  {
   "cell_type": "code",
   "execution_count": null,
   "id": "3763f05d",
   "metadata": {
    "hidden": true
   },
   "outputs": [],
   "source": []
  },
  {
   "cell_type": "markdown",
   "id": "86a12369",
   "metadata": {},
   "source": [
    "# 1.0. Data description"
   ]
  },
  {
   "cell_type": "markdown",
   "id": "4ca8e8db",
   "metadata": {
    "heading_collapsed": true
   },
   "source": [
    "## 1.1. Rename Columns"
   ]
  },
  {
   "cell_type": "code",
   "execution_count": 7,
   "id": "463b7239",
   "metadata": {
    "ExecuteTime": {
     "end_time": "2021-08-02T12:17:35.710081Z",
     "start_time": "2021-08-02T12:17:35.536841Z"
    },
    "hidden": true
   },
   "outputs": [],
   "source": [
    "df1 = df_raw.copy()"
   ]
  },
  {
   "cell_type": "code",
   "execution_count": 8,
   "id": "3391c5df",
   "metadata": {
    "ExecuteTime": {
     "end_time": "2021-08-02T12:17:35.736354Z",
     "start_time": "2021-08-02T12:17:35.716707Z"
    },
    "hidden": true
   },
   "outputs": [
    {
     "data": {
      "text/plain": [
       "Index(['Store', 'DayOfWeek', 'Date', 'Sales', 'Customers', 'Open', 'Promo',\n",
       "       'StateHoliday', 'SchoolHoliday', 'StoreType', 'Assortment',\n",
       "       'CompetitionDistance', 'CompetitionOpenSinceMonth',\n",
       "       'CompetitionOpenSinceYear', 'Promo2', 'Promo2SinceWeek',\n",
       "       'Promo2SinceYear', 'PromoInterval'],\n",
       "      dtype='object')"
      ]
     },
     "execution_count": 8,
     "metadata": {},
     "output_type": "execute_result"
    }
   ],
   "source": [
    "df1.columns"
   ]
  },
  {
   "cell_type": "code",
   "execution_count": 9,
   "id": "9486da60",
   "metadata": {
    "ExecuteTime": {
     "end_time": "2021-08-02T12:17:35.771353Z",
     "start_time": "2021-08-02T12:17:35.747123Z"
    },
    "hidden": true
   },
   "outputs": [
    {
     "data": {
      "text/plain": [
       "Index(['store', 'day_of_week', 'date', 'sales', 'customers', 'open', 'promo',\n",
       "       'state_holiday', 'school_holiday', 'store_type', 'assortment',\n",
       "       'competition_distance', 'competition_open_since_month',\n",
       "       'competition_open_since_year', 'promo2', 'promo2_since_week',\n",
       "       'promo2_since_year', 'promo_interval'],\n",
       "      dtype='object')"
      ]
     },
     "execution_count": 9,
     "metadata": {},
     "output_type": "execute_result"
    }
   ],
   "source": [
    "cols_old = ['Store', 'DayOfWeek', 'Date', 'Sales', 'Customers', 'Open', 'Promo',\n",
    "       'StateHoliday', 'SchoolHoliday', 'StoreType', 'Assortment',\n",
    "       'CompetitionDistance', 'CompetitionOpenSinceMonth',\n",
    "       'CompetitionOpenSinceYear', 'Promo2', 'Promo2SinceWeek',\n",
    "       'Promo2SinceYear', 'PromoInterval']\n",
    "snakecase = lambda x: inflection.underscore(x)\n",
    "\n",
    "# map returns an iterable, so it must be transformed into a list\n",
    "cols_new = list( map( snakecase, cols_old ) )\n",
    "\n",
    "# rename\n",
    "df1.columns = cols_new\n",
    "df1.columns"
   ]
  },
  {
   "cell_type": "markdown",
   "id": "42fdb919",
   "metadata": {
    "heading_collapsed": true
   },
   "source": [
    "## 1.2. Data Dimensions"
   ]
  },
  {
   "cell_type": "code",
   "execution_count": 10,
   "id": "e2104f7f",
   "metadata": {
    "ExecuteTime": {
     "end_time": "2021-08-02T12:17:35.787012Z",
     "start_time": "2021-08-02T12:17:35.780857Z"
    },
    "hidden": true
   },
   "outputs": [
    {
     "name": "stdout",
     "output_type": "stream",
     "text": [
      "number of Rows 1017209\n",
      "number of Cols 18\n"
     ]
    }
   ],
   "source": [
    "# shape gives the number of rows and columns, [] are selection wich element\n",
    "print( f\"number of Rows {df1.shape[0]}\" )\n",
    "print( f\"number of Cols {df1.shape[1]}\" )"
   ]
  },
  {
   "cell_type": "markdown",
   "id": "132c55ad",
   "metadata": {
    "heading_collapsed": true
   },
   "source": [
    "## 1.3. Data Types"
   ]
  },
  {
   "cell_type": "code",
   "execution_count": 11,
   "id": "b8204ef7",
   "metadata": {
    "ExecuteTime": {
     "end_time": "2021-08-02T12:17:35.811236Z",
     "start_time": "2021-08-02T12:17:35.796486Z"
    },
    "hidden": true
   },
   "outputs": [
    {
     "data": {
      "text/plain": [
       "store                             int64\n",
       "day_of_week                       int64\n",
       "date                             object\n",
       "sales                             int64\n",
       "customers                         int64\n",
       "open                              int64\n",
       "promo                             int64\n",
       "state_holiday                    object\n",
       "school_holiday                    int64\n",
       "store_type                       object\n",
       "assortment                       object\n",
       "competition_distance            float64\n",
       "competition_open_since_month    float64\n",
       "competition_open_since_year     float64\n",
       "promo2                            int64\n",
       "promo2_since_week               float64\n",
       "promo2_since_year               float64\n",
       "promo_interval                   object\n",
       "dtype: object"
      ]
     },
     "execution_count": 11,
     "metadata": {},
     "output_type": "execute_result"
    }
   ],
   "source": [
    "df1.dtypes"
   ]
  },
  {
   "cell_type": "code",
   "execution_count": 12,
   "id": "633dbd8c",
   "metadata": {
    "ExecuteTime": {
     "end_time": "2021-08-02T12:17:36.122475Z",
     "start_time": "2021-08-02T12:17:35.816234Z"
    },
    "hidden": true
   },
   "outputs": [
    {
     "data": {
      "text/plain": [
       "store                                    int64\n",
       "day_of_week                              int64\n",
       "date                            datetime64[ns]\n",
       "sales                                    int64\n",
       "customers                                int64\n",
       "open                                     int64\n",
       "promo                                    int64\n",
       "state_holiday                           object\n",
       "school_holiday                           int64\n",
       "store_type                              object\n",
       "assortment                              object\n",
       "competition_distance                   float64\n",
       "competition_open_since_month           float64\n",
       "competition_open_since_year            float64\n",
       "promo2                                   int64\n",
       "promo2_since_week                      float64\n",
       "promo2_since_year                      float64\n",
       "promo_interval                          object\n",
       "dtype: object"
      ]
     },
     "execution_count": 12,
     "metadata": {},
     "output_type": "execute_result"
    }
   ],
   "source": [
    "# change date col type from object to datetime64\n",
    "df1[\"date\"] = pd.to_datetime( df1[\"date\"] )\n",
    "\n",
    "df1.dtypes"
   ]
  },
  {
   "cell_type": "markdown",
   "id": "93914559",
   "metadata": {
    "heading_collapsed": true
   },
   "source": [
    "## 1.4. Check NA"
   ]
  },
  {
   "cell_type": "code",
   "execution_count": 13,
   "id": "f29e844a",
   "metadata": {
    "ExecuteTime": {
     "end_time": "2021-08-02T12:17:36.386062Z",
     "start_time": "2021-08-02T12:17:36.125597Z"
    },
    "hidden": true
   },
   "outputs": [
    {
     "data": {
      "text/plain": [
       "store                                0\n",
       "day_of_week                          0\n",
       "date                                 0\n",
       "sales                                0\n",
       "customers                            0\n",
       "open                                 0\n",
       "promo                                0\n",
       "state_holiday                        0\n",
       "school_holiday                       0\n",
       "store_type                           0\n",
       "assortment                           0\n",
       "competition_distance              2642\n",
       "competition_open_since_month    323348\n",
       "competition_open_since_year     323348\n",
       "promo2                               0\n",
       "promo2_since_week               508031\n",
       "promo2_since_year               508031\n",
       "promo_interval                  508031\n",
       "dtype: int64"
      ]
     },
     "execution_count": 13,
     "metadata": {},
     "output_type": "execute_result"
    }
   ],
   "source": [
    "# .isna substitutes every value according to: value = na -> true, value != na -> false\n",
    "# .sum in this case adds all the trues\n",
    "df1.isna().sum()"
   ]
  },
  {
   "cell_type": "markdown",
   "id": "dfc60e99",
   "metadata": {
    "heading_collapsed": true
   },
   "source": [
    "## 1.5. Fill NA"
   ]
  },
  {
   "cell_type": "markdown",
   "id": "7f631e25",
   "metadata": {
    "hidden": true
   },
   "source": [
    "There are 3 different ways to handle NA's  \n",
    "    1 - Delete every row that has one  \n",
    "        Downside: it loses a lot of valuable data alongside  \n",
    "    2 - Use Machine Learning algorithms to predict wich values wold be in NA places  \n",
    "    3 - Understand the business"
   ]
  },
  {
   "cell_type": "markdown",
   "id": "7ca57a90",
   "metadata": {
    "ExecuteTime": {
     "end_time": "2021-07-23T22:58:53.662447Z",
     "start_time": "2021-07-23T22:58:53.657692Z"
    },
    "hidden": true
   },
   "source": [
    "### 1.5.1 competition_distance"
   ]
  },
  {
   "cell_type": "markdown",
   "id": "6a5bd0cd",
   "metadata": {
    "hidden": true
   },
   "source": [
    "in this case I am using the third approach writen abbove:  \n",
    "if there is an NA it is because there's no competition nearby  \n",
    "therefore I will substitute every NA by a very large value, much greater than the max natural value"
   ]
  },
  {
   "cell_type": "code",
   "execution_count": 14,
   "id": "9b0291c5",
   "metadata": {
    "ExecuteTime": {
     "end_time": "2021-08-02T12:17:36.405835Z",
     "start_time": "2021-08-02T12:17:36.389802Z"
    },
    "hidden": true
   },
   "outputs": [
    {
     "data": {
      "text/plain": [
       "75860.0"
      ]
     },
     "execution_count": 14,
     "metadata": {},
     "output_type": "execute_result"
    }
   ],
   "source": [
    "\n",
    "df1[\"competition_distance\"].max()\n"
   ]
  },
  {
   "cell_type": "code",
   "execution_count": 15,
   "id": "a5c63df7",
   "metadata": {
    "ExecuteTime": {
     "end_time": "2021-08-02T12:17:36.855992Z",
     "start_time": "2021-08-02T12:17:36.408374Z"
    },
    "hidden": true
   },
   "outputs": [
    {
     "data": {
      "text/plain": [
       "200000.0"
      ]
     },
     "execution_count": 15,
     "metadata": {},
     "output_type": "execute_result"
    }
   ],
   "source": [
    "df1[\"competition_distance\"] = df1[\"competition_distance\"].apply( lambda x: 200000.0 if math.isnan(x) else x )\n",
    "\n",
    "df1[\"competition_distance\"].max()"
   ]
  },
  {
   "cell_type": "markdown",
   "id": "8de45404",
   "metadata": {
    "hidden": true
   },
   "source": [
    "### 1.5.2 competition_open_since_month"
   ]
  },
  {
   "cell_type": "markdown",
   "id": "da972400",
   "metadata": {
    "hidden": true
   },
   "source": [
    "In this particular case, with the engeneering future process in mind, I will take into account that this date is going to show how the stores were impacted by the opening of competidors.  \n",
    "This NA might exist because there is no competition around the store or that there is competition but there is really no data regarding it's opening.  \n",
    "I am going to substitute the NA by the month that the store itself opened, not the competidor. It is an artifitial substitution, but is a try. I am going to know if this works in the end, looking at the model created by the machine learnig algorithm. If it does not wields a good result, it is OK, I am going to try to make something different, that's just a beginning"
   ]
  },
  {
   "cell_type": "code",
   "execution_count": 16,
   "id": "c6eee8c3",
   "metadata": {
    "ExecuteTime": {
     "end_time": "2021-08-02T12:18:00.325186Z",
     "start_time": "2021-08-02T12:17:36.858836Z"
    },
    "hidden": true
   },
   "outputs": [],
   "source": [
    "\n",
    "df1[\"competition_open_since_month\"] = df1.apply( lambda x: x[\"date\"].month if math.isnan(x[\"competition_open_since_month\"]) else x[\"competition_open_since_month\"], axis=1 )\n"
   ]
  },
  {
   "cell_type": "markdown",
   "id": "478bd032",
   "metadata": {
    "hidden": true
   },
   "source": [
    "### 1.5.3 competition_open_since_year"
   ]
  },
  {
   "cell_type": "markdown",
   "id": "b7e03ac8",
   "metadata": {
    "hidden": true
   },
   "source": [
    "Same principle as in the previous section"
   ]
  },
  {
   "cell_type": "code",
   "execution_count": 17,
   "id": "454e048f",
   "metadata": {
    "ExecuteTime": {
     "end_time": "2021-08-02T12:18:21.153391Z",
     "start_time": "2021-08-02T12:18:00.327199Z"
    },
    "hidden": true
   },
   "outputs": [],
   "source": [
    "\n",
    "df1[\"competition_open_since_year\"] = df1.apply( lambda x: x[\"date\"].year if math.isnan(x[\"competition_open_since_year\"]) else x[\"competition_open_since_year\"], axis=1 )\n"
   ]
  },
  {
   "cell_type": "markdown",
   "id": "2f33f154",
   "metadata": {
    "hidden": true
   },
   "source": [
    "### 1.5.4 promo2_since_week"
   ]
  },
  {
   "cell_type": "markdown",
   "id": "7dd92cf4",
   "metadata": {
    "hidden": true
   },
   "source": [
    "Same as previous sections"
   ]
  },
  {
   "cell_type": "code",
   "execution_count": 18,
   "id": "f53f858d",
   "metadata": {
    "ExecuteTime": {
     "end_time": "2021-08-02T12:18:42.206516Z",
     "start_time": "2021-08-02T12:18:21.155514Z"
    },
    "hidden": true
   },
   "outputs": [],
   "source": [
    "\n",
    "df1[\"promo2_since_week\"] = df1.apply( lambda x: x[\"date\"].week if math.isnan(x[\"promo2_since_week\"]) else x[\"promo2_since_week\"], axis=1 )\n"
   ]
  },
  {
   "cell_type": "markdown",
   "id": "d535b614",
   "metadata": {
    "hidden": true
   },
   "source": [
    "### 1.5.5 promo2_since_year"
   ]
  },
  {
   "cell_type": "markdown",
   "id": "794ed8ff",
   "metadata": {
    "hidden": true
   },
   "source": [
    "Same as previous sections"
   ]
  },
  {
   "cell_type": "code",
   "execution_count": 19,
   "id": "e993c457",
   "metadata": {
    "ExecuteTime": {
     "end_time": "2021-08-02T12:19:03.104776Z",
     "start_time": "2021-08-02T12:18:42.208377Z"
    },
    "hidden": true
   },
   "outputs": [],
   "source": [
    "\n",
    "df1[\"promo2_since_year\"] = df1.apply( lambda x: x[\"date\"].year if math.isnan(x[\"promo2_since_year\"]) else x[\"promo2_since_year\"], axis=1 )\n"
   ]
  },
  {
   "cell_type": "markdown",
   "id": "9eaa03f4",
   "metadata": {
    "ExecuteTime": {
     "end_time": "2021-07-28T14:18:50.276128Z",
     "start_time": "2021-07-28T14:18:50.276086Z"
    },
    "hidden": true
   },
   "source": [
    "### 1.5.6 promo_interval"
   ]
  },
  {
   "cell_type": "markdown",
   "id": "337a4385",
   "metadata": {
    "hidden": true
   },
   "source": [
    "Is a string containing months that have fixed promotions.  \n",
    "To use this information better I am going to create a helper column, curr_month, and a new column is_promo2 that tells me if any promo2 is active in the current month. To remove the NA's in promo_interval I am simply going to substitute them for 0"
   ]
  },
  {
   "cell_type": "code",
   "execution_count": 20,
   "id": "0235a37f",
   "metadata": {
    "ExecuteTime": {
     "end_time": "2021-08-02T12:19:18.987623Z",
     "start_time": "2021-08-02T12:19:03.107160Z"
    },
    "hidden": true
   },
   "outputs": [],
   "source": [
    "# substitute all na's by 0 not returning anything (inplace=True) to make the subsequent comparison easier\n",
    "df1[\"promo_interval\"].fillna(0, inplace=True)\n",
    "\n",
    "# create a map that will help trace each month to it's correspondent name abreviation\n",
    "month_map = {1: \"Jan\", 2: \"Feb\", 3: \"Mar\", 4: \"Apr\", 5: \"May\", 6: \"Jun\", 7: \"Jul\", 8: \"Aug\", 9: \"Sep\", 8: \"Oct\", 9: \"Nov\", 10: \"Dec\", 11: \"Nov\", 12: \"Dec\"}\n",
    "\n",
    "# make a column that shows the current mont name, not number\n",
    "df1[\"curr_month\"] = df1[\"date\"].dt.month.map( month_map )\n",
    "\n",
    "# helper function that will be given to apply\n",
    "def in_promo_interval(x):\n",
    "    if x[\"promo_interval\"] == 0:\n",
    "        return 0\n",
    "    elif x[\"curr_month\"] in x[\"promo_interval\"].split(\",\"):\n",
    "        return 1\n",
    "    else:\n",
    "        return 0\n",
    "\n",
    "# is_promo2 will tell if there is a promo2 going on the current date, axis=1 to apply by row in all columns\n",
    "df1[\"is_promo2\"] = df1[[\"promo_interval\", \"curr_month\"]].apply(in_promo_interval, axis=1)\n"
   ]
  },
  {
   "cell_type": "code",
   "execution_count": 21,
   "id": "d0cea2d6",
   "metadata": {
    "ExecuteTime": {
     "end_time": "2021-08-02T12:19:19.307941Z",
     "start_time": "2021-08-02T12:19:18.990022Z"
    },
    "hidden": true
   },
   "outputs": [
    {
     "data": {
      "text/plain": [
       "store                           0\n",
       "day_of_week                     0\n",
       "date                            0\n",
       "sales                           0\n",
       "customers                       0\n",
       "open                            0\n",
       "promo                           0\n",
       "state_holiday                   0\n",
       "school_holiday                  0\n",
       "store_type                      0\n",
       "assortment                      0\n",
       "competition_distance            0\n",
       "competition_open_since_month    0\n",
       "competition_open_since_year     0\n",
       "promo2                          0\n",
       "promo2_since_week               0\n",
       "promo2_since_year               0\n",
       "promo_interval                  0\n",
       "curr_month                      0\n",
       "is_promo2                       0\n",
       "dtype: int64"
      ]
     },
     "execution_count": 21,
     "metadata": {},
     "output_type": "execute_result"
    }
   ],
   "source": [
    "df1.isna().sum()"
   ]
  },
  {
   "cell_type": "markdown",
   "id": "3d9ea472",
   "metadata": {},
   "source": [
    "## 1.6. Change types"
   ]
  },
  {
   "cell_type": "code",
   "execution_count": 22,
   "id": "e784db3a",
   "metadata": {
    "ExecuteTime": {
     "end_time": "2021-08-02T12:19:19.319720Z",
     "start_time": "2021-08-02T12:19:19.310643Z"
    }
   },
   "outputs": [
    {
     "data": {
      "text/plain": [
       "store                                    int64\n",
       "day_of_week                              int64\n",
       "date                            datetime64[ns]\n",
       "sales                                    int64\n",
       "customers                                int64\n",
       "open                                     int64\n",
       "promo                                    int64\n",
       "state_holiday                           object\n",
       "school_holiday                           int64\n",
       "store_type                              object\n",
       "assortment                              object\n",
       "competition_distance                   float64\n",
       "competition_open_since_month           float64\n",
       "competition_open_since_year            float64\n",
       "promo2                                   int64\n",
       "promo2_since_week                      float64\n",
       "promo2_since_year                      float64\n",
       "promo_interval                          object\n",
       "curr_month                              object\n",
       "is_promo2                                int64\n",
       "dtype: object"
      ]
     },
     "execution_count": 22,
     "metadata": {},
     "output_type": "execute_result"
    }
   ],
   "source": [
    "# every time you perform actions that change the data on the dataframe it is worthy to take another look at the\n",
    "# types\n",
    "df1.dtypes"
   ]
  },
  {
   "cell_type": "code",
   "execution_count": 23,
   "id": "7d333c70",
   "metadata": {
    "ExecuteTime": {
     "end_time": "2021-08-02T12:19:19.424157Z",
     "start_time": "2021-08-02T12:19:19.324511Z"
    }
   },
   "outputs": [],
   "source": [
    "# change float64 to int\n",
    "df1[\"competition_open_since_month\"] = df1[\"competition_open_since_month\"].astype( int )\n",
    "df1[\"competition_open_since_year\"] = df1[\"competition_open_since_year\"].astype( int )\n",
    "df1[\"promo2_since_week\"] = df1[\"promo2_since_week\"].astype( int )\n",
    "df1[\"promo2_since_year\"] = df1[\"promo2_since_year\"].astype( int )"
   ]
  },
  {
   "cell_type": "code",
   "execution_count": 24,
   "id": "310d35ce",
   "metadata": {
    "ExecuteTime": {
     "end_time": "2021-08-02T12:19:19.441668Z",
     "start_time": "2021-08-02T12:19:19.427012Z"
    }
   },
   "outputs": [
    {
     "data": {
      "text/plain": [
       "store                                    int64\n",
       "day_of_week                              int64\n",
       "date                            datetime64[ns]\n",
       "sales                                    int64\n",
       "customers                                int64\n",
       "open                                     int64\n",
       "promo                                    int64\n",
       "state_holiday                           object\n",
       "school_holiday                           int64\n",
       "store_type                              object\n",
       "assortment                              object\n",
       "competition_distance                   float64\n",
       "competition_open_since_month             int64\n",
       "competition_open_since_year              int64\n",
       "promo2                                   int64\n",
       "promo2_since_week                        int64\n",
       "promo2_since_year                        int64\n",
       "promo_interval                          object\n",
       "curr_month                              object\n",
       "is_promo2                                int64\n",
       "dtype: object"
      ]
     },
     "execution_count": 24,
     "metadata": {},
     "output_type": "execute_result"
    }
   ],
   "source": [
    "df1.dtypes"
   ]
  },
  {
   "cell_type": "markdown",
   "id": "590a56eb",
   "metadata": {},
   "source": [
    "## 1.7. Descriptive Statistics"
   ]
  },
  {
   "cell_type": "code",
   "execution_count": 25,
   "id": "0c25368e",
   "metadata": {
    "ExecuteTime": {
     "end_time": "2021-08-02T12:19:19.679500Z",
     "start_time": "2021-08-02T12:19:19.445505Z"
    }
   },
   "outputs": [],
   "source": [
    "# divide numerical variables from categorical\n",
    "num_attributes = df1.select_dtypes( include=[\"int64\", \"float64\"] )\n",
    "cat_attributes = df1.select_dtypes( exclude=[\"int64\", \"float64\", \"datetime64[ns]\"] )"
   ]
  },
  {
   "cell_type": "markdown",
   "id": "d9037be1",
   "metadata": {},
   "source": [
    "### 1.7.1. Numerical attributes"
   ]
  },
  {
   "cell_type": "code",
   "execution_count": 26,
   "id": "70c49274",
   "metadata": {
    "ExecuteTime": {
     "end_time": "2021-08-02T12:19:23.401171Z",
     "start_time": "2021-08-02T12:19:19.683093Z"
    }
   },
   "outputs": [
    {
     "data": {
      "text/html": [
       "<div>\n",
       "<style scoped>\n",
       "    .dataframe tbody tr th:only-of-type {\n",
       "        vertical-align: middle;\n",
       "    }\n",
       "\n",
       "    .dataframe tbody tr th {\n",
       "        vertical-align: top;\n",
       "    }\n",
       "\n",
       "    .dataframe thead th {\n",
       "        text-align: right;\n",
       "    }\n",
       "</style>\n",
       "<table border=\"1\" class=\"dataframe\">\n",
       "  <thead>\n",
       "    <tr style=\"text-align: right;\">\n",
       "      <th></th>\n",
       "      <th>attributes</th>\n",
       "      <th>min</th>\n",
       "      <th>max</th>\n",
       "      <th>range</th>\n",
       "      <th>mean</th>\n",
       "      <th>median</th>\n",
       "      <th>std</th>\n",
       "      <th>skew</th>\n",
       "      <th>kurtosis</th>\n",
       "    </tr>\n",
       "  </thead>\n",
       "  <tbody>\n",
       "    <tr>\n",
       "      <th>0</th>\n",
       "      <td>store</td>\n",
       "      <td>1.0</td>\n",
       "      <td>1115.0</td>\n",
       "      <td>1114.0</td>\n",
       "      <td>558.429727</td>\n",
       "      <td>558.0</td>\n",
       "      <td>321.908493</td>\n",
       "      <td>-0.000955</td>\n",
       "      <td>-1.200524</td>\n",
       "    </tr>\n",
       "    <tr>\n",
       "      <th>1</th>\n",
       "      <td>day_of_week</td>\n",
       "      <td>1.0</td>\n",
       "      <td>7.0</td>\n",
       "      <td>6.0</td>\n",
       "      <td>3.998341</td>\n",
       "      <td>4.0</td>\n",
       "      <td>1.997390</td>\n",
       "      <td>0.001593</td>\n",
       "      <td>-1.246873</td>\n",
       "    </tr>\n",
       "    <tr>\n",
       "      <th>2</th>\n",
       "      <td>sales</td>\n",
       "      <td>0.0</td>\n",
       "      <td>41551.0</td>\n",
       "      <td>41551.0</td>\n",
       "      <td>5773.818972</td>\n",
       "      <td>5744.0</td>\n",
       "      <td>3849.924283</td>\n",
       "      <td>0.641460</td>\n",
       "      <td>1.778375</td>\n",
       "    </tr>\n",
       "    <tr>\n",
       "      <th>3</th>\n",
       "      <td>customers</td>\n",
       "      <td>0.0</td>\n",
       "      <td>7388.0</td>\n",
       "      <td>7388.0</td>\n",
       "      <td>633.145946</td>\n",
       "      <td>609.0</td>\n",
       "      <td>464.411506</td>\n",
       "      <td>1.598650</td>\n",
       "      <td>7.091773</td>\n",
       "    </tr>\n",
       "    <tr>\n",
       "      <th>4</th>\n",
       "      <td>open</td>\n",
       "      <td>0.0</td>\n",
       "      <td>1.0</td>\n",
       "      <td>1.0</td>\n",
       "      <td>0.830107</td>\n",
       "      <td>1.0</td>\n",
       "      <td>0.375539</td>\n",
       "      <td>-1.758045</td>\n",
       "      <td>1.090723</td>\n",
       "    </tr>\n",
       "    <tr>\n",
       "      <th>5</th>\n",
       "      <td>promo</td>\n",
       "      <td>0.0</td>\n",
       "      <td>1.0</td>\n",
       "      <td>1.0</td>\n",
       "      <td>0.381515</td>\n",
       "      <td>0.0</td>\n",
       "      <td>0.485758</td>\n",
       "      <td>0.487838</td>\n",
       "      <td>-1.762018</td>\n",
       "    </tr>\n",
       "    <tr>\n",
       "      <th>6</th>\n",
       "      <td>school_holiday</td>\n",
       "      <td>0.0</td>\n",
       "      <td>1.0</td>\n",
       "      <td>1.0</td>\n",
       "      <td>0.178647</td>\n",
       "      <td>0.0</td>\n",
       "      <td>0.383056</td>\n",
       "      <td>1.677842</td>\n",
       "      <td>0.815154</td>\n",
       "    </tr>\n",
       "    <tr>\n",
       "      <th>7</th>\n",
       "      <td>competition_distance</td>\n",
       "      <td>20.0</td>\n",
       "      <td>200000.0</td>\n",
       "      <td>199980.0</td>\n",
       "      <td>5935.442677</td>\n",
       "      <td>2330.0</td>\n",
       "      <td>12547.646829</td>\n",
       "      <td>10.242344</td>\n",
       "      <td>147.789712</td>\n",
       "    </tr>\n",
       "    <tr>\n",
       "      <th>8</th>\n",
       "      <td>competition_open_since_month</td>\n",
       "      <td>1.0</td>\n",
       "      <td>12.0</td>\n",
       "      <td>11.0</td>\n",
       "      <td>6.786849</td>\n",
       "      <td>7.0</td>\n",
       "      <td>3.311085</td>\n",
       "      <td>-0.042076</td>\n",
       "      <td>-1.232607</td>\n",
       "    </tr>\n",
       "    <tr>\n",
       "      <th>9</th>\n",
       "      <td>competition_open_since_year</td>\n",
       "      <td>1900.0</td>\n",
       "      <td>2015.0</td>\n",
       "      <td>115.0</td>\n",
       "      <td>2010.324840</td>\n",
       "      <td>2012.0</td>\n",
       "      <td>5.515591</td>\n",
       "      <td>-7.235657</td>\n",
       "      <td>124.071304</td>\n",
       "    </tr>\n",
       "    <tr>\n",
       "      <th>10</th>\n",
       "      <td>promo2</td>\n",
       "      <td>0.0</td>\n",
       "      <td>1.0</td>\n",
       "      <td>1.0</td>\n",
       "      <td>0.500564</td>\n",
       "      <td>1.0</td>\n",
       "      <td>0.500000</td>\n",
       "      <td>-0.002255</td>\n",
       "      <td>-1.999999</td>\n",
       "    </tr>\n",
       "    <tr>\n",
       "      <th>11</th>\n",
       "      <td>promo2_since_week</td>\n",
       "      <td>1.0</td>\n",
       "      <td>52.0</td>\n",
       "      <td>51.0</td>\n",
       "      <td>23.619033</td>\n",
       "      <td>22.0</td>\n",
       "      <td>14.310057</td>\n",
       "      <td>0.178723</td>\n",
       "      <td>-1.184046</td>\n",
       "    </tr>\n",
       "    <tr>\n",
       "      <th>12</th>\n",
       "      <td>promo2_since_year</td>\n",
       "      <td>2009.0</td>\n",
       "      <td>2015.0</td>\n",
       "      <td>6.0</td>\n",
       "      <td>2012.793297</td>\n",
       "      <td>2013.0</td>\n",
       "      <td>1.662657</td>\n",
       "      <td>-0.784436</td>\n",
       "      <td>-0.210075</td>\n",
       "    </tr>\n",
       "    <tr>\n",
       "      <th>13</th>\n",
       "      <td>is_promo2</td>\n",
       "      <td>0.0</td>\n",
       "      <td>1.0</td>\n",
       "      <td>1.0</td>\n",
       "      <td>0.171796</td>\n",
       "      <td>0.0</td>\n",
       "      <td>0.377203</td>\n",
       "      <td>1.740205</td>\n",
       "      <td>1.028314</td>\n",
       "    </tr>\n",
       "  </tbody>\n",
       "</table>\n",
       "</div>"
      ],
      "text/plain": [
       "                      attributes     min       max     range         mean  \\\n",
       "0                          store     1.0    1115.0    1114.0   558.429727   \n",
       "1                    day_of_week     1.0       7.0       6.0     3.998341   \n",
       "2                          sales     0.0   41551.0   41551.0  5773.818972   \n",
       "3                      customers     0.0    7388.0    7388.0   633.145946   \n",
       "4                           open     0.0       1.0       1.0     0.830107   \n",
       "5                          promo     0.0       1.0       1.0     0.381515   \n",
       "6                 school_holiday     0.0       1.0       1.0     0.178647   \n",
       "7           competition_distance    20.0  200000.0  199980.0  5935.442677   \n",
       "8   competition_open_since_month     1.0      12.0      11.0     6.786849   \n",
       "9    competition_open_since_year  1900.0    2015.0     115.0  2010.324840   \n",
       "10                        promo2     0.0       1.0       1.0     0.500564   \n",
       "11             promo2_since_week     1.0      52.0      51.0    23.619033   \n",
       "12             promo2_since_year  2009.0    2015.0       6.0  2012.793297   \n",
       "13                     is_promo2     0.0       1.0       1.0     0.171796   \n",
       "\n",
       "    median           std       skew    kurtosis  \n",
       "0    558.0    321.908493  -0.000955   -1.200524  \n",
       "1      4.0      1.997390   0.001593   -1.246873  \n",
       "2   5744.0   3849.924283   0.641460    1.778375  \n",
       "3    609.0    464.411506   1.598650    7.091773  \n",
       "4      1.0      0.375539  -1.758045    1.090723  \n",
       "5      0.0      0.485758   0.487838   -1.762018  \n",
       "6      0.0      0.383056   1.677842    0.815154  \n",
       "7   2330.0  12547.646829  10.242344  147.789712  \n",
       "8      7.0      3.311085  -0.042076   -1.232607  \n",
       "9   2012.0      5.515591  -7.235657  124.071304  \n",
       "10     1.0      0.500000  -0.002255   -1.999999  \n",
       "11    22.0     14.310057   0.178723   -1.184046  \n",
       "12  2013.0      1.662657  -0.784436   -0.210075  \n",
       "13     0.0      0.377203   1.740205    1.028314  "
      ]
     },
     "execution_count": 26,
     "metadata": {},
     "output_type": "execute_result"
    }
   ],
   "source": [
    "# Central Tendency - mean, median\n",
    "ct1 = pd.DataFrame( num_attributes.apply( np.mean ) ).T\n",
    "ct2 = pd.DataFrame( num_attributes.apply( np.median ) ).T\n",
    "\n",
    "# Dispersiom - std, min, max, range, skew, kurtosis\n",
    "# skew is how much skewed is a graph in relation to a normal distribution\n",
    "# kurtosis is how concentrated or not are the values - high values => more concentrated => sharper peak\n",
    "d1 = pd.DataFrame( num_attributes.apply( np.std ) ).T\n",
    "d2 = pd.DataFrame( num_attributes.apply( min ) ).T\n",
    "d3 = pd.DataFrame( num_attributes.apply( max ) ).T\n",
    "d4 = pd.DataFrame( num_attributes.apply(lambda x: x.max() - x.min() ) ).T\n",
    "d5 = pd.DataFrame( num_attributes.apply(lambda x: x.skew() ) ).T\n",
    "d6 = pd.DataFrame( num_attributes.apply(lambda x: x.kurtosis() ) ).T\n",
    "\n",
    "m = pd.concat([d2, d3, d4, ct1, ct2, d1, d5, d6]).T.reset_index()\n",
    "m.columns = [\"attributes\", \"min\", \"max\", \"range\", \"mean\", \"median\", \"std\", \"skew\", \"kurtosis\"]\n",
    "\n",
    "m"
   ]
  },
  {
   "cell_type": "code",
   "execution_count": 27,
   "id": "095b5bb4",
   "metadata": {
    "ExecuteTime": {
     "end_time": "2021-08-02T12:19:30.796817Z",
     "start_time": "2021-08-02T12:19:23.403416Z"
    }
   },
   "outputs": [
    {
     "data": {
      "image/png": "[encoded data removed]",
      "text/plain": [
       "<Figure size 1008x648 with 1 Axes>"
      ]
     },
     "metadata": {},
     "output_type": "display_data"
    }
   ],
   "source": [
    "# notice that the huge kurtosis indicates that there is a big peak in the graph\n",
    "# and that the great positive skew indicates that there is a deformation to the right\n",
    "\n",
    "cd_plot = sns.histplot( df1[\"competition_distance\"], kde=True )\n"
   ]
  },
  {
   "cell_type": "markdown",
   "id": "9bb03bc9",
   "metadata": {},
   "source": [
    "### 1.7.2 Categorical attributes"
   ]
  },
  {
   "cell_type": "code",
   "execution_count": 29,
   "id": "8d514652",
   "metadata": {
    "ExecuteTime": {
     "end_time": "2021-08-02T12:19:36.637966Z",
     "start_time": "2021-08-02T12:19:36.348563Z"
    }
   },
   "outputs": [
    {
     "data": {
      "text/plain": [
       "state_holiday      4\n",
       "store_type         4\n",
       "assortment         3\n",
       "promo_interval     4\n",
       "curr_month        10\n",
       "dtype: int64"
      ]
     },
     "execution_count": 29,
     "metadata": {},
     "output_type": "execute_result"
    }
   ],
   "source": [
    "# how many unique attributes\n",
    "cat_attributes.apply(lambda x: x.unique().shape[0])"
   ]
  },
  {
   "cell_type": "code",
   "execution_count": 30,
   "id": "83b0909b",
   "metadata": {
    "ExecuteTime": {
     "end_time": "2021-08-02T12:19:37.425940Z",
     "start_time": "2021-08-02T12:19:36.644239Z"
    }
   },
   "outputs": [
    {
     "data": {
      "text/plain": [
       "<AxesSubplot:xlabel='assortment', ylabel='sales'>"
      ]
     },
     "execution_count": 30,
     "metadata": {},
     "output_type": "execute_result"
    },
    {
     "data": {
      "image/png": "[encoded data removed]",
      "text/plain": [
       "<Figure size 1008x648 with 3 Axes>"
      ]
     },
     "metadata": {},
     "output_type": "display_data"
    }
   ],
   "source": [
    "# filtering out the days that had not have holidays (0) and the sales that were 0, the data that happend in days\n",
    "# that the stores were closed, possibly that closed during the holiday\n",
    "aux1 = df1[(df1[\"state_holiday\"] != \"0\") & (df1[\"sales\"] > 0)]\n",
    "\n",
    "# plt.subplot to separete the screen and 1, 3, 1 => 1 line, 3 columns, this one in the first position\n",
    "plt.subplot(1, 3, 1)\n",
    "sns.boxplot( x=\"state_holiday\", y=\"sales\", data=aux1)\n",
    "\n",
    "plt.subplot(1, 3, 2)\n",
    "sns.boxplot( x=\"store_type\", y=\"sales\", data=aux1)\n",
    "\n",
    "plt.subplot(1, 3, 3)\n",
    "sns.boxplot( x=\"assortment\", y=\"sales\", data=aux1)"
   ]
  },
  {
   "cell_type": "code",
   "execution_count": null,
   "id": "65f0753b",
   "metadata": {},
   "outputs": [],
   "source": []
  },
  {
   "cell_type": "code",
   "execution_count": null,
   "id": "9f793bfa",
   "metadata": {},
   "outputs": [],
   "source": []
  },
  {
   "cell_type": "code",
   "execution_count": null,
   "id": "6c27ee1b",
   "metadata": {},
   "outputs": [],
   "source": []
  },
  {
   "cell_type": "code",
   "execution_count": null,
   "id": "31cda39e",
   "metadata": {},
   "outputs": [],
   "source": []
  },
  {
   "cell_type": "code",
   "execution_count": null,
   "id": "afe2c9c6",
   "metadata": {},
   "outputs": [],
   "source": []
  },
  {
   "cell_type": "code",
   "execution_count": null,
   "id": "600b3945",
   "metadata": {},
   "outputs": [],
   "source": []
  },
  {
   "cell_type": "code",
   "execution_count": null,
   "id": "37c0ce0a",
   "metadata": {},
   "outputs": [],
   "source": []
  },
  {
   "cell_type": "code",
   "execution_count": null,
   "id": "116f7160",
   "metadata": {},
   "outputs": [],
   "source": []
  },
  {
   "cell_type": "code",
   "execution_count": null,
   "id": "8460da84",
   "metadata": {},
   "outputs": [],
   "source": []
  },
  {
   "cell_type": "code",
   "execution_count": null,
   "id": "5b35aa8a",
   "metadata": {},
   "outputs": [],
   "source": []
  },
  {
   "cell_type": "code",
   "execution_count": null,
   "id": "e878523d",
   "metadata": {},
   "outputs": [],
   "source": []
  },
  {
   "cell_type": "code",
   "execution_count": null,
   "id": "5ae8041d",
   "metadata": {},
   "outputs": [],
   "source": []
  }
 ],
 "metadata": {
  "kernelspec": {
   "display_name": "Python 3 (ipykernel)",
   "language": "python",
   "name": "python3"
  },
  "language_info": {
   "codemirror_mode": {
    "name": "ipython",
    "version": 3
   },
   "file_extension": ".py",
   "mimetype": "text/x-python",
   "name": "python",
   "nbconvert_exporter": "python",
   "pygments_lexer": "ipython3",
   "version": "3.9.6"
  }
 },
 "nbformat": 4,
 "nbformat_minor": 5
}
